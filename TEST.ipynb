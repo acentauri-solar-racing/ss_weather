{
 "cells": [
  {
   "cell_type": "code",
   "execution_count": 1,
   "metadata": {},
   "outputs": [
    {
     "name": "stdout",
     "output_type": "stream",
     "text": [
      "Response status from siteinfo: OK.\n",
      "Current sites' info has been retrieved:\n",
      "        name  longitude  latitude  altitude      UTC_offset\n",
      "site_id                                                    \n",
      "587785     0    135.701  -30.9171       134 0 days 10:30:00\n",
      "587786     1    135.715  -30.9306       137 0 days 10:30:00\n",
      "587787     2    135.730  -30.9428       150 0 days 10:30:00\n",
      "587788     3    135.742  -30.9575       151 0 days 10:30:00\n",
      "587789     4    135.751  -30.9738       144 0 days 10:30:00\n",
      "587790     5    135.758  -30.9907       153 0 days 10:30:00\n",
      "587791     6    135.771  -31.0047       156 0 days 10:30:00\n",
      "587792     7    135.788  -31.0156       171 0 days 10:30:00\n",
      "587793     8    135.803  -31.0284       177 0 days 10:30:00\n",
      "587794     9    135.817  -31.0411       179 0 days 10:30:00\n"
     ]
    }
   ],
   "source": [
    "from api_executer import ApiExecuter\n",
    "from api_requester import ApiRequester\n",
    "from api_parser import ApiParser\n",
    "\n",
    "api_parser = ApiParser()\n",
    "api_requester = ApiRequester(parser=api_parser, print_is_requested=True)\n",
    "api_executer = ApiExecuter(requester=api_requester)\n",
    "\n",
    "#TODO INTERNET CHECK OUTPUT"
   ]
  },
  {
   "cell_type": "code",
   "execution_count": 3,
   "metadata": {},
   "outputs": [
    {
     "name": "stdout",
     "output_type": "stream",
     "text": [
      "No internet connection.\n",
      "None\n"
     ]
    }
   ],
   "source": [
    "raw_forecast_df = api_requester.get_solar_forecast()\n",
    "# raw_forecast_df = api_requester.get_solar_forecast_cloudmove()\n",
    "print(raw_forecast_df)"
   ]
  },
  {
   "cell_type": "markdown",
   "metadata": {},
   "source": []
  }
 ],
 "metadata": {
  "kernelspec": {
   "display_name": "Python 3",
   "language": "python",
   "name": "python3"
  },
  "language_info": {
   "codemirror_mode": {
    "name": "ipython",
    "version": 3
   },
   "file_extension": ".py",
   "mimetype": "text/x-python",
   "name": "python",
   "nbconvert_exporter": "python",
   "pygments_lexer": "ipython3",
   "version": "3.11.5"
  },
  "orig_nbformat": 4
 },
 "nbformat": 4,
 "nbformat_minor": 2
}
