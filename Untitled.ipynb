{
 "cells": [
  {
   "cell_type": "code",
   "execution_count": 1,
   "id": "d87b6cd9",
   "metadata": {},
   "outputs": [],
   "source": [
    "import pandas as pd\n",
    "import numpy as np\n",
    "import os\n",
    "import constants\n",
    "from scipy.spatial import KDTree\n",
    "\n",
    "class Route():\n",
    "    \n",
    "    def __init__(self) -> None:\n",
    "        self.route_data = self.load_route_csv()\n",
    "        self.kdtree = KDTree(self.route_data[['Latitude', 'Longitude']].values)\n",
    "\n",
    "        self.min_delta_spacing = 10 # in meters\n",
    "        self.max_delta_spacing = 500000 # in meters\n",
    "\n",
    "    def load_route_csv(self):\n",
    "        script_directory = os.path.dirname(os.path.abspath(__file__))\n",
    "        csv_file_path = os.path.join(script_directory, constants.ROUTE)\n",
    "        route_data = pd.read_csv(csv_file_path)\n",
    "        return route_data\n",
    "    \n",
    "    def find_closest_point(self, position):\n",
    "        actual_coords = (position['latitude'], position['longitude'])\n",
    "\n",
    "        # Query the k-d tree to find the nearest point index\n",
    "        nearest_point_index = self.kdtree.query([actual_coords], k=1)[1][0]        \n",
    "        closest_point = self.route_data.iloc[nearest_point_index]\n",
    "        return closest_point\n",
    "        \n",
    "    def get_final_data(self, actual_position: dict, delta_spacing: float = None):\n",
    "        closest_point = self.find_closest_point(position=actual_position)\n",
    "        start_index = closest_point.name\n",
    "        start_distance = self.route_data.iloc[start_index]['CumDistance']\n",
    "\n",
    "        # Cut data and start the cumulative distance from the new position\n",
    "        cut_data = self.route_data.iloc[start_index:].copy()\n",
    "        cut_data['CumDistance'] -= start_distance\n",
    "\n",
    "        if delta_spacing is None:\n",
    "            return cut_data\n",
    "        else:\n",
    "            if not isinstance(delta_spacing, int) or (self.min_delta_spacing > delta_spacing > self.max_delta_spacing):\n",
    "                raise ValueError(f'{delta_spacing} has to be an integer between {self.min_delta_spacing} and {self.max_delta_spacing}. Received: {delta_spacing}')\n",
    "\n",
    "            # Create a copy of the first row for interpolated data\n",
    "            interpolated_data = cut_data.iloc[[0]].copy()\n",
    "\n",
    "            interp_number = int(cut_data['CumDistance'].max() / delta_spacing)\n",
    "            x = np.arange(interp_number + 2) * delta_spacing\n",
    "            x[-1] = cut_data['CumDistance'].max()\n",
    "\n",
    "            xp = cut_data['CumDistance']\n",
    "\n",
    "            # Interpolate selected columns (excluding 'CumDistance')\n",
    "            for column in cut_data.columns:\n",
    "                if column != 'CumDistance':\n",
    "                    fp = cut_data[column]\n",
    "                    interpolated_data[column] = np.interp(x, xp, fp)\n",
    "\n",
    "            return interpolated_data"
   ]
  },
  {
   "cell_type": "code",
   "execution_count": 2,
   "id": "1f8e4038",
   "metadata": {},
   "outputs": [
    {
     "ename": "NameError",
     "evalue": "name '__file__' is not defined",
     "output_type": "error",
     "traceback": [
      "\u001b[1;31m---------------------------------------------------------------------------\u001b[0m",
      "\u001b[1;31mNameError\u001b[0m                                 Traceback (most recent call last)",
      "Cell \u001b[1;32mIn[2], line 1\u001b[0m\n\u001b[1;32m----> 1\u001b[0m route \u001b[39m=\u001b[39m Route()\n",
      "Cell \u001b[1;32mIn[1], line 10\u001b[0m, in \u001b[0;36mRoute.__init__\u001b[1;34m(self)\u001b[0m\n\u001b[0;32m      9\u001b[0m \u001b[39mdef\u001b[39;00m \u001b[39m__init__\u001b[39m(\u001b[39mself\u001b[39m) \u001b[39m-\u001b[39m\u001b[39m>\u001b[39m \u001b[39mNone\u001b[39;00m:\n\u001b[1;32m---> 10\u001b[0m     \u001b[39mself\u001b[39m\u001b[39m.\u001b[39mroute_data \u001b[39m=\u001b[39m \u001b[39mself\u001b[39;49m\u001b[39m.\u001b[39;49mload_route_csv()\n\u001b[0;32m     11\u001b[0m     \u001b[39mself\u001b[39m\u001b[39m.\u001b[39mkdtree \u001b[39m=\u001b[39m KDTree(\u001b[39mself\u001b[39m\u001b[39m.\u001b[39mroute_data[[\u001b[39m'\u001b[39m\u001b[39mLatitude\u001b[39m\u001b[39m'\u001b[39m, \u001b[39m'\u001b[39m\u001b[39mLongitude\u001b[39m\u001b[39m'\u001b[39m]]\u001b[39m.\u001b[39mvalues)\n\u001b[0;32m     13\u001b[0m     \u001b[39mself\u001b[39m\u001b[39m.\u001b[39mmin_delta_spacing \u001b[39m=\u001b[39m \u001b[39m10\u001b[39m \u001b[39m# in meters\u001b[39;00m\n",
      "Cell \u001b[1;32mIn[1], line 17\u001b[0m, in \u001b[0;36mRoute.load_route_csv\u001b[1;34m(self)\u001b[0m\n\u001b[0;32m     16\u001b[0m \u001b[39mdef\u001b[39;00m \u001b[39mload_route_csv\u001b[39m(\u001b[39mself\u001b[39m):\n\u001b[1;32m---> 17\u001b[0m     script_directory \u001b[39m=\u001b[39m os\u001b[39m.\u001b[39mpath\u001b[39m.\u001b[39mdirname(os\u001b[39m.\u001b[39mpath\u001b[39m.\u001b[39mabspath(\u001b[39m__file__\u001b[39;49m))\n\u001b[0;32m     18\u001b[0m     csv_file_path \u001b[39m=\u001b[39m os\u001b[39m.\u001b[39mpath\u001b[39m.\u001b[39mjoin(script_directory, constants\u001b[39m.\u001b[39mROUTE)\n\u001b[0;32m     19\u001b[0m     route_data \u001b[39m=\u001b[39m pd\u001b[39m.\u001b[39mread_csv(csv_file_path)\n",
      "\u001b[1;31mNameError\u001b[0m: name '__file__' is not defined"
     ]
    }
   ],
   "source": [
    "route = Route()"
   ]
  },
  {
   "cell_type": "code",
   "execution_count": null,
   "id": "ed66b4f8",
   "metadata": {},
   "outputs": [],
   "source": []
  }
 ],
 "metadata": {
  "kernelspec": {
   "display_name": "Python 3 (ipykernel)",
   "language": "python",
   "name": "python3"
  },
  "language_info": {
   "codemirror_mode": {
    "name": "ipython",
    "version": 3
   },
   "file_extension": ".py",
   "mimetype": "text/x-python",
   "name": "python",
   "nbconvert_exporter": "python",
   "pygments_lexer": "ipython3",
   "version": "3.11.4"
  }
 },
 "nbformat": 4,
 "nbformat_minor": 5
}
