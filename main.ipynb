{
 "cells": [
  {
   "cell_type": "code",
   "execution_count": 1,
   "metadata": {},
   "outputs": [],
   "source": [
    "import pandas as pd\n",
    "import numpy as np\n",
    "\n",
    "from route import Route\n",
    "# from weather_forecast import WeatherForecast\n",
    "# from api_data import ApiData\n",
    "# from api_executer import ApiExecuter\n",
    "from api_requester import ApiRequester\n",
    "from api_parser import ApiParser\n",
    "from FUNCTIONS import get_current_location"
   ]
  },
  {
   "cell_type": "code",
   "execution_count": 2,
   "metadata": {},
   "outputs": [
    {
     "name": "stdout",
     "output_type": "stream",
     "text": [
      "Current Latitude: 44.4048, Longitude: 8.9444\n"
     ]
    }
   ],
   "source": [
    "location = get_current_location()\n",
    "if location:\n",
    "    latitude, longitude = location\n",
    "    print(f'Current Latitude: {latitude}, Longitude: {longitude}')\n",
    "else:\n",
    "    print('Failed to determine current location.')"
   ]
  },
  {
   "cell_type": "code",
   "execution_count": 3,
   "metadata": {},
   "outputs": [
    {
     "name": "stdout",
     "output_type": "stream",
     "text": [
      "    longitude   latitude    altitude   cumDistance  gradient  maxSpeed\n",
      "0  130.868566 -12.432466   11.500000  0.000000e+00  0.024056       100\n",
      "1  133.803762 -23.861845  557.690488  1.513018e+06  0.004450       130\n",
      "2  138.608989 -34.935232   53.250000  3.026035e+06 -0.017856        50\n"
     ]
    }
   ],
   "source": [
    "current_position = {'longitude': 130.868566,\n",
    "                    'latitude': -12.432466}\n",
    "delta_spacing = 100000.0 # in meters\n",
    "number_sites = 3\n",
    "route = Route()\n",
    "# route.get_final_data(current_position)\n",
    "# route.get_final_data(current_position, delta_spacing=delta_spacing)\n",
    "dataframe = route.get_route_data(current_position, number_sites=number_sites)"
   ]
  },
  {
   "cell_type": "code",
   "execution_count": 3,
   "metadata": {},
   "outputs": [
    {
     "name": "stdout",
     "output_type": "stream",
     "text": [
      "Response status from siteinfo: OK.\n",
      "TODOOOOOOOOOOOOO\n",
      "<class 'str'>\n",
      "Current sites' info has been retrieved. \n",
      "   name site_id longitude latitude altitude\n",
      "0   cc  584888       130      -12       52\n",
      "Response status from siteinfo: OK.\n",
      "TODOOOOOOOOOOOOO\n",
      "<class 'str'>\n"
     ]
    },
    {
     "ename": "ValueError",
     "evalue": "too many values to unpack (expected 2)",
     "output_type": "error",
     "traceback": [
      "\u001b[1;31m---------------------------------------------------------------------------\u001b[0m",
      "\u001b[1;31mValueError\u001b[0m                                Traceback (most recent call last)",
      "Cell \u001b[1;32mIn[3], line 4\u001b[0m\n\u001b[0;32m      2\u001b[0m api_parser \u001b[39m=\u001b[39m ApiParser()\n\u001b[0;32m      3\u001b[0m api_requester \u001b[39m=\u001b[39m ApiRequester(parser\u001b[39m=\u001b[39mapi_parser)\n\u001b[1;32m----> 4\u001b[0m response_pd, _ \u001b[39m=\u001b[39m api_requester\u001b[39m.\u001b[39mget_site_info(print_is_requested\u001b[39m=\u001b[39m\u001b[39mFalse\u001b[39;00m)\n\u001b[0;32m      5\u001b[0m \u001b[39m# api_executer = ApiExecuter()\u001b[39;00m\n",
      "\u001b[1;31mValueError\u001b[0m: too many values to unpack (expected 2)"
     ]
    }
   ],
   "source": [
    "# api = WeatherForecast()\n",
    "api_parser = ApiParser()\n",
    "api_requester = ApiRequester(parser=api_parser)\n",
    "# api_executer = ApiExecuter()"
   ]
  },
  {
   "cell_type": "code",
   "execution_count": 15,
   "metadata": {},
   "outputs": [
    {
     "name": "stdout",
     "output_type": "stream",
     "text": [
      "Response status from siteadd: OK.\n",
      "Site with name 0 has been added.\n",
      "Response status from siteadd: OK.\n",
      "Site with name 1 has been added.\n",
      "Response status from siteadd: OK.\n",
      "Site with name 2 has been added.\n",
      "All sites have been added.\n",
      "  name site_id  longitude  latitude altitude\n",
      "0    0  584886    130.869  -12.4325       18\n",
      "1    1  584887    133.804  -23.8618      557\n",
      "2    2  584888    138.609  -34.9352       52\n"
     ]
    }
   ],
   "source": [
    "api.add_sites(dataframe)"
   ]
  },
  {
   "cell_type": "code",
   "execution_count": 17,
   "metadata": {},
   "outputs": [
    {
     "name": "stdout",
     "output_type": "stream",
     "text": [
      "Response status from siteedit: OK (200).\n",
      "Site with ID 584886 has been edited: New name: cc. \n",
      "Response status from siteedit: OK (200).\n",
      "Site with ID 584887 has been edited: New position: {'latitude': -12.0, 'longitude': 130.0}. \n",
      "Response status from siteedit: OK (200).\n",
      "Site with ID 584888 has been edited: New name: cc. New position: {'latitude': -12.0, 'longitude': 130.0}. \n"
     ]
    }
   ],
   "source": [
    "position = {\n",
    "    'latitude': -12.0,\n",
    "    'longitude': 130.0\n",
    "}\n",
    "api.get_site_edit(584886, True, name=\"cc\")\n",
    "api.get_site_edit(584887, True, position=position)\n",
    "api.get_site_edit(584888, True, name=\"cc\", position=position)"
   ]
  },
  {
   "cell_type": "code",
   "execution_count": 18,
   "metadata": {},
   "outputs": [
    {
     "name": "stdout",
     "output_type": "stream",
     "text": [
      "Response status from siteinfo: OK.\n",
      "{\n",
      "  \"status\": \"OK\",\n",
      "  \"statuscode\": 200,\n",
      "  \"payload\": {\n",
      "    \"solarforecast\": {\n",
      "      \"sites\": {\n",
      "        \"584886\": {\n",
      "          \"altitude\": 18,\n",
      "          \"azimuth\": 0,\n",
      "          \"cddctout\": null,\n",
      "          \"hddctin\": null,\n",
      "          \"hddctout\": null,\n",
      "          \"horizon\": [\n",
      "            0,\n",
      "            0,\n",
      "            0,\n",
      "            0,\n",
      "            0,\n",
      "            0,\n",
      "            0,\n",
      "            0,\n",
      "            0,\n",
      "            0,\n",
      "            0,\n",
      "            0\n",
      "          ],\n",
      "          \"id\": 584886,\n",
      "          \"inclination\": 0,\n",
      "          \"last_update\": \"2023-08-23 14:44:32\",\n",
      "          \"latitude\": -12.4325,\n",
      "          \"longitude\": 130.869,\n",
      "          \"name\": \"cc\",\n",
      "          \"registered\": \"2023-08-23 14:44:13\",\n",
      "          \"timezone\": \"Australia/Darwin\",\n",
      "          \"utc_offset\": \"UTC+9.5\"\n",
      "        },\n",
      "        \"584887\": {\n",
      "          \"altitude\": 557,\n",
      "          \"azimuth\": 0,\n",
      "          \"cddctout\": null,\n",
      "          \"hddctin\": null,\n",
      "          \"hddctout\": null,\n",
      "          \"horizon\": [\n",
      "            0,\n",
      "            0,\n",
      "            0,\n",
      "            0,\n",
      "            0,\n",
      "            0,\n",
      "            0,\n",
      "            0,\n",
      "            0,\n",
      "            0,\n",
      "            0,\n",
      "            0\n",
      "          ],\n",
      "          \"id\": 584887,\n",
      "          \"inclination\": 0,\n",
      "          \"last_update\": \"2023-08-23 14:44:33\",\n",
      "          \"latitude\": -12,\n",
      "          \"longitude\": 130,\n",
      "          \"name\": \"1\",\n",
      "          \"registered\": \"2023-08-23 14:44:13\",\n",
      "          \"timezone\": \"Australia/Darwin\",\n",
      "          \"utc_offset\": \"UTC+9.5\"\n",
      "        },\n",
      "        \"584888\": {\n",
      "          \"altitude\": 52,\n",
      "          \"azimuth\": 0,\n",
      "          \"cddctout\": null,\n",
      "          \"hddctin\": null,\n",
      "          \"hddctout\": null,\n",
      "          \"horizon\": [\n",
      "            0,\n",
      "            0,\n",
      "            0,\n",
      "            0,\n",
      "            0,\n",
      "            0,\n",
      "            0,\n",
      "            0,\n",
      "            0,\n",
      "            0,\n",
      "            0,\n",
      "            0\n",
      "          ],\n",
      "          \"id\": 584888,\n",
      "          \"inclination\": 0,\n",
      "          \"last_update\": \"2023-08-23 14:44:33\",\n",
      "          \"latitude\": -12,\n",
      "          \"longitude\": 130,\n",
      "          \"name\": \"cc\",\n",
      "          \"registered\": \"2023-08-23 14:44:14\",\n",
      "          \"timezone\": \"Australia/Darwin\",\n",
      "          \"utc_offset\": \"UTC+9.5\"\n",
      "        }\n",
      "      },\n",
      "      \"user\": {\n",
      "        \"id\": 393,\n",
      "        \"name\": \"aCentauri\"\n",
      "      }\n",
      "    }\n",
      "  }\n",
      "}\n"
     ]
    },
    {
     "data": {
      "text/plain": [
       "<Response [200]>"
      ]
     },
     "execution_count": 18,
     "metadata": {},
     "output_type": "execute_result"
    }
   ],
   "source": [
    "api.get_site_info()"
   ]
  },
  {
   "cell_type": "code",
   "execution_count": 8,
   "metadata": {},
   "outputs": [
    {
     "name": "stdout",
     "output_type": "stream",
     "text": [
      "Response status from sitedelete: OK (200).\n",
      "Site with id 584882 has been removed.\n",
      "Response status from sitedelete: OK (200).\n",
      "Site with id 584883 has been removed.\n",
      "Response status from sitedelete: OK (200).\n",
      "Site with id 584884 has been removed.\n",
      "Response status from sitedelete: OK (200).\n",
      "Site with id 584885 has been removed.\n",
      "All sites have been deleted.\n",
      "Empty DataFrame\n",
      "Columns: [name, site_id, longitude, latitude, altitude]\n",
      "Index: []\n"
     ]
    }
   ],
   "source": [
    "api.delete_all_sites()"
   ]
  },
  {
   "cell_type": "code",
   "execution_count": 9,
   "metadata": {},
   "outputs": [
    {
     "name": "stdout",
     "output_type": "stream",
     "text": [
      "Response status from siteinfo: OK.\n",
      "{\n",
      "  \"status\": \"OK\",\n",
      "  \"statuscode\": 200,\n",
      "  \"payload\": {\n",
      "    \"solarforecast\": {\n",
      "      \"sites\": [],\n",
      "      \"user\": {\n",
      "        \"id\": 393,\n",
      "        \"name\": \"aCentauri\"\n",
      "      }\n",
      "    }\n",
      "  }\n",
      "}\n"
     ]
    },
    {
     "data": {
      "text/plain": [
       "<Response [200]>"
      ]
     },
     "execution_count": 9,
     "metadata": {},
     "output_type": "execute_result"
    }
   ],
   "source": [
    "api.get_site_info()"
   ]
  },
  {
   "cell_type": "code",
   "execution_count": 10,
   "metadata": {},
   "outputs": [
    {
     "name": "stdout",
     "output_type": "stream",
     "text": [
      "Response status from getforecast: OK.\n"
     ]
    },
    {
     "ename": "KeyError",
     "evalue": "'sites'",
     "output_type": "error",
     "traceback": [
      "\u001b[1;31m---------------------------------------------------------------------------\u001b[0m",
      "\u001b[1;31mKeyError\u001b[0m                                  Traceback (most recent call last)",
      "Cell \u001b[1;32mIn[10], line 1\u001b[0m\n\u001b[1;32m----> 1\u001b[0m api\u001b[39m.\u001b[39;49mget_solar_forecast()\n",
      "File \u001b[1;32mc:\\Users\\giaco\\Git_Repositories\\aCentauri\\ss_weather\\weather_forecast.py:256\u001b[0m, in \u001b[0;36mWeatherForecast.get_solar_forecast\u001b[1;34m(self)\u001b[0m\n\u001b[0;32m    253\u001b[0m response \u001b[39m=\u001b[39m \u001b[39mself\u001b[39m\u001b[39m.\u001b[39m_send_get_request(variables)\n\u001b[0;32m    255\u001b[0m response_dict \u001b[39m=\u001b[39m response\u001b[39m.\u001b[39mjson()\n\u001b[1;32m--> 256\u001b[0m response_pd \u001b[39m=\u001b[39m pd\u001b[39m.\u001b[39mDataFrame(response_dict[\u001b[39m\"\u001b[39;49m\u001b[39mpayload\u001b[39;49m\u001b[39m\"\u001b[39;49m][\u001b[39m\"\u001b[39;49m\u001b[39msolarforecast\u001b[39;49m\u001b[39m\"\u001b[39;49m][\u001b[39m\"\u001b[39;49m\u001b[39msites\u001b[39;49m\u001b[39m\"\u001b[39;49m])\n\u001b[0;32m    257\u001b[0m \u001b[39mreturn\u001b[39;00m response_pd\n",
      "\u001b[1;31mKeyError\u001b[0m: 'sites'"
     ]
    }
   ],
   "source": [
    "api.get_solar_forecast()"
   ]
  },
  {
   "cell_type": "code",
   "execution_count": 3,
   "metadata": {},
   "outputs": [
    {
     "name": "stdout",
     "output_type": "stream",
     "text": [
      "                       data\n",
      "space  time  variable      \n",
      "space1 time1 variable1    1\n",
      "             variable2    2\n",
      "       time2 variable1    3\n",
      "             variable2    4\n",
      "space2 time1 variable1    5\n",
      "             variable2    6\n",
      "       time2 variable1    7\n",
      "             variable2    8\n",
      "MultiIndex([], names=['space', 'time', 'variable'])\n"
     ]
    }
   ],
   "source": [
    "import pandas as pd\n",
    "\n",
    "# Create a MultiIndex for the DataFrame\n",
    "index = pd.MultiIndex.from_product([['space1', 'space2'], ['time1', 'time2'], ['variable1', 'variable2']],\n",
    "                                   names=['space', 'time', 'variable'])\n",
    "\n",
    "# Create an empty DataFrame with the MultiIndex\n",
    "df_3d = pd.DataFrame(index=index, columns=['data'])\n",
    "\n",
    "# Fill the DataFrame with values\n",
    "df_3d.loc[('space1', 'time1', 'variable1')] = 1\n",
    "df_3d.loc[('space1', 'time1', 'variable2')] = 2\n",
    "df_3d.loc[('space1', 'time2', 'variable1')] = 3\n",
    "df_3d.loc[('space1', 'time2', 'variable2')] = 4\n",
    "df_3d.loc[('space2', 'time1', 'variable1')] = 5\n",
    "df_3d.loc[('space2', 'time1', 'variable2')] = 6\n",
    "df_3d.loc[('space2', 'time2', 'variable1')] = 7\n",
    "df_3d.loc[('space2', 'time2', 'variable2')] = 8\n",
    "\n",
    "print(df_3d)\n"
   ]
  }
 ],
 "metadata": {
  "kernelspec": {
   "display_name": "Python 3",
   "language": "python",
   "name": "python3"
  },
  "language_info": {
   "codemirror_mode": {
    "name": "ipython",
    "version": 3
   },
   "file_extension": ".py",
   "mimetype": "text/x-python",
   "name": "python",
   "nbconvert_exporter": "python",
   "pygments_lexer": "ipython3",
   "version": "3.11.4"
  },
  "orig_nbformat": 4
 },
 "nbformat": 4,
 "nbformat_minor": 2
}
