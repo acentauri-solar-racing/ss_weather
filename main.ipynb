{
 "cells": [
  {
   "cell_type": "code",
   "execution_count": 4,
   "metadata": {},
   "outputs": [],
   "source": [
    "import pandas as pd\n",
    "import numpy as np\n",
    "\n",
    "from route import Route\n",
    "# from weather_forecast import WeatherForecast\n",
    "# from api_data import ApiData\n",
    "from api_executer import ApiExecuter\n",
    "from api_requester import ApiRequester\n",
    "from api_parser import ApiParser\n",
    "from FUNCTIONS import get_current_location"
   ]
  },
  {
   "cell_type": "code",
   "execution_count": null,
   "metadata": {},
   "outputs": [],
   "source": [
    "location = get_current_location()\n",
    "if location:\n",
    "    latitude, longitude = location\n",
    "    print(f'Current Latitude: {latitude}, Longitude: {longitude}')\n",
    "else:\n",
    "    print('Failed to determine current location.')"
   ]
  },
  {
   "cell_type": "code",
   "execution_count": null,
   "metadata": {},
   "outputs": [],
   "source": [
    "current_position = {'longitude': 130.868566,\n",
    "                    'latitude': -12.432466}\n",
    "delta_spacing = 100000.0 # in meters\n",
    "number_sites = 3\n",
    "route = Route()\n",
    "# route.get_final_data(current_position)\n",
    "# route.get_final_data(current_position, delta_spacing=delta_spacing)\n",
    "dataframe = route.get_route_data(current_position, number_sites=number_sites)"
   ]
  },
  {
   "cell_type": "code",
   "execution_count": 5,
   "metadata": {},
   "outputs": [
    {
     "name": "stdout",
     "output_type": "stream",
     "text": [
      "Response status from siteinfo: OK.\n",
      "Current sites' info has been retrieved. \n",
      "   name site_id  longitude  latitude altitude\n",
      "0    0  584987    130.869  -12.4325       18\n",
      "1    1  584988    133.804  -23.8618      557\n",
      "2    2  584989    138.609  -34.9352       52\n"
     ]
    }
   ],
   "source": [
    "api_parser = ApiParser()\n",
    "api_requester = ApiRequester(parser=api_parser)\n",
    "api_executer = ApiExecuter(requester=api_requester)"
   ]
  },
  {
   "cell_type": "code",
   "execution_count": 18,
   "metadata": {},
   "outputs": [
    {
     "name": "stdout",
     "output_type": "stream",
     "text": [
      "All sites have been deleted: \n",
      " Empty DataFrame\n",
      "Columns: [name, site_id, longitude, latitude, altitude]\n",
      "Index: []\n"
     ]
    }
   ],
   "source": [
    "# api_executer.add_sites(dataframe, print_is_requested=False)\n",
    "api_executer.delete_all_sites()"
   ]
  },
  {
   "cell_type": "code",
   "execution_count": null,
   "metadata": {},
   "outputs": [],
   "source": [
    "position = {\n",
    "    'latitude': -13.0,\n",
    "    'longitude': 134.0\n",
    "}\n",
    "api_requester.get_site_edit(584978, True, name=\"aa\")\n",
    "api_requester.get_site_edit(584979, True, position=position)\n",
    "api_requester.get_site_edit(584980, True, name=\"df\", position=position)"
   ]
  },
  {
   "cell_type": "code",
   "execution_count": 6,
   "metadata": {},
   "outputs": [
    {
     "name": "stdout",
     "output_type": "stream",
     "text": [
      "Response status from getforecast: OK.\n",
      "Solar forecast have been retrieved.\n",
      "                              gk  gh_max  gh         tt    ff        rr  \\\n",
      "site_id time                                                              \n",
      "584987  2023-08-25 13:00:00  0.0     0.0   0  23.100000   7.0  0.000000   \n",
      "        2023-08-25 13:10:00  0.0     0.0   0  22.916667   7.0  0.000000   \n",
      "        2023-08-25 13:20:00  0.0     0.0   0  22.733333   7.0  0.000000   \n",
      "        2023-08-25 13:30:00  0.0     0.0   0  22.550000   7.0  0.000000   \n",
      "        2023-08-25 13:40:00  0.0     0.0   0  22.366667   7.0  0.000000   \n",
      "...                          ...     ...  ..        ...   ...       ...   \n",
      "584989  2023-09-03 11:20:00  0.0     0.0   0  13.133333  13.0  0.005556   \n",
      "        2023-09-03 11:30:00  0.0     0.0   0  13.100000  13.0  0.008333   \n",
      "        2023-09-03 11:40:00  0.0     0.0   0  13.066667  13.0  0.011111   \n",
      "        2023-09-03 11:50:00  0.0     0.0   0  13.033333  13.0  0.013889   \n",
      "        2023-09-03 12:00:00  0.0     0.0   0  13.000000  13.0  0.016667   \n",
      "\n",
      "                                     dd         rh         fx       tcc  \\\n",
      "site_id time                                                              \n",
      "584987  2023-08-25 13:00:00  178.000000  71.000000  11.000000  1.000000   \n",
      "        2023-08-25 13:10:00  174.833333  71.500000  10.666667  0.833333   \n",
      "        2023-08-25 13:20:00  171.666667  72.000000  10.333333  0.666667   \n",
      "        2023-08-25 13:30:00  168.500000  72.500000  10.000000  0.500000   \n",
      "        2023-08-25 13:40:00  165.333333  73.000000   9.666667  0.333333   \n",
      "...                                 ...        ...        ...       ...   \n",
      "584989  2023-09-03 11:20:00  329.666667  68.333333  19.666667  4.000000   \n",
      "        2023-09-03 11:30:00  331.500000  68.500000  20.000000  4.000000   \n",
      "        2023-09-03 11:40:00  333.333333  68.666667  20.333333  4.000000   \n",
      "        2023-09-03 11:50:00  335.166667  68.833333  20.666667  4.000000   \n",
      "        2023-09-03 12:00:00  337.000000  69.000000  21.000000  4.000000   \n",
      "\n",
      "                                     qff  sy   dh   bh  dni    e  \n",
      "site_id time                                                      \n",
      "584987  2023-08-25 13:00:00  1013.900000   1  0.0  0.0  0.0  0.0  \n",
      "        2023-08-25 13:10:00  1013.933333   1  0.0  0.0  0.0  0.0  \n",
      "        2023-08-25 13:20:00  1013.966667   1  0.0  0.0  0.0  0.0  \n",
      "        2023-08-25 13:30:00  1014.000000   1  0.0  0.0  0.0  0.0  \n",
      "        2023-08-25 13:40:00  1014.033333   1  0.0  0.0  0.0  0.0  \n",
      "...                                  ...  ..  ...  ...  ...  ...  \n",
      "584989  2023-09-03 11:20:00  1018.566667   3  0.0  0.0  0.0  0.0  \n",
      "        2023-09-03 11:30:00  1018.600000   3  0.0  0.0  0.0  0.0  \n",
      "        2023-09-03 11:40:00  1018.633333   3  0.0  0.0  0.0  0.0  \n",
      "        2023-09-03 11:50:00  1018.666667   3  0.0  0.0  0.0  0.0  \n",
      "        2023-09-03 12:00:00  1018.700000   3  0.0  0.0  0.0  0.0  \n",
      "\n",
      "[3873 rows x 16 columns]\n"
     ]
    }
   ],
   "source": [
    "forecasts = api_requester.get_solar_forecast()\n",
    "# forecasts = api_requester.get_solar_forecast_cloudmove()\n",
    "print(forecasts)"
   ]
  },
  {
   "cell_type": "code",
   "execution_count": null,
   "metadata": {},
   "outputs": [],
   "source": [
    "index = forecasts.index\n",
    "\n",
    "# Access the values of time and site_id\n",
    "time_values = index.get_level_values('time')\n",
    "site_id_values = index.get_level_values('site_id')\n",
    "\n",
    "# Print the values\n",
    "print(\"Time values:\", time_values)\n",
    "print(\"Site ID values:\", site_id_values)"
   ]
  },
  {
   "cell_type": "code",
   "execution_count": 16,
   "metadata": {},
   "outputs": [
    {
     "name": "stdout",
     "output_type": "stream",
     "text": [
      "                                    rh\n",
      "site_id time                          \n",
      "584987  2023-08-25 13:00:00  71.000000\n",
      "        2023-08-25 13:10:00  71.500000\n",
      "        2023-08-25 13:20:00  72.000000\n",
      "        2023-08-25 13:30:00  72.500000\n",
      "        2023-08-25 13:40:00  73.000000\n",
      "...                                ...\n",
      "584989  2023-09-03 11:20:00  68.333333\n",
      "        2023-09-03 11:30:00  68.500000\n",
      "        2023-09-03 11:40:00  68.666667\n",
      "        2023-09-03 11:50:00  68.833333\n",
      "        2023-09-03 12:00:00  69.000000\n",
      "\n",
      "[3873 rows x 1 columns]\n",
      "rh    99.0\n",
      "dtype: float64 rh    7.0\n",
      "dtype: float64\n"
     ]
    }
   ],
   "source": [
    "# Extract all 'rr' values for all site_id and time combinations\n",
    "# rr_values = forecasts.loc[:, ('rr', slice(None), slice(None))].droplevel('variable')\n",
    "rr_values = forecasts.loc[:, ('rh')]\n",
    "rr_values = rr_values.to_frame()\n",
    "print(rr_values)\n",
    "print(rr_values.max(), rr_values.min())\n",
    "# # Assuming your MultiIndex DataFrame is named \"forecast_data\"\n",
    "# pivot_table = rr_values.pivot(index='time', columns='site_id', values='tt')\n",
    "# print(pivot_table)\n",
    "rr_values.to_csv('rh_table.csv')\n",
    "\n",
    "# print(rr_values)"
   ]
  },
  {
   "cell_type": "code",
   "execution_count": 2,
   "metadata": {},
   "outputs": [
    {
     "ename": "AttributeError",
     "evalue": "module 'inspect' has no attribute 'getargspec'",
     "output_type": "error",
     "traceback": [
      "\u001b[1;31m---------------------------------------------------------------------------\u001b[0m",
      "\u001b[1;31mAttributeError\u001b[0m                            Traceback (most recent call last)",
      "Cell \u001b[1;32mIn[2], line 1\u001b[0m\n\u001b[1;32m----> 1\u001b[0m \u001b[39mimport\u001b[39;00m \u001b[39matmos\u001b[39;00m \u001b[39mas\u001b[39;00m \u001b[39matm\u001b[39;00m\n\u001b[0;32m      2\u001b[0m density \u001b[39m=\u001b[39m atmos\u001b[39m.\u001b[39mcalculate(\u001b[39m'\u001b[39m\u001b[39mrho\u001b[39m\u001b[39m'\u001b[39m, Tv\u001b[39m=\u001b[39m\u001b[39m300.0\u001b[39m, p\u001b[39m=\u001b[39m\u001b[39m990.0\u001b[39m, p_units\u001b[39m=\u001b[39m\u001b[39m'\u001b[39m\u001b[39mhPa\u001b[39m\u001b[39m'\u001b[39m)\n\u001b[0;32m      3\u001b[0m \u001b[39mprint\u001b[39m(density)\n",
      "File \u001b[1;32m~\\AppData\\Local\\Packages\\PythonSoftwareFoundation.Python.3.11_qbz5n2kfra8p0\\LocalCache\\local-packages\\Python311\\site-packages\\atmos\\__init__.py:24\u001b[0m\n\u001b[0;32m      2\u001b[0m \u001b[39m'''\u001b[39;00m\n\u001b[0;32m      3\u001b[0m \u001b[39m*****\u001b[39;00m\n\u001b[0;32m      4\u001b[0m \u001b[39matmos\u001b[39;00m\n\u001b[1;32m   (...)\u001b[0m\n\u001b[0;32m     21\u001b[0m \u001b[39mentirely.\u001b[39;00m\n\u001b[0;32m     22\u001b[0m \u001b[39m'''\u001b[39;00m\n\u001b[0;32m     23\u001b[0m __all__ \u001b[39m=\u001b[39m [\u001b[39m'\u001b[39m\u001b[39mconstants\u001b[39m\u001b[39m'\u001b[39m, \u001b[39m'\u001b[39m\u001b[39msolve\u001b[39m\u001b[39m'\u001b[39m, \u001b[39m'\u001b[39m\u001b[39mequations\u001b[39m\u001b[39m'\u001b[39m, \u001b[39m'\u001b[39m\u001b[39mutil\u001b[39m\u001b[39m'\u001b[39m, \u001b[39m'\u001b[39m\u001b[39mdecorators\u001b[39m\u001b[39m'\u001b[39m]\n\u001b[1;32m---> 24\u001b[0m \u001b[39mfrom\u001b[39;00m \u001b[39matmos\u001b[39;00m\u001b[39m.\u001b[39;00m\u001b[39msolve\u001b[39;00m \u001b[39mimport\u001b[39;00m calculate, FluidSolver\n",
      "File \u001b[1;32m~\\AppData\\Local\\Packages\\PythonSoftwareFoundation.Python.3.11_qbz5n2kfra8p0\\LocalCache\\local-packages\\Python311\\site-packages\\atmos\\solve.py:8\u001b[0m\n\u001b[0;32m      6\u001b[0m \u001b[39mfrom\u001b[39;00m \u001b[39m__future__\u001b[39;00m \u001b[39mimport\u001b[39;00m division, absolute_import, unicode_literals\n\u001b[0;32m      7\u001b[0m \u001b[39mimport\u001b[39;00m \u001b[39minspect\u001b[39;00m\n\u001b[1;32m----> 8\u001b[0m \u001b[39mfrom\u001b[39;00m \u001b[39matmos\u001b[39;00m \u001b[39mimport\u001b[39;00m equations\n\u001b[0;32m      9\u001b[0m \u001b[39mimport\u001b[39;00m \u001b[39mnumpy\u001b[39;00m \u001b[39mas\u001b[39;00m \u001b[39mnp\u001b[39;00m\n\u001b[0;32m     10\u001b[0m \u001b[39mfrom\u001b[39;00m \u001b[39msix\u001b[39;00m \u001b[39mimport\u001b[39;00m add_metaclass, string_types\n",
      "File \u001b[1;32m~\\AppData\\Local\\Packages\\PythonSoftwareFoundation.Python.3.11_qbz5n2kfra8p0\\LocalCache\\local-packages\\Python311\\site-packages\\atmos\\equations.py:301\u001b[0m\n\u001b[0;32m    295\u001b[0m     \u001b[39mreturn\u001b[39;00m equation_docstring(quantities, assumptions, \u001b[39m*\u001b[39m\u001b[39m*\u001b[39mkwargs)\n\u001b[0;32m    298\u001b[0m \u001b[39m# Note that autodoc() must always be placed *above* assumes(), so that it\u001b[39;00m\n\u001b[0;32m    299\u001b[0m \u001b[39m# has information about the assumptions (each decorator decorates the result\u001b[39;00m\n\u001b[0;32m    300\u001b[0m \u001b[39m# of what is below it).\u001b[39;00m\n\u001b[1;32m--> 301\u001b[0m \u001b[39m@autodoc\u001b[39;49m(equation\u001b[39m=\u001b[39;49m\u001b[39mr\u001b[39;49m\u001b[39m'\u001b[39;49m\u001b[39mAH = q_v \u001b[39;49m\u001b[39m\\\u001b[39;49m\u001b[39mrho\u001b[39;49m\u001b[39m'\u001b[39;49m)\n\u001b[0;32m    302\u001b[0m \u001b[39m@assumes\u001b[39;49m()\n\u001b[0;32m    303\u001b[0m \u001b[39mdef\u001b[39;49;00m \u001b[39mAH_from_qv_rho\u001b[39;49m(qv, rho):\n\u001b[0;32m    304\u001b[0m     \u001b[39mreturn\u001b[39;49;00m ne\u001b[39m.\u001b[39;49mevaluate(\u001b[39m'\u001b[39;49m\u001b[39mqv*rho\u001b[39;49m\u001b[39m'\u001b[39;49m)\n\u001b[0;32m    307\u001b[0m \u001b[39m@autodoc\u001b[39m(equation\u001b[39m=\u001b[39m\u001b[39mr\u001b[39m\u001b[39m'\u001b[39m\u001b[39mDSE = C_\u001b[39m\u001b[39m{pd}\u001b[39;00m\u001b[39m T + g_0 z\u001b[39m\u001b[39m'\u001b[39m)\n\u001b[0;32m    308\u001b[0m \u001b[39m@assumes\u001b[39m(\u001b[39m'\u001b[39m\u001b[39mconstant g\u001b[39m\u001b[39m'\u001b[39m)\n\u001b[0;32m    309\u001b[0m \u001b[39mdef\u001b[39;00m \u001b[39mDSE_from_T_z\u001b[39m(T, z):\n",
      "File \u001b[1;32m~\\AppData\\Local\\Packages\\PythonSoftwareFoundation.Python.3.11_qbz5n2kfra8p0\\LocalCache\\local-packages\\Python311\\site-packages\\atmos\\decorators.py:73\u001b[0m, in \u001b[0;36mequation_docstring.<locals>.decorator\u001b[1;34m(func)\u001b[0m\n\u001b[0;32m     70\u001b[0m     \u001b[39mraise\u001b[39;00m \u001b[39mValueError\u001b[39;00m(\u001b[39m'\u001b[39m\u001b[39mequation_docstring decorator must be applied to \u001b[39m\u001b[39m'\u001b[39m\n\u001b[0;32m     71\u001b[0m                      \u001b[39m'\u001b[39m\u001b[39mfunction whose name contains \u001b[39m\u001b[39m\"\u001b[39m\u001b[39m_from_\u001b[39m\u001b[39m\"\u001b[39m\u001b[39m'\u001b[39m)\n\u001b[0;32m     72\u001b[0m out_quantity \u001b[39m=\u001b[39m func\u001b[39m.\u001b[39m\u001b[39m__name__\u001b[39m[:out_name_end_index]\n\u001b[1;32m---> 73\u001b[0m in_quantities \u001b[39m=\u001b[39m inspect\u001b[39m.\u001b[39;49mgetargspec(func)\u001b[39m.\u001b[39margs\n\u001b[0;32m     74\u001b[0m docstring \u001b[39m=\u001b[39m \u001b[39m'\u001b[39m\u001b[39mCalculates \u001b[39m\u001b[39m{0}\u001b[39;00m\u001b[39m'\u001b[39m\u001b[39m.\u001b[39mformat(\n\u001b[0;32m     75\u001b[0m     quantity_string(out_quantity, quantity_dict))\n\u001b[0;32m     76\u001b[0m \u001b[39mtry\u001b[39;00m:\n",
      "\u001b[1;31mAttributeError\u001b[0m: module 'inspect' has no attribute 'getargspec'"
     ]
    }
   ],
   "source": [
    "import atmos\n",
    "density = atmos.calculate('rho', Tv=300.0, p=990.0, p_units='hPa')\n",
    "print(density)"
   ]
  }
 ],
 "metadata": {
  "kernelspec": {
   "display_name": "Python 3",
   "language": "python",
   "name": "python3"
  },
  "language_info": {
   "codemirror_mode": {
    "name": "ipython",
    "version": 3
   },
   "file_extension": ".py",
   "mimetype": "text/x-python",
   "name": "python",
   "nbconvert_exporter": "python",
   "pygments_lexer": "ipython3",
   "version": "3.11.4"
  },
  "orig_nbformat": 4
 },
 "nbformat": 4,
 "nbformat_minor": 2
}
