{
 "cells": [
  {
   "cell_type": "code",
   "execution_count": 1,
   "metadata": {},
   "outputs": [],
   "source": [
    "import pandas as pd\n",
    "import numpy as np\n",
    "\n",
    "# from api_data import ApiData\n",
    "from api_executer import ApiExecuter\n",
    "from api_requester import ApiRequester\n",
    "from api_parser import ApiParser\n",
    "from FUNCTIONS import get_current_location"
   ]
  },
  {
   "cell_type": "code",
   "execution_count": null,
   "metadata": {},
   "outputs": [],
   "source": [
    "location = get_current_location()\n",
    "if location:\n",
    "    latitude, longitude = location\n",
    "    print(f'Current Latitude: {latitude}, Longitude: {longitude}')\n",
    "else:\n",
    "    print('Failed to determine current location.')"
   ]
  },
  {
   "cell_type": "code",
   "execution_count": 2,
   "metadata": {},
   "outputs": [
    {
     "name": "stdout",
     "output_type": "stream",
     "text": [
      "Nearest point index: 8\n",
      "    longitude   latitude  altitudeSmoothed  inclinationSmoothed  cumDistance  \\\n",
      "0  130.844161 -12.456694         16.350559            -0.024998   407.095561   \n",
      "1  130.849361 -12.440116          8.870473             0.009980  2407.095561   \n",
      "\n",
      "   maxSpeed      theta  cumDistanceCut  \n",
      "0        50  44.136411             0.0  \n",
      "1        80  17.935500          2000.0  \n"
     ]
    }
   ],
   "source": [
    "from api_route import ApiRoute\n",
    "current_position = {'longitude': 130.844161,\n",
    "                    'latitude': -12.456694}\n",
    "final_position = {'longitude': 130.890346,\n",
    "                  'latitude': -12.432393}\n",
    "delta_spacing = 2000.0 # in meters\n",
    "number_sites = 2\n",
    "route = ApiRoute()\n",
    "# dataframe = route.get_route_data(current_position)\n",
    "dataframe = route.get_route_data(current_position, number_sites=number_sites, delta_spacing=delta_spacing, print_is_requested=True)\n",
    "# dataframe = route.get_route_data(current_position=current_position, final_position=final_position, number_sites=number_sites)"
   ]
  },
  {
   "cell_type": "code",
   "execution_count": 3,
   "metadata": {},
   "outputs": [
    {
     "name": "stdout",
     "output_type": "stream",
     "text": [
      "Response status from siteinfo: OK.\n",
      "Current sites' info has been retrieved. \n",
      "         name  longitude  latitude  altitude\n",
      "site_id                                    \n",
      "585395    aa        134       -13        32\n",
      "585396    df        134       -13        16\n"
     ]
    }
   ],
   "source": [
    "api_parser = ApiParser()\n",
    "api_requester = ApiRequester(parser=api_parser)\n",
    "api_executer = ApiExecuter(requester=api_requester)"
   ]
  },
  {
   "cell_type": "code",
   "execution_count": 4,
   "metadata": {},
   "outputs": [
    {
     "name": "stdout",
     "output_type": "stream",
     "text": [
      "Response status from siteinfo: OK.\n",
      "Site information have been retrieved: \n",
      " {\n",
      "  \"status\": \"OK\",\n",
      "  \"statuscode\": 200,\n",
      "  \"payload\": {\n",
      "    \"solarforecast\": {\n",
      "      \"sites\": {\n",
      "        \"585395\": {\n",
      "          \"altitude\": 32,\n",
      "          \"azimuth\": 0,\n",
      "          \"cddctout\": null,\n",
      "          \"hddctin\": null,\n",
      "          \"hddctout\": null,\n",
      "          \"horizon\": [\n",
      "            0,\n",
      "            0,\n",
      "            0,\n",
      "            0,\n",
      "            0,\n",
      "            0,\n",
      "            0,\n",
      "            0,\n",
      "            0,\n",
      "            0,\n",
      "            0,\n",
      "            0\n",
      "          ],\n",
      "          \"id\": 585395,\n",
      "          \"inclination\": 0,\n",
      "          \"last_update\": \"2023-09-03 16:51:04\",\n",
      "          \"latitude\": -13,\n",
      "          \"longitude\": 134,\n",
      "          \"name\": \"aa\",\n",
      "          \"registered\": \"2023-09-03 16:49:37\",\n",
      "          \"timezone\": \"Australia/Darwin\",\n",
      "          \"utc_offset\": \"UTC+9.5\"\n",
      "        },\n",
      "        \"585396\": {\n",
      "          \"altitude\": 16,\n",
      "          \"azimuth\": 0,\n",
      "          \"cddctout\": null,\n",
      "          \"hddctin\": null,\n",
      "          \"hddctout\": null,\n",
      "          \"horizon\": [\n",
      "            0,\n",
      "            0,\n",
      "            0,\n",
      "            0,\n",
      "            0,\n",
      "            0,\n",
      "            0,\n",
      "            0,\n",
      "            0,\n",
      "            0,\n",
      "            0,\n",
      "            0\n",
      "          ],\n",
      "          \"id\": 585396,\n",
      "          \"inclination\": 0,\n",
      "          \"last_update\": \"2023-09-03 16:51:05\",\n",
      "          \"latitude\": -13,\n",
      "          \"longitude\": 134,\n",
      "          \"name\": \"df\",\n",
      "          \"registered\": \"2023-09-03 16:49:38\",\n",
      "          \"timezone\": \"Australia/Darwin\",\n",
      "          \"utc_offset\": \"UTC+9.5\"\n",
      "        }\n",
      "      },\n",
      "      \"user\": {\n",
      "        \"id\": 393,\n",
      "        \"name\": \"aCentauri\"\n",
      "      }\n",
      "    }\n",
      "  }\n",
      "}\n"
     ]
    },
    {
     "data": {
      "text/html": [
       "<div>\n",
       "<style scoped>\n",
       "    .dataframe tbody tr th:only-of-type {\n",
       "        vertical-align: middle;\n",
       "    }\n",
       "\n",
       "    .dataframe tbody tr th {\n",
       "        vertical-align: top;\n",
       "    }\n",
       "\n",
       "    .dataframe thead th {\n",
       "        text-align: right;\n",
       "    }\n",
       "</style>\n",
       "<table border=\"1\" class=\"dataframe\">\n",
       "  <thead>\n",
       "    <tr style=\"text-align: right;\">\n",
       "      <th></th>\n",
       "      <th>name</th>\n",
       "      <th>longitude</th>\n",
       "      <th>latitude</th>\n",
       "      <th>altitude</th>\n",
       "    </tr>\n",
       "    <tr>\n",
       "      <th>site_id</th>\n",
       "      <th></th>\n",
       "      <th></th>\n",
       "      <th></th>\n",
       "      <th></th>\n",
       "    </tr>\n",
       "  </thead>\n",
       "  <tbody>\n",
       "    <tr>\n",
       "      <th>585395</th>\n",
       "      <td>aa</td>\n",
       "      <td>134</td>\n",
       "      <td>-13</td>\n",
       "      <td>32</td>\n",
       "    </tr>\n",
       "    <tr>\n",
       "      <th>585396</th>\n",
       "      <td>df</td>\n",
       "      <td>134</td>\n",
       "      <td>-13</td>\n",
       "      <td>16</td>\n",
       "    </tr>\n",
       "  </tbody>\n",
       "</table>\n",
       "</div>"
      ],
      "text/plain": [
       "        name  longitude  latitude  altitude\n",
       "site_id                                    \n",
       "585395    aa        134       -13        32\n",
       "585396    df        134       -13        16"
      ]
     },
     "execution_count": 4,
     "metadata": {},
     "output_type": "execute_result"
    }
   ],
   "source": [
    "api_requester.get_site_info(print_is_requested=True)"
   ]
  },
  {
   "cell_type": "code",
   "execution_count": null,
   "metadata": {},
   "outputs": [],
   "source": [
    "api_executer.add_sites(dataframe, print_is_requested=True)"
   ]
  },
  {
   "cell_type": "code",
   "execution_count": null,
   "metadata": {},
   "outputs": [],
   "source": [
    "# api_requester.get_site_delete(585394, print_is_requested=True)\n",
    "api_executer.delete_all_sites()"
   ]
  },
  {
   "cell_type": "code",
   "execution_count": 6,
   "metadata": {},
   "outputs": [
    {
     "name": "stdout",
     "output_type": "stream",
     "text": [
      "Site with id 585396 has been edited: New name: aa.  \n",
      "         name  longitude  latitude  altitude\n",
      "site_id                                    \n",
      "585395    aa        134       -13        32\n",
      "585396    aa        134       -13        16\n",
      "Site with id 585395 has been edited: New position: Longitude: 134.0, latitude: -13.0.  \n",
      "         name  longitude  latitude  altitude\n",
      "site_id                                    \n",
      "585395    aa        134       -13        32\n",
      "585396    aa        134       -13        16\n",
      "Site with id 585396 has been edited: New name: df. New position: Longitude: 134.0, latitude: -13.0.  \n",
      "         name  longitude  latitude  altitude\n",
      "site_id                                    \n",
      "585395    aa        134       -13        32\n",
      "585396    df        134       -13        16\n"
     ]
    }
   ],
   "source": [
    "position = {\n",
    "    'latitude': -13.0,\n",
    "    'longitude': 134.0\n",
    "}\n",
    "api_requester.get_site_edit(585396, True, name=\"aa\")\n",
    "api_requester.get_site_edit(585395, True, position=position)\n",
    "api_requester.get_site_edit(585396, True, name=\"df\", position=position)"
   ]
  },
  {
   "cell_type": "code",
   "execution_count": 7,
   "metadata": {},
   "outputs": [
    {
     "name": "stdout",
     "output_type": "stream",
     "text": [
      "Response status from getforecast_cloudmove: OK.\n",
      "Solar forecast CloudMove have been retrieved.\n",
      "                             gk      tt  gh  dh  bh  dni  e\n",
      "site_id time                                               \n",
      "585395  2023-09-03 17:30:00   0  16.750   0   0   0    0  0\n",
      "        2023-09-03 17:45:00   0  16.675   0   0   0    0  0\n",
      "        2023-09-03 18:00:00   0  16.600   0   0   0    0  0\n",
      "        2023-09-03 18:15:00   0  16.425   0   0   0    0  0\n",
      "        2023-09-03 18:30:00   0  16.250   0   0   0    0  0\n",
      "        2023-09-03 18:45:00   0  16.075   0   0   0    0  0\n",
      "        2023-09-03 19:00:00   0  15.900   0   0   0    0  0\n",
      "        2023-09-03 19:15:00   0  15.750   0   0   0    0  0\n",
      "        2023-09-03 19:30:00   0  15.600   0   0   0    0  0\n",
      "        2023-09-03 19:45:00   0  15.450   0   0   0    0  0\n",
      "        2023-09-03 20:00:00   0  15.300   0   0   0    0  0\n",
      "        2023-09-03 20:15:00   0  15.325   0   0   0    0  0\n",
      "        2023-09-03 20:30:00   0  15.350   0   0   0    0  0\n",
      "        2023-09-03 20:45:00   0  15.375   0   0   0    0  0\n",
      "        2023-09-03 21:00:00   0  15.400   0   0   0    0  0\n",
      "        2023-09-03 21:15:00   0  16.375   0   0   0    0  0\n",
      "        2023-09-03 21:30:00   0  17.350   0   0   0    0  0\n",
      "        2023-09-03 21:45:00   0  18.325   0   0   0    0  0\n",
      "        2023-09-03 22:00:00   0  19.300   0   0   0    0  0\n",
      "        2023-09-03 22:15:00   0  20.325   0   0   0    0  0\n",
      "        2023-09-03 22:30:00   0  21.350   0   0   0    0  0\n",
      "        2023-09-03 22:45:00   0  22.375   0   0   0    0  0\n",
      "        2023-09-03 23:00:00   0  23.400   0   0   0    0  0\n",
      "        2023-09-03 23:15:00   0  24.250   0   0   0    0  0\n",
      "585396  2023-09-03 17:30:00   0  16.750   0   0   0    0  0\n",
      "        2023-09-03 17:45:00   0  16.675   0   0   0    0  0\n",
      "        2023-09-03 18:00:00   0  16.600   0   0   0    0  0\n",
      "        2023-09-03 18:15:00   0  16.425   0   0   0    0  0\n",
      "        2023-09-03 18:30:00   0  16.250   0   0   0    0  0\n",
      "        2023-09-03 18:45:00   0  16.075   0   0   0    0  0\n",
      "        2023-09-03 19:00:00   0  15.900   0   0   0    0  0\n",
      "        2023-09-03 19:15:00   0  15.750   0   0   0    0  0\n",
      "        2023-09-03 19:30:00   0  15.600   0   0   0    0  0\n",
      "        2023-09-03 19:45:00   0  15.450   0   0   0    0  0\n",
      "        2023-09-03 20:00:00   0  15.300   0   0   0    0  0\n",
      "        2023-09-03 20:15:00   0  15.325   0   0   0    0  0\n",
      "        2023-09-03 20:30:00   0  15.350   0   0   0    0  0\n",
      "        2023-09-03 20:45:00   0  15.375   0   0   0    0  0\n",
      "        2023-09-03 21:00:00   0  15.400   0   0   0    0  0\n",
      "        2023-09-03 21:15:00   0  16.375   0   0   0    0  0\n",
      "        2023-09-03 21:30:00   0  17.350   0   0   0    0  0\n",
      "        2023-09-03 21:45:00   0  18.325   0   0   0    0  0\n",
      "        2023-09-03 22:00:00   0  19.300   0   0   0    0  0\n",
      "        2023-09-03 22:15:00   0  20.325   0   0   0    0  0\n",
      "        2023-09-03 22:30:00   0  21.350   0   0   0    0  0\n",
      "        2023-09-03 22:45:00   0  22.375   0   0   0    0  0\n",
      "        2023-09-03 23:00:00   0  23.400   0   0   0    0  0\n",
      "        2023-09-03 23:15:00   0  24.250   0   0   0    0  0\n"
     ]
    }
   ],
   "source": [
    "# forecasts = api_requester.get_solar_forecast()\n",
    "forecasts = api_requester.get_solar_forecast_cloudmove()\n",
    "print(forecasts)"
   ]
  },
  {
   "cell_type": "code",
   "execution_count": null,
   "metadata": {},
   "outputs": [],
   "source": [
    "# Extract all 'rr' values for all site_id and time combinations\n",
    "# rr_values = forecasts.loc[:, ('rr', slice(None), slice(None))].droplevel('variable')\n",
    "rr_values = forecasts.loc[:, ('rh')]\n",
    "rr_values = rr_values.to_frame()\n",
    "print(rr_values)\n",
    "print(rr_values.max(), rr_values.min())\n",
    "# # Assuming your MultiIndex DataFrame is named \"forecast_data\"\n",
    "# pivot_table = rr_values.pivot(index='time', columns='site_id', values='tt')\n",
    "# print(pivot_table)\n",
    "rr_values.to_csv('rh_table.csv')\n",
    "\n",
    "# print(rr_values)"
   ]
  }
 ],
 "metadata": {
  "kernelspec": {
   "display_name": "Python 3",
   "language": "python",
   "name": "python3"
  },
  "language_info": {
   "codemirror_mode": {
    "name": "ipython",
    "version": 3
   },
   "file_extension": ".py",
   "mimetype": "text/x-python",
   "name": "python",
   "nbconvert_exporter": "python",
   "pygments_lexer": "ipython3",
   "version": "3.11.5"
  },
  "orig_nbformat": 4
 },
 "nbformat": 4,
 "nbformat_minor": 2
}
