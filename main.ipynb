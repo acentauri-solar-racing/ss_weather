{
 "cells": [
  {
   "cell_type": "code",
   "execution_count": 1,
   "metadata": {},
   "outputs": [],
   "source": [
    "import pandas as pd\n",
    "import numpy as np\n",
    "\n",
    "from route import Route\n",
    "# from weather_forecast import WeatherForecast\n",
    "# from api_data import ApiData\n",
    "from api_executer import ApiExecuter\n",
    "from api_requester import ApiRequester\n",
    "from api_parser import ApiParser\n",
    "from FUNCTIONS import get_current_location"
   ]
  },
  {
   "cell_type": "code",
   "execution_count": null,
   "metadata": {},
   "outputs": [],
   "source": [
    "location = get_current_location()\n",
    "if location:\n",
    "    latitude, longitude = location\n",
    "    print(f'Current Latitude: {latitude}, Longitude: {longitude}')\n",
    "else:\n",
    "    print('Failed to determine current location.')"
   ]
  },
  {
   "cell_type": "code",
   "execution_count": null,
   "metadata": {},
   "outputs": [],
   "source": [
    "current_position = {'longitude': 130.868566,\n",
    "                    'latitude': -12.432466}\n",
    "delta_spacing = 100000.0 # in meters\n",
    "number_sites = 3\n",
    "route = Route()\n",
    "# route.get_final_data(current_position)\n",
    "# route.get_final_data(current_position, delta_spacing=delta_spacing)\n",
    "dataframe = route.get_route_data(current_position, number_sites=number_sites)"
   ]
  },
  {
   "cell_type": "code",
   "execution_count": 2,
   "metadata": {},
   "outputs": [
    {
     "name": "stdout",
     "output_type": "stream",
     "text": [
      "Response status from siteinfo: OK.\n",
      "Current sites' info has been retrieved. \n",
      "   name site_id  longitude  latitude altitude\n",
      "0    0  584987    130.869  -12.4325       18\n",
      "1    1  584988    133.804  -23.8618      557\n",
      "2    2  584989    138.609  -34.9352       52\n"
     ]
    }
   ],
   "source": [
    "api_parser = ApiParser()\n",
    "api_requester = ApiRequester(parser=api_parser)\n",
    "api_executer = ApiExecuter(requester=api_requester)"
   ]
  },
  {
   "cell_type": "code",
   "execution_count": null,
   "metadata": {},
   "outputs": [],
   "source": [
    "# api_executer.add_sites(dataframe, print_is_requested=False)"
   ]
  },
  {
   "cell_type": "code",
   "execution_count": null,
   "metadata": {},
   "outputs": [],
   "source": [
    "position = {\n",
    "    'latitude': -13.0,\n",
    "    'longitude': 134.0\n",
    "}\n",
    "api_requester.get_site_edit(584978, True, name=\"aa\")\n",
    "api_requester.get_site_edit(584979, True, position=position)\n",
    "api_requester.get_site_edit(584980, True, name=\"df\", position=position)"
   ]
  },
  {
   "cell_type": "code",
   "execution_count": null,
   "metadata": {},
   "outputs": [],
   "source": [
    "api_requester.get_site_info()"
   ]
  },
  {
   "cell_type": "code",
   "execution_count": null,
   "metadata": {},
   "outputs": [],
   "source": [
    "# api_executer.delete_all_sites()\n",
    "api_requester.get_site_delete(584978, True)"
   ]
  },
  {
   "cell_type": "code",
   "execution_count": null,
   "metadata": {},
   "outputs": [],
   "source": [
    "api_requester.get_site_info()"
   ]
  },
  {
   "cell_type": "code",
   "execution_count": 4,
   "metadata": {},
   "outputs": [
    {
     "name": "stdout",
     "output_type": "stream",
     "text": [
      "Response status from getforecast_cloudmove: OK.\n",
      "Solar forecast CloudMove have been retrieved.\n",
      "                             gk      tt  gh  dh  bh  dni  e\n",
      "site_id time                                               \n",
      "584987  2023-08-25 13:15:00   0  22.875   0   0   0    0  0\n",
      "        2023-08-25 13:30:00   0  22.650   0   0   0    0  0\n",
      "        2023-08-25 13:45:00   0  22.425   0   0   0    0  0\n",
      "        2023-08-25 14:00:00   0  22.200   0   0   0    0  0\n",
      "        2023-08-25 14:15:00   0  22.175   0   0   0    0  0\n",
      "...                          ..     ...  ..  ..  ..  ... ..\n",
      "584989  2023-08-25 18:00:00   0  10.700   0   0   0    0  0\n",
      "        2023-08-25 18:15:00   0  10.500   0   0   0    0  0\n",
      "        2023-08-25 18:30:00   0  10.300   0   0   0    0  0\n",
      "        2023-08-25 18:45:00   0  10.100   0   0   0    0  0\n",
      "        2023-08-25 19:00:00   0   9.900   0   0   0    0  0\n",
      "\n",
      "[72 rows x 7 columns]\n"
     ]
    }
   ],
   "source": [
    "forecasts = api_requester.get_solar_forecast_cloudmove()\n",
    "print(forecasts)"
   ]
  },
  {
   "cell_type": "code",
   "execution_count": null,
   "metadata": {},
   "outputs": [],
   "source": [
    "index = forecasts.index\n",
    "\n",
    "# Access the values of time and site_id\n",
    "time_values = index.get_level_values('time')\n",
    "site_id_values = index.get_level_values('site_id')\n",
    "\n",
    "# Print the values\n",
    "print(\"Time values:\", time_values)\n",
    "print(\"Site ID values:\", site_id_values)"
   ]
  },
  {
   "cell_type": "code",
   "execution_count": null,
   "metadata": {},
   "outputs": [],
   "source": [
    "# Extract all 'rr' values for all site_id and time combinations\n",
    "# rr_values = forecasts.loc[:, ('rr', slice(None), slice(None))].droplevel('variable')\n",
    "rr_values = forecasts.loc[:, ('tt')]\n",
    "rr_values = rr_values.to_frame()\n",
    "print(rr_values)\n",
    "# Assuming your MultiIndex DataFrame is named \"forecast_data\"\n",
    "pivot_table = rr_values.pivot(index='time', columns='site_id', values='tt')\n",
    "print(pivot_table)\n",
    "pivot_table.to_csv('pivot_table.csv')\n",
    "\n",
    "print(rr_values)"
   ]
  },
  {
   "cell_type": "code",
   "execution_count": null,
   "metadata": {},
   "outputs": [],
   "source": [
    "import pandas as pd\n",
    "\n",
    "# Create a MultiIndex for the DataFrame\n",
    "index = pd.MultiIndex.from_product([['space1', 'space2'], ['time1', 'time2'], ['variable1', 'variable2']],\n",
    "                                   names=['space', 'time', 'variable'])\n",
    "\n",
    "print(index)\n",
    "# Create an empty DataFrame with the MultiIndex\n",
    "df_3d = pd.DataFrame(index=index, columns=['data'])\n",
    "\n",
    "# Fill the DataFrame with values\n",
    "df_3d.loc[('space1', 'time1', 'variable1')] = 1\n",
    "df_3d.loc[('space1', 'time1', 'variable2')] = 2\n",
    "df_3d.loc[('space1', 'time2', 'variable1')] = 3\n",
    "df_3d.loc[('space1', 'time2', 'variable2')] = 4\n",
    "df_3d.loc[('space2', 'time1', 'variable1')] = 5\n",
    "df_3d.loc[('space2', 'time1', 'variable2')] = 6\n",
    "df_3d.loc[('space2', 'time2', 'variable1')] = 7\n",
    "df_3d.loc[('space2', 'time2', 'variable2')] = 8\n",
    "\n",
    "print(df_3d)\n"
   ]
  }
 ],
 "metadata": {
  "kernelspec": {
   "display_name": "Python 3",
   "language": "python",
   "name": "python3"
  },
  "language_info": {
   "codemirror_mode": {
    "name": "ipython",
    "version": 3
   },
   "file_extension": ".py",
   "mimetype": "text/x-python",
   "name": "python",
   "nbconvert_exporter": "python",
   "pygments_lexer": "ipython3",
   "version": "3.11.4"
  },
  "orig_nbformat": 4
 },
 "nbformat": 4,
 "nbformat_minor": 2
}
