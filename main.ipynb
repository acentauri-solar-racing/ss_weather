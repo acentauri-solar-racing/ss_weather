{
 "cells": [
  {
   "cell_type": "code",
   "execution_count": 1,
   "metadata": {},
   "outputs": [],
   "source": [
    "import pandas as pd\n",
    "import numpy as np\n",
    "\n",
    "from route import Route\n",
    "from weather_forecast import WeatherForecast"
   ]
  },
  {
   "cell_type": "code",
   "execution_count": 2,
   "metadata": {},
   "outputs": [],
   "source": [
    "current_position = {'longitude': 130.868566,\n",
    "                    'latitude': -12.432466}\n",
    "delta_spacing = 100000.0 # in meters\n",
    "number_sites = 3"
   ]
  },
  {
   "cell_type": "code",
   "execution_count": 3,
   "metadata": {},
   "outputs": [
    {
     "name": "stdout",
     "output_type": "stream",
     "text": [
      "    longitude   latitude    altitude   cumDistance  gradient  maxSpeed\n",
      "0  130.868566 -12.432466   11.500000  0.000000e+00  0.024056       100\n",
      "1  133.803762 -23.861845  557.690488  1.513018e+06  0.004450       130\n",
      "2  138.608989 -34.935232   53.250000  3.026035e+06 -0.017856        50\n"
     ]
    }
   ],
   "source": [
    "route = Route()\n",
    "# route.get_final_data(current_position)\n",
    "# route.get_final_data(current_position, delta_spacing=delta_spacing)\n",
    "dataframe = route.get_final_data(current_position, number_sites=number_sites)"
   ]
  },
  {
   "cell_type": "code",
   "execution_count": 4,
   "metadata": {},
   "outputs": [
    {
     "name": "stdout",
     "output_type": "stream",
     "text": [
      "Response status from siteinfo: OK.\n",
      "Current sites:\n",
      "  name site_id  longitude  latitude\n",
      "0   cc  584867    130.869  -12.4325\n",
      "1    1  584868    130.000  -12.0000\n",
      "2   cc  584869    130.000  -12.0000\n",
      "3    0  584873    130.869  -12.4325\n",
      "4    1  584874    133.804  -23.8618\n",
      "5    2  584875    138.609  -34.9352\n"
     ]
    }
   ],
   "source": [
    "api = WeatherForecast()"
   ]
  },
  {
   "cell_type": "code",
   "execution_count": 5,
   "metadata": {},
   "outputs": [],
   "source": [
    "# api.add_sites(dataframe)"
   ]
  },
  {
   "cell_type": "code",
   "execution_count": 6,
   "metadata": {},
   "outputs": [
    {
     "name": "stdout",
     "output_type": "stream",
     "text": [
      "Response status from siteedit: OK (200).\n",
      "Site with ID 584867 has been edited: New name: cc. \n",
      "Response status from siteedit: OK (200).\n",
      "Site with ID 584868 has been edited: New position: {'latitude': -12.0, 'longitude': 130.0}. \n",
      "Response status from siteedit: OK (200).\n",
      "Site with ID 584869 has been edited: New name: cc. New position: {'latitude': -12.0, 'longitude': 130.0}. \n"
     ]
    }
   ],
   "source": [
    "position = {\n",
    "    'latitude': -12.0,\n",
    "    'longitude': 130.0\n",
    "}\n",
    "api.get_site_edit(584867, True, name=\"cc\")\n",
    "api.get_site_edit(584868, True, position=position)\n",
    "api.get_site_edit(584869, True, name=\"cc\", position=position)"
   ]
  },
  {
   "cell_type": "code",
   "execution_count": 7,
   "metadata": {},
   "outputs": [
    {
     "name": "stdout",
     "output_type": "stream",
     "text": [
      "Response status from siteinfo: OK.\n",
      "{\n",
      "  \"status\": \"OK\",\n",
      "  \"statuscode\": 200,\n",
      "  \"payload\": {\n",
      "    \"solarforecast\": {\n",
      "      \"sites\": {\n",
      "        \"584867\": {\n",
      "          \"altitude\": 18,\n",
      "          \"azimuth\": 0,\n",
      "          \"cddctout\": null,\n",
      "          \"hddctin\": null,\n",
      "          \"hddctout\": null,\n",
      "          \"horizon\": [\n",
      "            0,\n",
      "            0,\n",
      "            0,\n",
      "            0,\n",
      "            0,\n",
      "            0,\n",
      "            0,\n",
      "            0,\n",
      "            0,\n",
      "            0,\n",
      "            0,\n",
      "            0\n",
      "          ],\n",
      "          \"id\": 584867,\n",
      "          \"inclination\": 0,\n",
      "          \"last_update\": \"2023-08-23 13:32:37\",\n",
      "          \"latitude\": -12.4325,\n",
      "          \"longitude\": 130.869,\n",
      "          \"name\": \"cc\",\n",
      "          \"registered\": \"2023-08-23 11:56:00\",\n",
      "          \"timezone\": \"Australia/Darwin\",\n",
      "          \"utc_offset\": \"UTC+9.5\"\n",
      "        },\n",
      "        \"584868\": {\n",
      "          \"altitude\": 557,\n",
      "          \"azimuth\": 0,\n",
      "          \"cddctout\": null,\n",
      "          \"hddctin\": null,\n",
      "          \"hddctout\": null,\n",
      "          \"horizon\": [\n",
      "            0,\n",
      "            0,\n",
      "            0,\n",
      "            0,\n",
      "            0,\n",
      "            0,\n",
      "            0,\n",
      "            0,\n",
      "            0,\n",
      "            0,\n",
      "            0,\n",
      "            0\n",
      "          ],\n",
      "          \"id\": 584868,\n",
      "          \"inclination\": 0,\n",
      "          \"last_update\": \"2023-08-23 13:32:37\",\n",
      "          \"latitude\": -12,\n",
      "          \"longitude\": 130,\n",
      "          \"name\": \"1\",\n",
      "          \"registered\": \"2023-08-23 11:56:00\",\n",
      "          \"timezone\": \"Australia/Darwin\",\n",
      "          \"utc_offset\": \"UTC+9.5\"\n",
      "        },\n",
      "        \"584869\": {\n",
      "          \"altitude\": 52,\n",
      "          \"azimuth\": 0,\n",
      "          \"cddctout\": null,\n",
      "          \"hddctin\": null,\n",
      "          \"hddctout\": null,\n",
      "          \"horizon\": [\n",
      "            0,\n",
      "            0,\n",
      "            0,\n",
      "            0,\n",
      "            0,\n",
      "            0,\n",
      "            0,\n",
      "            0,\n",
      "            0,\n",
      "            0,\n",
      "            0,\n",
      "            0\n",
      "          ],\n",
      "          \"id\": 584869,\n",
      "          \"inclination\": 0,\n",
      "          \"last_update\": \"2023-08-23 13:32:38\",\n",
      "          \"latitude\": -12,\n",
      "          \"longitude\": 130,\n",
      "          \"name\": \"cc\",\n",
      "          \"registered\": \"2023-08-23 11:56:01\",\n",
      "          \"timezone\": \"Australia/Darwin\",\n",
      "          \"utc_offset\": \"UTC+9.5\"\n",
      "        },\n",
      "        \"584873\": {\n",
      "          \"altitude\": 18,\n",
      "          \"azimuth\": 0,\n",
      "          \"cddctout\": null,\n",
      "          \"hddctin\": null,\n",
      "          \"hddctout\": null,\n",
      "          \"horizon\": [\n",
      "            0,\n",
      "            0,\n",
      "            0,\n",
      "            0,\n",
      "            0,\n",
      "            0,\n",
      "            0,\n",
      "            0,\n",
      "            0,\n",
      "            0,\n",
      "            0,\n",
      "            0\n",
      "          ],\n",
      "          \"id\": 584873,\n",
      "          \"inclination\": 0,\n",
      "          \"last_update\": \"2023-08-23 13:16:45\",\n",
      "          \"latitude\": -12.4325,\n",
      "          \"longitude\": 130.869,\n",
      "          \"name\": \"0\",\n",
      "          \"registered\": \"2023-08-23 13:16:45\",\n",
      "          \"timezone\": \"Australia/Darwin\",\n",
      "          \"utc_offset\": \"UTC+9.5\"\n",
      "        },\n",
      "        \"584874\": {\n",
      "          \"altitude\": 557,\n",
      "          \"azimuth\": 0,\n",
      "          \"cddctout\": null,\n",
      "          \"hddctin\": null,\n",
      "          \"hddctout\": null,\n",
      "          \"horizon\": [\n",
      "            0,\n",
      "            0,\n",
      "            0,\n",
      "            0,\n",
      "            0,\n",
      "            0,\n",
      "            0,\n",
      "            0,\n",
      "            0,\n",
      "            0,\n",
      "            0,\n",
      "            0\n",
      "          ],\n",
      "          \"id\": 584874,\n",
      "          \"inclination\": 0,\n",
      "          \"last_update\": \"2023-08-23 13:16:46\",\n",
      "          \"latitude\": -23.8618,\n",
      "          \"longitude\": 133.804,\n",
      "          \"name\": \"1\",\n",
      "          \"registered\": \"2023-08-23 13:16:46\",\n",
      "          \"timezone\": \"Australia/Darwin\",\n",
      "          \"utc_offset\": \"UTC+9.5\"\n",
      "        },\n",
      "        \"584875\": {\n",
      "          \"altitude\": 52,\n",
      "          \"azimuth\": 0,\n",
      "          \"cddctout\": null,\n",
      "          \"hddctin\": null,\n",
      "          \"hddctout\": null,\n",
      "          \"horizon\": [\n",
      "            0,\n",
      "            0,\n",
      "            0,\n",
      "            0,\n",
      "            0,\n",
      "            0,\n",
      "            0,\n",
      "            0,\n",
      "            0,\n",
      "            0,\n",
      "            0,\n",
      "            0\n",
      "          ],\n",
      "          \"id\": 584875,\n",
      "          \"inclination\": 0,\n",
      "          \"last_update\": \"2023-08-23 13:16:46\",\n",
      "          \"latitude\": -34.9352,\n",
      "          \"longitude\": 138.609,\n",
      "          \"name\": \"2\",\n",
      "          \"registered\": \"2023-08-23 13:16:46\",\n",
      "          \"timezone\": \"Australia/Adelaide\",\n",
      "          \"utc_offset\": \"UTC+9.5\"\n",
      "        }\n",
      "      },\n",
      "      \"user\": {\n",
      "        \"id\": 393,\n",
      "        \"name\": \"aCentauri\"\n",
      "      }\n",
      "    }\n",
      "  }\n",
      "}\n"
     ]
    },
    {
     "data": {
      "text/plain": [
       "<Response [200]>"
      ]
     },
     "execution_count": 7,
     "metadata": {},
     "output_type": "execute_result"
    }
   ],
   "source": [
    "api.get_site_info()"
   ]
  },
  {
   "cell_type": "code",
   "execution_count": 8,
   "metadata": {},
   "outputs": [
    {
     "name": "stdout",
     "output_type": "stream",
     "text": [
      "Response status from sitedelete: OK (200).\n",
      "Site with id 584867 has been removed.\n",
      "Response status from sitedelete: OK (200).\n",
      "Site with id 584868 has been removed.\n",
      "Response status from sitedelete: OK (200).\n",
      "Site with id 584869 has been removed.\n",
      "Response status from sitedelete: OK (200).\n",
      "Site with id 584873 has been removed.\n",
      "Response status from sitedelete: OK (200).\n",
      "Site with id 584874 has been removed.\n",
      "Response status from sitedelete: OK (200).\n",
      "Site with id 584875 has been removed.\n",
      "All sites have been deleted.\n",
      "Empty DataFrame\n",
      "Columns: [name, site_id, longitude, latitude]\n",
      "Index: []\n"
     ]
    }
   ],
   "source": [
    "api.delete_all_sites()"
   ]
  },
  {
   "cell_type": "code",
   "execution_count": 9,
   "metadata": {},
   "outputs": [
    {
     "name": "stdout",
     "output_type": "stream",
     "text": [
      "Response status from siteinfo: OK.\n",
      "{\n",
      "  \"status\": \"OK\",\n",
      "  \"statuscode\": 200,\n",
      "  \"payload\": {\n",
      "    \"solarforecast\": {\n",
      "      \"sites\": [],\n",
      "      \"user\": {\n",
      "        \"id\": 393,\n",
      "        \"name\": \"aCentauri\"\n",
      "      }\n",
      "    }\n",
      "  }\n",
      "}\n"
     ]
    },
    {
     "data": {
      "text/plain": [
       "<Response [200]>"
      ]
     },
     "execution_count": 9,
     "metadata": {},
     "output_type": "execute_result"
    }
   ],
   "source": [
    "api.get_site_info()"
   ]
  }
 ],
 "metadata": {
  "language_info": {
   "name": "python"
  },
  "orig_nbformat": 4
 },
 "nbformat": 4,
 "nbformat_minor": 2
}
