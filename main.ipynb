{
 "cells": [
  {
   "cell_type": "code",
   "execution_count": 14,
   "metadata": {},
   "outputs": [],
   "source": [
    "from api_executer import ApiExecuter\n",
    "from api_requester import ApiRequester\n",
    "from api_parser import ApiParser\n",
    "from functions import get_current_location"
   ]
  },
  {
   "cell_type": "code",
   "execution_count": 15,
   "metadata": {},
   "outputs": [
    {
     "name": "stdout",
     "output_type": "stream",
     "text": [
      "Current Latitude: -34.9287, Longitude: 138.5986\n"
     ]
    }
   ],
   "source": [
    "location = get_current_location()\n",
    "if location:\n",
    "    latitude, longitude = location\n",
    "    print(f'Current Latitude: {latitude}, Longitude: {longitude}')\n",
    "else:\n",
    "    print('Failed to determine current location.')"
   ]
  },
  {
   "cell_type": "code",
   "execution_count": 16,
   "metadata": {},
   "outputs": [
    {
     "name": "stdout",
     "output_type": "stream",
     "text": [
      "Nearest point index: 8\n",
      "    longitude   latitude  altitudeSmoothed  inclinationSmoothed   cumDistance  \\\n",
      "0  130.844161 -12.456694         16.350559            -0.024998  4.070956e+02   \n",
      "1  132.432250 -14.530751        177.501908            -0.010896  3.371206e+05   \n",
      "2  133.443126 -17.041297        244.299944            -0.000802  6.738341e+05   \n",
      "3  134.202227 -19.844744        333.407446             0.001097  1.010548e+06   \n",
      "4  133.331310 -22.515267        638.287834             0.001966  1.347261e+06   \n",
      "5  133.198145 -25.097933        460.958486             0.008386  1.683975e+06   \n",
      "6  134.024609 -27.828917        300.423269            -0.002393  2.020688e+06   \n",
      "7  135.350570 -30.414686        170.808656            -0.000158  2.357402e+06   \n",
      "8  137.588876 -32.317265         44.598942            -0.000095  2.694115e+06   \n",
      "9  138.608989 -34.935232         56.847434            -0.016969  3.030829e+06   \n",
      "\n",
      "   maxSpeed       theta  cumDistanceCut  \n",
      "0        50   44.136411    0.000000e+00  \n",
      "1       110  164.013801    3.367135e+05  \n",
      "2       100  170.630611    6.734270e+05  \n",
      "3       130  174.861527    1.010141e+06  \n",
      "4       130  186.159928    1.346854e+06  \n",
      "5       130  172.894370    1.683568e+06  \n",
      "6       110  163.501277    2.020281e+06  \n",
      "7       110  166.494968    2.356995e+06  \n",
      "8       110  160.523916    2.693708e+06  \n",
      "9        50    0.000000    3.030422e+06  \n"
     ]
    }
   ],
   "source": [
    "from route_csv2df import RouteDF\n",
    "routeDF = RouteDF()\n",
    "\n",
    "from api_route import ApiRoute\n",
    "current_position = {'longitude': 130.844161,\n",
    "                    'latitude': -12.456694}\n",
    "final_position = {'longitude': 130.890346,\n",
    "                  'latitude': -12.432393}\n",
    "delta_spacing = 2000.0 # in meters\n",
    "number_sites = 10\n",
    "\n",
    "route = ApiRoute(routeDF.get_route_data)\n",
    "\n",
    "route_df = route.cut_route_data(current_position, number_sites=number_sites)\n",
    "# route_df = route.cut_route_data(current_position, number_sites=number_sites, delta_spacing=delta_spacing, print_is_requested=True)\n",
    "# route_df = route.cut_route_data(current_position=current_position, final_position=final_position, number_sites=number_sites)"
   ]
  },
  {
   "cell_type": "code",
   "execution_count": 17,
   "metadata": {},
   "outputs": [
    {
     "name": "stdout",
     "output_type": "stream",
     "text": [
      "Response status from siteinfo: OK.\n",
      "Current sites' info has been retrieved. \n",
      "         name  longitude  latitude  altitude      UTC_offset\n",
      "site_id                                                    \n",
      "586195     0    130.844  -12.4567        32 0 days 09:30:00\n",
      "586196     1    132.432  -14.5308       176 0 days 09:30:00\n",
      "586197     2    133.443  -17.0413       248 0 days 09:30:00\n",
      "586198     3    134.202  -19.8447       332 0 days 09:30:00\n",
      "586199     4    133.331  -22.5153       640 0 days 09:30:00\n",
      "586200     5    133.198  -25.0979       458 0 days 09:30:00\n",
      "586201     6    134.025  -27.8289       302 0 days 09:30:00\n",
      "586202     7    135.351  -30.4147       169 0 days 09:30:00\n",
      "586203     8    137.589  -32.3173        46 0 days 09:30:00\n",
      "586204     9    138.609  -34.9352        52 0 days 09:30:00\n"
     ]
    }
   ],
   "source": [
    "api_parser = ApiParser()\n",
    "api_requester = ApiRequester(parser=api_parser)\n",
    "api_executer = ApiExecuter(requester=api_requester)"
   ]
  },
  {
   "cell_type": "code",
   "execution_count": 18,
   "metadata": {},
   "outputs": [],
   "source": [
    "# api_requester.get_site_info(print_is_requested=True)\n",
    "\n",
    "# api_executer.get_all_site_id\n"
   ]
  },
  {
   "cell_type": "code",
   "execution_count": 19,
   "metadata": {},
   "outputs": [],
   "source": [
    "# api_executer.add_sites(route_df, print_is_requested=True)\n",
    "sites_df = api_requester.forecast_sites"
   ]
  },
  {
   "cell_type": "code",
   "execution_count": 20,
   "metadata": {},
   "outputs": [],
   "source": [
    "# api_requester.get_site_delete(585394, print_is_requested=True)\n",
    "# api_executer.delete_all_sites()"
   ]
  },
  {
   "cell_type": "code",
   "execution_count": 21,
   "metadata": {},
   "outputs": [],
   "source": [
    "# import pandas as pd\n",
    "# import numpy as np\n",
    "# import random\n",
    "# import string\n",
    "\n",
    "# sites_list = api_executer.get_all_site_id(print_is_requested=False)\n",
    "# s_len = len(sites_list)\n",
    "\n",
    "# # Create the DataFrame\n",
    "# prob = 1.0\n",
    "# data = {\n",
    "#     # 'name': ['e'+str(random.randint(1,10)) for _ in range(s_len)],\n",
    "#     'latitude': [random.uniform(-90.0, 90.0) if random.random() < prob else np.nan for _ in range(s_len)],\n",
    "#     'longitude': [random.uniform(-180.0, 180.0) if random.random() < prob else np.nan for _ in range(s_len)]\n",
    "# }\n",
    "\n",
    "# edit_sites = pd.DataFrame(data, index=sites_list)\n",
    "# # print(edit_sites)\n",
    "\n",
    "# api_executer.edit_sites(edit_sites, print_is_requested=True)\n"
   ]
  },
  {
   "cell_type": "code",
   "execution_count": 22,
   "metadata": {},
   "outputs": [
    {
     "name": "stdout",
     "output_type": "stream",
     "text": [
      "Response status from getforecast_cloudmove: OK.\n",
      "Solar forecast CloudMove have been retrieved.\n",
      "                                           gk      tt          gh         dh  \\\n",
      "site_id time                                                                   \n",
      "586195  2023-09-26 09:15:00+09:30  598.000000  28.100  598.000000  66.366363   \n",
      "        2023-09-26 09:30:00+09:30  659.000000  28.400  659.000000  71.811203   \n",
      "        2023-09-26 09:45:00+09:30  721.000000  28.750  721.000000  75.355095   \n",
      "        2023-09-26 10:00:00+09:30  775.500000  29.100  775.500000  81.054956   \n",
      "        2023-09-26 10:15:00+09:30  826.000000  29.450  826.000000  87.353706   \n",
      "...                                       ...     ...         ...        ...   \n",
      "586204  2023-09-26 14:00:00+09:30  788.970347  21.050  788.970347  79.091126   \n",
      "        2023-09-26 14:15:00+09:30  757.509185  21.125  757.509185  75.432021   \n",
      "        2023-09-26 14:30:00+09:30  722.332496  21.200  722.332496  71.710568   \n",
      "        2023-09-26 14:45:00+09:30  683.620250  21.075  683.620250  67.630160   \n",
      "        2023-09-26 15:00:00+09:30  641.582409  20.950  641.582409  63.464709   \n",
      "\n",
      "                                           bh         dni       e  \n",
      "site_id time                                                       \n",
      "586195  2023-09-26 09:15:00+09:30  531.633637  891.180726  134.25  \n",
      "        2023-09-26 09:30:00+09:30  587.188797  909.007714  145.75  \n",
      "        2023-09-26 09:45:00+09:30  645.644905  932.165281  157.25  \n",
      "        2023-09-26 10:00:00+09:30  694.445044  943.107382  167.00  \n",
      "        2023-09-26 10:15:00+09:30  738.646294  950.756723  176.00  \n",
      "...                                       ...         ...     ...  \n",
      "586204  2023-09-26 14:00:00+09:30  709.879220  958.245482  176.50  \n",
      "        2023-09-26 14:15:00+09:30  682.077163  953.503389  170.50  \n",
      "        2023-09-26 14:30:00+09:30  650.621928  947.280321  163.75  \n",
      "        2023-09-26 14:45:00+09:30  615.990090  939.848790  156.25  \n",
      "        2023-09-26 15:00:00+09:30  578.117700  930.616366  148.00  \n",
      "\n",
      "[240 rows x 7 columns]\n"
     ]
    }
   ],
   "source": [
    "# raw_forecast_df = api_requester.get_solar_forecast()\n",
    "raw_forecast_df = api_requester.get_solar_forecast_cloudmove()\n",
    "print(raw_forecast_df)"
   ]
  },
  {
   "cell_type": "code",
   "execution_count": 23,
   "metadata": {},
   "outputs": [
    {
     "name": "stdout",
     "output_type": "stream",
     "text": [
      "Data saved to G:/Drive condivisi/AlphaCentauri/SolarCar_22 23/6. Strategy & Simulation/ss_online_data\\20230926_091239_CM.\n",
      "                                        temperature  globalIrradiance\n",
      "cumDistance  time                                                    \n",
      "4.070956e+02 2023-09-26 09:15:00+09:30        28.10           598.000\n",
      "             2023-09-26 09:30:00+09:30        28.40           659.000\n",
      "             2023-09-26 09:45:00+09:30        28.75           721.000\n",
      "             2023-09-26 10:00:00+09:30        32.10           775.500\n",
      "             2023-09-26 10:15:00+09:30        32.45           826.000\n",
      "...                                             ...               ...\n",
      "3.030829e+06 2023-09-26 12:15:00+09:30        23.60           895.197\n",
      "             2023-09-26 12:30:00+09:30        23.70           892.767\n",
      "             2023-09-26 12:45:00+09:30        23.75           886.011\n",
      "             2023-09-26 13:00:00+09:30        23.80           874.958\n",
      "             2023-09-26 13:15:00+09:30        23.85           859.652\n",
      "\n",
      "[170 rows x 2 columns]\n"
     ]
    }
   ],
   "source": [
    "from preprocessor import Preprocessor\n",
    "preprocessor = Preprocessor()\n",
    "hours_in_advance = 4\n",
    "forecast_df, preprocessed_df = preprocessor.preprocess(route_df, sites_df, raw_forecast_df, hours_in_advance)\n",
    "preprocessor.save_data()\n",
    "print(preprocessed_df)"
   ]
  },
  {
   "cell_type": "markdown",
   "metadata": {},
   "source": []
  }
 ],
 "metadata": {
  "kernelspec": {
   "display_name": "Python 3",
   "language": "python",
   "name": "python3"
  },
  "language_info": {
   "codemirror_mode": {
    "name": "ipython",
    "version": 3
   },
   "file_extension": ".py",
   "mimetype": "text/x-python",
   "name": "python",
   "nbconvert_exporter": "python",
   "pygments_lexer": "ipython3",
   "version": "3.11.5"
  },
  "orig_nbformat": 4
 },
 "nbformat": 4,
 "nbformat_minor": 2
}
