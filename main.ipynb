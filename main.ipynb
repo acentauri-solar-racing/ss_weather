{
 "cells": [
  {
   "cell_type": "code",
   "execution_count": 1,
   "metadata": {},
   "outputs": [],
   "source": [
    "from api_executer import ApiExecuter\n",
    "from api_requester import ApiRequester\n",
    "from api_parser import ApiParser\n",
    "from api_saver import ApiSaver\n",
    "from functions import get_current_location"
   ]
  },
  {
   "cell_type": "code",
   "execution_count": 2,
   "metadata": {},
   "outputs": [
    {
     "name": "stdout",
     "output_type": "stream",
     "text": [
      "Current Latitude: -34.9287, Longitude: 138.5986\n"
     ]
    }
   ],
   "source": [
    "location = get_current_location()\n",
    "if location:\n",
    "    latitude, longitude = location\n",
    "    print(f'Current Latitude: {latitude}, Longitude: {longitude}')\n",
    "else:\n",
    "    print('Failed to determine current location.')"
   ]
  },
  {
   "cell_type": "code",
   "execution_count": 3,
   "metadata": {},
   "outputs": [
    {
     "name": "stdout",
     "output_type": "stream",
     "text": [
      "Nearest point index: 8\n",
      "    longitude   latitude  altitudeSmoothed  inclinationSmoothed   cumDistance  \\\n",
      "0  130.844161 -12.456694         16.350559            -0.024998  4.070956e+02   \n",
      "1  132.432250 -14.530751        177.501908            -0.010896  3.371206e+05   \n",
      "2  133.443126 -17.041297        244.299944            -0.000802  6.738341e+05   \n",
      "3  134.202227 -19.844744        333.407446             0.001097  1.010548e+06   \n",
      "4  133.331310 -22.515267        638.287834             0.001966  1.347261e+06   \n",
      "5  133.198145 -25.097933        460.958486             0.008386  1.683975e+06   \n",
      "6  134.024609 -27.828917        300.423269            -0.002393  2.020688e+06   \n",
      "7  135.350570 -30.414686        170.808656            -0.000158  2.357402e+06   \n",
      "8  137.588876 -32.317265         44.598942            -0.000095  2.694115e+06   \n",
      "9  138.608989 -34.935232         56.847434            -0.016969  3.030829e+06   \n",
      "\n",
      "   maxSpeed       theta  cumDistanceCut  \n",
      "0        50   44.136411    0.000000e+00  \n",
      "1       110  164.013801    3.367135e+05  \n",
      "2       100  170.630611    6.734270e+05  \n",
      "3       130  174.861527    1.010141e+06  \n",
      "4       130  186.159928    1.346854e+06  \n",
      "5       130  172.894370    1.683568e+06  \n",
      "6       110  163.501277    2.020281e+06  \n",
      "7       110  166.494968    2.356995e+06  \n",
      "8       110  160.523916    2.693708e+06  \n",
      "9        50    0.000000    3.030422e+06  \n"
     ]
    }
   ],
   "source": [
    "from route_df import RouteDF\n",
    "routeDF = RouteDF()\n",
    "\n",
    "from api_route import ApiRoute\n",
    "current_position = {'longitude': 130.844161,\n",
    "                    'latitude': -12.456694}\n",
    "final_position = {'longitude': 130.890346,\n",
    "                  'latitude': -12.432393}\n",
    "delta_spacing = 2000.0 # in meters\n",
    "number_sites = 10\n",
    "\n",
    "route = ApiRoute(routeDF.get_route_data())\n",
    "\n",
    "route_df = route.cut_route_data(current_position, number_sites=number_sites)\n",
    "# route_df = route.cut_route_data(current_position, number_sites=number_sites, delta_spacing=delta_spacing, print_is_requested=True)\n",
    "# route_df = route.cut_route_data(current_position=current_position, final_position=final_position, number_sites=number_sites)"
   ]
  },
  {
   "cell_type": "code",
   "execution_count": 4,
   "metadata": {},
   "outputs": [
    {
     "name": "stdout",
     "output_type": "stream",
     "text": [
      "Response status from siteinfo: OK.\n",
      "Current sites' info has been retrieved. \n",
      "         name  longitude  latitude  altitude      UTC_offset\n",
      "site_id                                                    \n",
      "585647     0    130.844  -12.4567        32 0 days 09:30:00\n",
      "585648     1    132.432  -14.5308       176 0 days 09:30:00\n",
      "585649     2    133.443  -17.0413       248 0 days 09:30:00\n",
      "585650     3    134.202  -19.8447       332 0 days 09:30:00\n",
      "585651     4    133.331  -22.5153       640 0 days 09:30:00\n",
      "585652     5    133.198  -25.0979       458 0 days 09:30:00\n",
      "585653     6    134.025  -27.8289       302 0 days 09:30:00\n",
      "585654     7    135.351  -30.4147       169 0 days 09:30:00\n",
      "585655     8    137.589  -32.3173        46 0 days 09:30:00\n",
      "585656     9    138.609  -34.9352        52 0 days 09:30:00\n"
     ]
    }
   ],
   "source": [
    "api_parser = ApiParser()\n",
    "api_requester = ApiRequester(parser=api_parser)\n",
    "api_executer = ApiExecuter(requester=api_requester)\n",
    "\n",
    "sites_df = api_requester.forecast_sites"
   ]
  },
  {
   "cell_type": "code",
   "execution_count": 5,
   "metadata": {},
   "outputs": [],
   "source": [
    "# api_requester.get_site_info(print_is_requested=True)"
   ]
  },
  {
   "cell_type": "code",
   "execution_count": 6,
   "metadata": {},
   "outputs": [],
   "source": [
    "# api_executer.add_sites(route_df, print_is_requested=True)"
   ]
  },
  {
   "cell_type": "code",
   "execution_count": 7,
   "metadata": {},
   "outputs": [],
   "source": [
    "# api_requester.get_site_delete(585394, print_is_requested=True)\n",
    "# api_executer.delete_all_sites()"
   ]
  },
  {
   "cell_type": "code",
   "execution_count": 8,
   "metadata": {},
   "outputs": [],
   "source": [
    "# position = {\n",
    "#     'latitude': -13.0,\n",
    "#     'longitude': 134.0\n",
    "# }\n",
    "# api_requester.get_site_edit(585396, True, name=\"aa\")\n",
    "# api_requester.get_site_edit(585395, True, position=position)\n",
    "# api_requester.get_site_edit(585396, True, name=\"df\", position=position)"
   ]
  },
  {
   "cell_type": "code",
   "execution_count": 9,
   "metadata": {},
   "outputs": [
    {
     "name": "stdout",
     "output_type": "stream",
     "text": [
      "Response status from getforecast: OK.\n",
      "Solar forecast have been retrieved.\n",
      "                                gk      gh_max   gh      tt     ff   rr  \\\n",
      "site_id time                                                              \n",
      "585647  2023-09-21 16:30:00  503.0  545.784160  503  30.700  22.00  0.0   \n",
      "        2023-09-21 16:45:00  444.0  480.747774  444  30.500  21.25  0.0   \n",
      "        2023-09-21 17:00:00  383.0  414.018945  383  30.300  20.50  0.0   \n",
      "        2023-09-21 17:15:00  321.0  346.322578  321  30.100  19.75  0.0   \n",
      "        2023-09-21 17:30:00  259.0  278.571723  259  29.900  19.00  0.0   \n",
      "...                            ...         ...  ...     ...    ...  ...   \n",
      "585656  2023-09-30 14:30:00  551.0  739.173155  551  23.100  20.00  0.0   \n",
      "        2023-09-30 14:45:00  525.0  700.048112  525  22.975  20.00  0.0   \n",
      "        2023-09-30 15:00:00  496.0  657.596187  496  22.850  20.00  0.0   \n",
      "        2023-09-30 15:15:00  464.0  612.059275  464  22.725  20.00  0.0   \n",
      "        2023-09-30 15:30:00  430.0  563.716849  430  22.600  20.00  0.0   \n",
      "\n",
      "                                 dd     rh    fx   tcc     qff  sy  \\\n",
      "site_id time                                                         \n",
      "585647  2023-09-21 16:30:00  356.00  43.00  35.0  2.00  1010.2   1   \n",
      "        2023-09-21 16:45:00  355.25  44.00  34.0  1.75  1010.3   1   \n",
      "        2023-09-21 17:00:00  354.50  45.00  33.0  1.50  1010.4   1   \n",
      "        2023-09-21 17:15:00  353.75  46.00  32.0  1.25  1010.5   1   \n",
      "        2023-09-21 17:30:00  353.00  47.00  31.0  1.00  1010.6   1   \n",
      "...                             ...    ...   ...   ...     ...  ..   \n",
      "585656  2023-09-30 14:30:00  250.00  33.00  30.0  4.00  1017.2   3   \n",
      "        2023-09-30 14:45:00  246.50  33.25  30.0  4.00  1017.1   3   \n",
      "        2023-09-30 15:00:00  243.00  33.50  30.0  4.00  1017.0   3   \n",
      "        2023-09-30 15:15:00  239.50  33.75  30.0  4.00  1016.9   3   \n",
      "        2023-09-30 15:30:00  236.00  34.00  30.0  4.00  1016.8   3   \n",
      "\n",
      "                                     dh          bh         dni       e  \n",
      "site_id time                                                             \n",
      "585647  2023-09-21 16:30:00   94.609057  408.390943  749.710798  113.50  \n",
      "        2023-09-21 16:45:00   84.953249  359.046751  731.591038  101.75  \n",
      "        2023-09-21 17:00:00   77.796967  305.203033  702.104033   89.00  \n",
      "        2023-09-21 17:15:00   72.881437  248.118563  658.595394   75.50  \n",
      "        2023-09-21 17:30:00   63.197568  195.802432  617.386659   61.75  \n",
      "...                                 ...         ...         ...     ...  \n",
      "585656  2023-09-30 14:30:00  295.862110  255.137890  364.946544  128.00  \n",
      "        2023-09-30 14:45:00  275.700860  249.299140  373.509048  122.50  \n",
      "        2023-09-30 15:00:00  254.752878  241.247122  381.098332  116.50  \n",
      "        2023-09-30 15:15:00  233.418142  230.581858  386.884275  109.75  \n",
      "        2023-09-30 15:30:00  217.766076  212.233924  381.367645  102.50  \n",
      "\n",
      "[8610 rows x 16 columns]\n"
     ]
    }
   ],
   "source": [
    "raw_forecast_df = api_requester.get_solar_forecast()\n",
    "# raw_forecast_df = api_requester.get_solar_forecast_cloudmove()\n",
    "print(raw_forecast_df)"
   ]
  },
  {
   "cell_type": "code",
   "execution_count": 10,
   "metadata": {},
   "outputs": [],
   "source": [
    "# api_saver = ApiSaver()\n",
    "\n",
    "# forecast_df = api_saver.save_raw_data(route_df, sites_df, raw_forecast_df)\n",
    "# print(forecast_df)"
   ]
  },
  {
   "cell_type": "code",
   "execution_count": 11,
   "metadata": {},
   "outputs": [
    {
     "name": "stdout",
     "output_type": "stream",
     "text": [
      "Data saved to G:/Drive condivisi/AlphaCentauri/SolarCar_22 23/6. Strategy & Simulation/ss_online_data\\20230921_174026_SF.\n"
     ]
    }
   ],
   "source": [
    "from preprocessor import Preprocessor\n",
    "preprocessor = Preprocessor()\n",
    "hours_in_advance = 7\n",
    "forecast_df, preprocessed_df = preprocessor.preprocess(route_df, sites_df, raw_forecast_df, hours_in_advance)\n",
    "preprocessor.save_data()\n",
    "\n",
    "# from forecast_preprocessor import ForecastPreprocessor\n",
    "# forecast_preprocessor = ForecastPreprocessor()\n",
    "# forecast_preprocessor.forecast_preprocessing(route_df, forecast_df, hours_in_advance)"
   ]
  }
 ],
 "metadata": {
  "kernelspec": {
   "display_name": "Python 3",
   "language": "python",
   "name": "python3"
  },
  "language_info": {
   "codemirror_mode": {
    "name": "ipython",
    "version": 3
   },
   "file_extension": ".py",
   "mimetype": "text/x-python",
   "name": "python",
   "nbconvert_exporter": "python",
   "pygments_lexer": "ipython3",
   "version": "3.11.5"
  },
  "orig_nbformat": 4
 },
 "nbformat": 4,
 "nbformat_minor": 2
}
