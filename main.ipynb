{
 "cells": [
  {
   "cell_type": "code",
   "execution_count": 1,
   "metadata": {},
   "outputs": [
    {
     "name": "stdout",
     "output_type": "stream",
     "text": [
      "Current Latitude: -34.9287, Longitude: 138.5986\n"
     ]
    }
   ],
   "source": [
    "from functions import get_current_location\n",
    "location = get_current_location()\n",
    "if location:\n",
    "    latitude, longitude = location\n",
    "    print(f'Current Latitude: {latitude}, Longitude: {longitude}')\n",
    "else:\n",
    "    print('Failed to determine current location.')"
   ]
  },
  {
   "cell_type": "code",
   "execution_count": 2,
   "metadata": {},
   "outputs": [
    {
     "name": "stdout",
     "output_type": "stream",
     "text": [
      "Nearest point index in the csv file: 19\n",
      "    longitude   latitude  altitudeSmoothed  inclinationSmoothed   cumDistance  \\\n",
      "0  130.846642 -12.453400          9.771296             0.002481    863.372443   \n",
      "1  130.851570 -12.436684         18.485693             0.027242   2863.372443   \n",
      "2  130.869031 -12.432464         12.838496             0.020312   4863.372443   \n",
      "3  130.887449 -12.432392         17.266186             0.009033   6863.372443   \n",
      "4  130.904002 -12.439044         32.961748             0.021710   8863.372443   \n",
      "5  130.918944 -12.447986         16.445057            -0.003771  10863.372443   \n",
      "6  130.936241 -12.452880         15.733618            -0.009095  12863.372443   \n",
      "7  130.952950 -12.460350         17.285261             0.001368  14863.372443   \n",
      "8  130.970457 -12.463843         31.088347            -0.016255  16863.372443   \n",
      "9  130.987365 -12.470275         37.543724             0.011657  18863.372443   \n",
      "\n",
      "   maxSpeed       theta  cumDistanceCut  \n",
      "0        50   42.030217             0.0  \n",
      "1        80   48.477007          2000.0  \n",
      "2        80   89.720185          4000.0  \n",
      "3       100   90.258589          6000.0  \n",
      "4       100  104.282372          8000.0  \n",
      "5       100  141.354873         10000.0  \n",
      "6        80  108.388217         12000.0  \n",
      "7       100  123.457368         14000.0  \n",
      "8       100   96.624368         16000.0  \n",
      "9        80  102.556183         18000.0  \n"
     ]
    }
   ],
   "source": [
    "from route_csv2df import RouteDF\n",
    "routeDF = RouteDF()\n",
    "\n",
    "from api_route import ApiRoute\n",
    "current_position = {'longitude': 130.846642,\n",
    "                    'latitude': -12.4534}\n",
    "final_position = {'longitude': 130.890346,\n",
    "                  'latitude': -12.432393}\n",
    "delta_spacing = 2000.0 # in meters\n",
    "number_sites = 10\n",
    "\n",
    "route = ApiRoute(routeDF.get_route_data, print_is_requested=True)\n",
    "\n",
    "# route_df = route.cut_route_data(current_position, number_sites=number_sites)\n",
    "route_df = route.cut_route_data(current_position, number_sites=number_sites, delta_spacing=delta_spacing)\n",
    "# route_df = route.cut_route_data(current_position=current_position, final_position=final_position, number_sites=number_sites)"
   ]
  },
  {
   "cell_type": "code",
   "execution_count": 3,
   "metadata": {},
   "outputs": [
    {
     "name": "stdout",
     "output_type": "stream",
     "text": [
      "Response status from siteinfo: OK.\n",
      "Current sites' info has been retrieved:\n",
      "        name  longitude  latitude  altitude      UTC_offset\n",
      "site_id                                                    \n",
      "586195     0    130.844  -12.4567        32 0 days 09:30:00\n",
      "586196     1    132.432  -14.5308       176 0 days 09:30:00\n",
      "586197     2    133.443  -17.0413       248 0 days 09:30:00\n",
      "586198     3    134.202  -19.8447       332 0 days 09:30:00\n",
      "586199     4    133.331  -22.5153       640 0 days 09:30:00\n",
      "586200     5    133.198  -25.0979       458 0 days 09:30:00\n",
      "586201     6    134.025  -27.8289       302 0 days 09:30:00\n",
      "586202     7    135.351  -30.4147       169 0 days 09:30:00\n",
      "586203     8    137.589  -32.3173        46 0 days 09:30:00\n",
      "586204     9    138.609  -34.9352        52 0 days 09:30:00\n"
     ]
    }
   ],
   "source": [
    "from api_executer import ApiExecuter\n",
    "from api_requester import ApiRequester\n",
    "from api_parser import ApiParser\n",
    "\n",
    "api_parser = ApiParser()\n",
    "api_requester = ApiRequester(parser=api_parser, print_is_requested=True)\n",
    "api_executer = ApiExecuter(requester=api_requester)"
   ]
  },
  {
   "cell_type": "code",
   "execution_count": 18,
   "metadata": {},
   "outputs": [],
   "source": [
    "# api_requester.get_site_info(print_is_requested=True)\n",
    "# api_executer.get_all_site_id"
   ]
  },
  {
   "cell_type": "code",
   "execution_count": 4,
   "metadata": {},
   "outputs": [],
   "source": [
    "# api_executer.add_sites(route_df, print_is_requested=True)\n",
    "sites_df = api_requester.forecast_sites"
   ]
  },
  {
   "cell_type": "code",
   "execution_count": 20,
   "metadata": {},
   "outputs": [],
   "source": [
    "# api_requester.get_site_delete(585394, print_is_requested=True)\n",
    "# api_executer.delete_all_sites()"
   ]
  },
  {
   "cell_type": "code",
   "execution_count": 21,
   "metadata": {},
   "outputs": [],
   "source": [
    "# import pandas as pd\n",
    "# import numpy as np\n",
    "# import random\n",
    "# import string\n",
    "\n",
    "# sites_list = api_executer.get_all_site_id(print_is_requested=False)\n",
    "# s_len = len(sites_list)\n",
    "\n",
    "# # Create the DataFrame\n",
    "# prob = 1.0\n",
    "# data = {\n",
    "#     # 'name': ['e'+str(random.randint(1,10)) for _ in range(s_len)],\n",
    "#     'latitude': [random.uniform(-90.0, 90.0) if random.random() < prob else np.nan for _ in range(s_len)],\n",
    "#     'longitude': [random.uniform(-180.0, 180.0) if random.random() < prob else np.nan for _ in range(s_len)]\n",
    "# }\n",
    "\n",
    "# edit_sites = pd.DataFrame(data, index=sites_list)\n",
    "# # print(edit_sites)\n",
    "\n",
    "# api_executer.edit_sites(edit_sites, print_is_requested=True)"
   ]
  },
  {
   "cell_type": "code",
   "execution_count": 7,
   "metadata": {},
   "outputs": [
    {
     "name": "stdout",
     "output_type": "stream",
     "text": [
      "Response status from getforecast: OK.\n",
      "                                      gk      gh_max   gh      tt    ff  \\\n",
      "site_id time                                                              \n",
      "586195  2023-09-26 09:30:00+09:30  601.0  671.147483  601  28.300  12.0   \n",
      "        2023-09-26 09:45:00+09:30  649.0  728.599268  649  28.500  13.0   \n",
      "        2023-09-26 10:00:00+09:30  692.0  782.525657  692  28.700  14.0   \n",
      "        2023-09-26 10:15:00+09:30  731.0  832.621341  731  28.900  15.0   \n",
      "        2023-09-26 10:30:00+09:30  766.0  878.625926  766  29.100  16.0   \n",
      "...                                  ...         ...  ...     ...   ...   \n",
      "586204  2023-10-05 07:30:00+09:30  131.0  282.207931  131  17.100  19.0   \n",
      "        2023-10-05 07:45:00+09:30  164.0  339.161898  164  17.325  19.5   \n",
      "        2023-10-05 08:00:00+09:30  199.0  395.838169  199  17.550  20.0   \n",
      "        2023-10-05 08:15:00+09:30  237.0  451.584335  237  17.775  20.5   \n",
      "        2023-10-05 08:30:00+09:30  275.0  505.859026  275  18.000  21.0   \n",
      "\n",
      "                                        rr      dd     rh     fx  tcc  \\\n",
      "site_id time                                                            \n",
      "586195  2023-09-26 09:30:00+09:30  0.00000   61.00  57.00  19.00  2.0   \n",
      "        2023-09-26 09:45:00+09:30  0.00000   59.75  56.25  20.25  2.0   \n",
      "        2023-09-26 10:00:00+09:30  0.00000   58.50  55.50  21.50  2.0   \n",
      "        2023-09-26 10:15:00+09:30  0.00000   57.25  54.75  22.75  2.0   \n",
      "        2023-09-26 10:30:00+09:30  0.00000   56.00  54.00  24.00  2.0   \n",
      "...                                    ...     ...    ...    ...  ...   \n",
      "586204  2023-10-05 07:30:00+09:30  0.00000  311.00  60.00  32.00  6.0   \n",
      "        2023-10-05 07:45:00+09:30  0.00625  307.00  59.25  32.25  6.0   \n",
      "        2023-10-05 08:00:00+09:30  0.01250  303.00  58.50  32.50  6.0   \n",
      "        2023-10-05 08:15:00+09:30  0.01875  299.00  57.75  32.75  6.0   \n",
      "        2023-10-05 08:30:00+09:30  0.02500  295.00  57.00  33.00  6.0   \n",
      "\n",
      "                                        qff  sy          dh          bh  \\\n",
      "site_id time                                                              \n",
      "586195  2023-09-26 09:30:00+09:30  1014.900   1  174.460508  426.539492   \n",
      "        2023-09-26 09:45:00+09:30  1014.850   1  162.963838  486.036162   \n",
      "        2023-09-26 10:00:00+09:30  1014.800   1  187.517619  504.482381   \n",
      "        2023-09-26 10:15:00+09:30  1014.750   1  214.040706  516.959294   \n",
      "        2023-09-26 10:30:00+09:30  1014.700   1  241.502717  524.497283   \n",
      "...                                     ...  ..         ...         ...   \n",
      "586204  2023-10-05 07:30:00+09:30  1012.600   3  126.073581    4.926419   \n",
      "        2023-10-05 07:45:00+09:30  1012.725   2  154.290065    9.709935   \n",
      "        2023-10-05 08:00:00+09:30  1012.850   2  179.605570   19.394430   \n",
      "        2023-10-05 08:15:00+09:30  1012.975   2  209.455107   27.544893   \n",
      "        2023-10-05 08:30:00+09:30  1013.100   2  239.110631   35.889369   \n",
      "\n",
      "                                          dni       e  \n",
      "site_id time                                           \n",
      "586195  2023-09-26 09:30:00+09:30  660.311795  134.75  \n",
      "        2023-09-26 09:45:00+09:30  701.726340  144.00  \n",
      "        2023-09-26 10:00:00+09:30  685.124132  152.00  \n",
      "        2023-09-26 10:15:00+09:30  665.409856  159.00  \n",
      "        2023-09-26 10:30:00+09:30  644.223174  165.50  \n",
      "...                                       ...     ...  \n",
      "586204  2023-10-05 07:30:00+09:30   15.494781   34.00  \n",
      "        2023-10-05 07:45:00+09:30   26.408351   42.25  \n",
      "        2023-10-05 08:00:00+09:30   46.617514   50.75  \n",
      "        2023-10-05 08:15:00+09:30   59.520480   60.00  \n",
      "        2023-10-05 08:30:00+09:30   70.686632   69.00  \n",
      "\n",
      "[8610 rows x 16 columns]\n"
     ]
    }
   ],
   "source": [
    "raw_forecast_df = api_requester.get_solar_forecast()\n",
    "# raw_forecast_df = api_requester.get_solar_forecast_cloudmove()\n",
    "print(raw_forecast_df)"
   ]
  },
  {
   "cell_type": "code",
   "execution_count": 8,
   "metadata": {},
   "outputs": [
    {
     "name": "stdout",
     "output_type": "stream",
     "text": [
      "Data saved to G:/Drive condivisi/AlphaCentauri/SolarCar_22 23/6. Strategy & Simulation/ss_online_data\\20230926_111522_SF.\n",
      "                                        temperature  globalIrradiance  \\\n",
      "cumDistance  time                                                       \n",
      "863.372443   2023-09-26 11:15:00+09:30       32.925               857   \n",
      "             2023-09-26 11:30:00+09:30       33.200               878   \n",
      "             2023-09-26 11:45:00+09:30       33.450               903   \n",
      "             2023-09-26 12:00:00+09:30       33.700               923   \n",
      "             2023-09-26 12:15:00+09:30       33.950               939   \n",
      "...                                             ...               ...   \n",
      "18863.372443 2023-09-26 14:30:00+09:30       23.400               568   \n",
      "             2023-09-26 14:45:00+09:30       23.225               534   \n",
      "             2023-09-26 15:00:00+09:30       23.050               499   \n",
      "             2023-09-26 15:15:00+09:30       22.875               461   \n",
      "             2023-09-26 15:30:00+09:30       22.700               422   \n",
      "\n",
      "                                        windSpeed  windDirection  windGust  \\\n",
      "cumDistance  time                                                            \n",
      "863.372443   2023-09-26 11:15:00+09:30      2.253         260.75     3.632   \n",
      "             2023-09-26 11:30:00+09:30      2.287         329.00     3.767   \n",
      "             2023-09-26 11:45:00+09:30      2.354         326.50     3.969   \n",
      "             2023-09-26 12:00:00+09:30      2.422         324.00     4.170   \n",
      "             2023-09-26 12:15:00+09:30      2.489         321.50     4.372   \n",
      "...                                           ...            ...       ...   \n",
      "18863.372443 2023-09-26 14:30:00+09:30      2.018         234.00     3.363   \n",
      "             2023-09-26 14:45:00+09:30      2.018         231.25     3.363   \n",
      "             2023-09-26 15:00:00+09:30      2.018         228.50     3.363   \n",
      "             2023-09-26 15:15:00+09:30      2.018         225.75     3.363   \n",
      "             2023-09-26 15:30:00+09:30      2.018         223.00     3.363   \n",
      "\n",
      "                                        sideWind  frontWind  airDensity  \n",
      "cumDistance  time                                                        \n",
      "863.372443   2023-09-26 11:15:00+09:30    -0.392     -0.488       1.142  \n",
      "             2023-09-26 11:30:00+09:30    -0.608      0.185       1.141  \n",
      "             2023-09-26 11:45:00+09:30    -0.633      0.163       1.140  \n",
      "             2023-09-26 12:00:00+09:30    -0.658      0.140       1.139  \n",
      "             2023-09-26 12:15:00+09:30    -0.682      0.114       1.138  \n",
      "...                                          ...        ...         ...  \n",
      "18863.372443 2023-09-26 14:30:00+09:30     0.420     -0.371       1.180  \n",
      "             2023-09-26 14:45:00+09:30     0.438     -0.350       1.181  \n",
      "             2023-09-26 15:00:00+09:30     0.454     -0.329       1.182  \n",
      "             2023-09-26 15:15:00+09:30     0.469     -0.307       1.182  \n",
      "             2023-09-26 15:30:00+09:30     0.483     -0.284       1.183  \n",
      "\n",
      "[180 rows x 8 columns]\n"
     ]
    }
   ],
   "source": [
    "from preprocessor import Preprocessor\n",
    "preprocessor = Preprocessor()\n",
    "hours_in_advance = 4\n",
    "forecast_df, preprocessed_df = preprocessor.preprocess(route_df, sites_df, raw_forecast_df, hours_in_advance)\n",
    "preprocessor.save_data()\n",
    "print(preprocessed_df)"
   ]
  },
  {
   "cell_type": "markdown",
   "metadata": {},
   "source": []
  }
 ],
 "metadata": {
  "kernelspec": {
   "display_name": "Python 3",
   "language": "python",
   "name": "python3"
  },
  "language_info": {
   "codemirror_mode": {
    "name": "ipython",
    "version": 3
   },
   "file_extension": ".py",
   "mimetype": "text/x-python",
   "name": "python",
   "nbconvert_exporter": "python",
   "pygments_lexer": "ipython3",
   "version": "3.11.5"
  },
  "orig_nbformat": 4
 },
 "nbformat": 4,
 "nbformat_minor": 2
}
