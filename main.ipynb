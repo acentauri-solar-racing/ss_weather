{
 "cells": [
  {
   "cell_type": "code",
   "execution_count": 1,
   "metadata": {},
   "outputs": [],
   "source": [
    "import pandas as pd\n",
    "import numpy as np\n",
    "\n",
    "from route import Route\n",
    "# from weather_forecast import WeatherForecast\n",
    "# from api_data import ApiData\n",
    "from api_executer import ApiExecuter\n",
    "from api_requester import ApiRequester\n",
    "from api_parser import ApiParser\n",
    "from FUNCTIONS import get_current_location"
   ]
  },
  {
   "cell_type": "code",
   "execution_count": null,
   "metadata": {},
   "outputs": [],
   "source": [
    "location = get_current_location()\n",
    "if location:\n",
    "    latitude, longitude = location\n",
    "    print(f'Current Latitude: {latitude}, Longitude: {longitude}')\n",
    "else:\n",
    "    print('Failed to determine current location.')"
   ]
  },
  {
   "cell_type": "code",
   "execution_count": null,
   "metadata": {},
   "outputs": [],
   "source": [
    "current_position = {'longitude': 130.868566,\n",
    "                    'latitude': -12.432466}\n",
    "delta_spacing = 100000.0 # in meters\n",
    "number_sites = 3\n",
    "route = Route()\n",
    "# route.get_final_data(current_position)\n",
    "# route.get_final_data(current_position, delta_spacing=delta_spacing)\n",
    "dataframe = route.get_route_data(current_position, number_sites=number_sites)"
   ]
  },
  {
   "cell_type": "code",
   "execution_count": 2,
   "metadata": {},
   "outputs": [
    {
     "name": "stdout",
     "output_type": "stream",
     "text": [
      "Response status from siteinfo: OK.\n",
      "Current sites' info has been retrieved. \n",
      "   name site_id  longitude  latitude altitude\n",
      "0    0  584987    130.869  -12.4325       18\n",
      "1    1  584988    133.804  -23.8618      557\n",
      "2    2  584989    138.609  -34.9352       52\n"
     ]
    }
   ],
   "source": [
    "api_parser = ApiParser()\n",
    "api_requester = ApiRequester(parser=api_parser)\n",
    "api_executer = ApiExecuter(requester=api_requester)"
   ]
  },
  {
   "cell_type": "code",
   "execution_count": null,
   "metadata": {},
   "outputs": [],
   "source": [
    "# api_executer.add_sites(dataframe, print_is_requested=False)"
   ]
  },
  {
   "cell_type": "code",
   "execution_count": null,
   "metadata": {},
   "outputs": [],
   "source": [
    "position = {\n",
    "    'latitude': -13.0,\n",
    "    'longitude': 134.0\n",
    "}\n",
    "api_requester.get_site_edit(584978, True, name=\"aa\")\n",
    "api_requester.get_site_edit(584979, True, position=position)\n",
    "api_requester.get_site_edit(584980, True, name=\"df\", position=position)"
   ]
  },
  {
   "cell_type": "code",
   "execution_count": null,
   "metadata": {},
   "outputs": [],
   "source": [
    "api_requester.get_site_info()"
   ]
  },
  {
   "cell_type": "code",
   "execution_count": null,
   "metadata": {},
   "outputs": [],
   "source": [
    "# api_executer.delete_all_sites()\n",
    "api_requester.get_site_delete(584978, True)"
   ]
  },
  {
   "cell_type": "code",
   "execution_count": null,
   "metadata": {},
   "outputs": [],
   "source": [
    "api_requester.get_site_info()"
   ]
  },
  {
   "cell_type": "code",
   "execution_count": 3,
   "metadata": {},
   "outputs": [
    {
     "name": "stdout",
     "output_type": "stream",
     "text": [
      "Response status from getforecast: OK.\n",
      "Solar forecast have been retrieved.\n",
      "                                     gk      gh_max   gh     tt         ff  \\\n",
      "site_id time                                                                 \n",
      "584987  2023-08-25 09:00:00   26.415131   37.115045   30  27.80  11.000000   \n",
      "        2023-08-25 09:10:00   13.474237   16.970465   14  27.60  10.833333   \n",
      "        2023-08-25 09:20:00    0.000000    5.877645    5  27.40  10.666667   \n",
      "        2023-08-25 09:30:00    0.000000    0.000000    0  27.20  10.500000   \n",
      "        2023-08-25 09:40:00    0.000000    0.000000    0  27.00  10.333333   \n",
      "...                                 ...         ...  ...    ...        ...   \n",
      "584989  2023-09-03 07:20:00  105.000000  183.686111  105  16.30  16.333333   \n",
      "        2023-09-03 07:30:00   84.000000  150.551809   84  16.05  16.000000   \n",
      "        2023-09-03 07:40:00   66.000000  118.673060   66  15.80  15.666667   \n",
      "        2023-09-03 07:50:00   48.000000   88.791628   48  15.55  15.333333   \n",
      "        2023-09-03 08:00:00   32.873770   61.968017   33  15.30  15.000000   \n",
      "\n",
      "                              rr          dd         rh         fx       tcc  \\\n",
      "site_id time                                                                   \n",
      "584987  2023-08-25 09:00:00  0.0  322.000000  45.000000  22.000000  0.000000   \n",
      "        2023-08-25 09:10:00  0.0  314.666667  46.833333  21.000000  0.166667   \n",
      "        2023-08-25 09:20:00  0.0  307.333333  48.666667  20.000000  0.333333   \n",
      "        2023-08-25 09:30:00  0.0  300.000000  50.500000  19.000000  0.500000   \n",
      "        2023-08-25 09:40:00  0.0  292.666667  52.333333  18.000000  0.666667   \n",
      "...                          ...         ...        ...        ...       ...   \n",
      "584989  2023-09-03 07:20:00  0.0  295.000000  58.000000  28.666667  4.000000   \n",
      "        2023-09-03 07:30:00  0.0  296.500000  59.000000  28.000000  4.000000   \n",
      "        2023-09-03 07:40:00  0.0  298.000000  60.000000  27.333333  4.000000   \n",
      "        2023-09-03 07:50:00  0.0  299.500000  61.000000  26.666667  4.000000   \n",
      "        2023-09-03 08:00:00  0.0  301.000000  62.000000  26.000000  4.000000   \n",
      "\n",
      "                                     qff  sy         dh         bh        dni  \\\n",
      "site_id time                                                                    \n",
      "584987  2023-08-25 09:00:00  1010.700000   1  24.748667   5.251333  91.557458   \n",
      "        2023-08-25 09:10:00  1010.916667   1  14.000000   0.000000   0.000000   \n",
      "        2023-08-25 09:20:00  1011.133333   1   0.000000   0.000000   0.000000   \n",
      "        2023-08-25 09:30:00  1011.350000   1   0.000000   0.000000   0.000000   \n",
      "        2023-08-25 09:40:00  1011.566667   1   0.000000   0.000000   0.000000   \n",
      "...                                  ...  ..        ...        ...        ...   \n",
      "584989  2023-09-03 07:20:00  1016.033333   3  93.359269  11.640731  50.486291   \n",
      "        2023-09-03 07:30:00  1016.050000   3  76.431318   7.568682  38.309928   \n",
      "        2023-09-03 07:40:00  1016.066667   3  60.652196   5.347804  32.602925   \n",
      "        2023-09-03 07:50:00  1016.083333   3  45.387132   2.612868  20.094729   \n",
      "        2023-09-03 08:00:00  1016.100000   3  31.991292   1.008708  10.548401   \n",
      "\n",
      "                                     e  \n",
      "site_id time                            \n",
      "584987  2023-08-25 09:00:00   4.500000  \n",
      "        2023-08-25 09:10:00   2.333333  \n",
      "        2023-08-25 09:20:00   0.000000  \n",
      "        2023-08-25 09:30:00   0.000000  \n",
      "        2023-08-25 09:40:00   0.000000  \n",
      "...                                ...  \n",
      "584989  2023-09-03 07:20:00  18.333333  \n",
      "        2023-09-03 07:30:00  14.666667  \n",
      "        2023-09-03 07:40:00  11.500000  \n",
      "        2023-09-03 07:50:00   8.500000  \n",
      "        2023-09-03 08:00:00   5.833333  \n",
      "\n",
      "[3873 rows x 16 columns]\n"
     ]
    }
   ],
   "source": [
    "forecasts = api_requester.get_solar_forecast()\n",
    "print(forecasts)"
   ]
  },
  {
   "cell_type": "code",
   "execution_count": 11,
   "metadata": {},
   "outputs": [
    {
     "name": "stdout",
     "output_type": "stream",
     "text": [
      "                                tt\n",
      "site_id time                      \n",
      "584987  2023-08-25 09:00:00  27.80\n",
      "        2023-08-25 09:10:00  27.60\n",
      "        2023-08-25 09:20:00  27.40\n",
      "        2023-08-25 09:30:00  27.20\n",
      "        2023-08-25 09:40:00  27.00\n",
      "...                            ...\n",
      "584989  2023-09-03 07:20:00  16.30\n",
      "        2023-09-03 07:30:00  16.05\n",
      "        2023-09-03 07:40:00  15.80\n",
      "        2023-09-03 07:50:00  15.55\n",
      "        2023-09-03 08:00:00  15.30\n",
      "\n",
      "[3873 rows x 1 columns]\n"
     ]
    },
    {
     "ename": "KeyError",
     "evalue": "'time'",
     "output_type": "error",
     "traceback": [
      "\u001b[1;31m---------------------------------------------------------------------------\u001b[0m",
      "\u001b[1;31mKeyError\u001b[0m                                  Traceback (most recent call last)",
      "File \u001b[1;32m~\\AppData\\Local\\Packages\\PythonSoftwareFoundation.Python.3.11_qbz5n2kfra8p0\\LocalCache\\local-packages\\Python311\\site-packages\\pandas\\core\\indexes\\base.py:3652\u001b[0m, in \u001b[0;36mIndex.get_loc\u001b[1;34m(self, key)\u001b[0m\n\u001b[0;32m   3651\u001b[0m \u001b[39mtry\u001b[39;00m:\n\u001b[1;32m-> 3652\u001b[0m     \u001b[39mreturn\u001b[39;00m \u001b[39mself\u001b[39;49m\u001b[39m.\u001b[39;49m_engine\u001b[39m.\u001b[39;49mget_loc(casted_key)\n\u001b[0;32m   3653\u001b[0m \u001b[39mexcept\u001b[39;00m \u001b[39mKeyError\u001b[39;00m \u001b[39mas\u001b[39;00m err:\n",
      "File \u001b[1;32m~\\AppData\\Local\\Packages\\PythonSoftwareFoundation.Python.3.11_qbz5n2kfra8p0\\LocalCache\\local-packages\\Python311\\site-packages\\pandas\\_libs\\index.pyx:147\u001b[0m, in \u001b[0;36mpandas._libs.index.IndexEngine.get_loc\u001b[1;34m()\u001b[0m\n",
      "File \u001b[1;32m~\\AppData\\Local\\Packages\\PythonSoftwareFoundation.Python.3.11_qbz5n2kfra8p0\\LocalCache\\local-packages\\Python311\\site-packages\\pandas\\_libs\\index.pyx:176\u001b[0m, in \u001b[0;36mpandas._libs.index.IndexEngine.get_loc\u001b[1;34m()\u001b[0m\n",
      "File \u001b[1;32mpandas\\_libs\\hashtable_class_helper.pxi:7080\u001b[0m, in \u001b[0;36mpandas._libs.hashtable.PyObjectHashTable.get_item\u001b[1;34m()\u001b[0m\n",
      "File \u001b[1;32mpandas\\_libs\\hashtable_class_helper.pxi:7088\u001b[0m, in \u001b[0;36mpandas._libs.hashtable.PyObjectHashTable.get_item\u001b[1;34m()\u001b[0m\n",
      "\u001b[1;31mKeyError\u001b[0m: 'time'",
      "\nThe above exception was the direct cause of the following exception:\n",
      "\u001b[1;31mKeyError\u001b[0m                                  Traceback (most recent call last)",
      "Cell \u001b[1;32mIn[11], line 7\u001b[0m\n\u001b[0;32m      5\u001b[0m \u001b[39mprint\u001b[39m(rr_values)\n\u001b[0;32m      6\u001b[0m \u001b[39m# Assuming your MultiIndex DataFrame is named \"forecast_data\"\u001b[39;00m\n\u001b[1;32m----> 7\u001b[0m pivot_table \u001b[39m=\u001b[39m rr_values\u001b[39m.\u001b[39;49mpivot(index\u001b[39m=\u001b[39;49m\u001b[39m'\u001b[39;49m\u001b[39mtime\u001b[39;49m\u001b[39m'\u001b[39;49m, columns\u001b[39m=\u001b[39;49m\u001b[39m'\u001b[39;49m\u001b[39msite_id\u001b[39;49m\u001b[39m'\u001b[39;49m, values\u001b[39m=\u001b[39;49m\u001b[39m'\u001b[39;49m\u001b[39mtt\u001b[39;49m\u001b[39m'\u001b[39;49m)\n\u001b[0;32m      8\u001b[0m \u001b[39mprint\u001b[39m(pivot_table)\n\u001b[0;32m      9\u001b[0m pivot_table\u001b[39m.\u001b[39mto_csv(\u001b[39m'\u001b[39m\u001b[39mpivot_table.csv\u001b[39m\u001b[39m'\u001b[39m)\n",
      "File \u001b[1;32m~\\AppData\\Local\\Packages\\PythonSoftwareFoundation.Python.3.11_qbz5n2kfra8p0\\LocalCache\\local-packages\\Python311\\site-packages\\pandas\\core\\frame.py:8414\u001b[0m, in \u001b[0;36mDataFrame.pivot\u001b[1;34m(self, columns, index, values)\u001b[0m\n\u001b[0;32m   8409\u001b[0m \u001b[39m@Substitution\u001b[39m(\u001b[39m\"\u001b[39m\u001b[39m\"\u001b[39m)\n\u001b[0;32m   8410\u001b[0m \u001b[39m@Appender\u001b[39m(_shared_docs[\u001b[39m\"\u001b[39m\u001b[39mpivot\u001b[39m\u001b[39m\"\u001b[39m])\n\u001b[0;32m   8411\u001b[0m \u001b[39mdef\u001b[39;00m \u001b[39mpivot\u001b[39m(\u001b[39mself\u001b[39m, \u001b[39m*\u001b[39m, columns, index\u001b[39m=\u001b[39mlib\u001b[39m.\u001b[39mNoDefault, values\u001b[39m=\u001b[39mlib\u001b[39m.\u001b[39mNoDefault) \u001b[39m-\u001b[39m\u001b[39m>\u001b[39m DataFrame:\n\u001b[0;32m   8412\u001b[0m     \u001b[39mfrom\u001b[39;00m \u001b[39mpandas\u001b[39;00m\u001b[39m.\u001b[39;00m\u001b[39mcore\u001b[39;00m\u001b[39m.\u001b[39;00m\u001b[39mreshape\u001b[39;00m\u001b[39m.\u001b[39;00m\u001b[39mpivot\u001b[39;00m \u001b[39mimport\u001b[39;00m pivot\n\u001b[1;32m-> 8414\u001b[0m     \u001b[39mreturn\u001b[39;00m pivot(\u001b[39mself\u001b[39;49m, index\u001b[39m=\u001b[39;49mindex, columns\u001b[39m=\u001b[39;49mcolumns, values\u001b[39m=\u001b[39;49mvalues)\n",
      "File \u001b[1;32m~\\AppData\\Local\\Packages\\PythonSoftwareFoundation.Python.3.11_qbz5n2kfra8p0\\LocalCache\\local-packages\\Python311\\site-packages\\pandas\\core\\reshape\\pivot.py:540\u001b[0m, in \u001b[0;36mpivot\u001b[1;34m(data, columns, index, values)\u001b[0m\n\u001b[0;32m    538\u001b[0m         index_list \u001b[39m=\u001b[39m [Series(data\u001b[39m.\u001b[39mindex, name\u001b[39m=\u001b[39mdata\u001b[39m.\u001b[39mindex\u001b[39m.\u001b[39mname)]\n\u001b[0;32m    539\u001b[0m \u001b[39melse\u001b[39;00m:\n\u001b[1;32m--> 540\u001b[0m     index_list \u001b[39m=\u001b[39m [data[idx] \u001b[39mfor\u001b[39;49;00m idx \u001b[39min\u001b[39;49;00m com\u001b[39m.\u001b[39;49mconvert_to_list_like(index)]\n\u001b[0;32m    542\u001b[0m data_columns \u001b[39m=\u001b[39m [data[col] \u001b[39mfor\u001b[39;00m col \u001b[39min\u001b[39;00m columns_listlike]\n\u001b[0;32m    543\u001b[0m index_list\u001b[39m.\u001b[39mextend(data_columns)\n",
      "File \u001b[1;32m~\\AppData\\Local\\Packages\\PythonSoftwareFoundation.Python.3.11_qbz5n2kfra8p0\\LocalCache\\local-packages\\Python311\\site-packages\\pandas\\core\\reshape\\pivot.py:540\u001b[0m, in \u001b[0;36m<listcomp>\u001b[1;34m(.0)\u001b[0m\n\u001b[0;32m    538\u001b[0m         index_list \u001b[39m=\u001b[39m [Series(data\u001b[39m.\u001b[39mindex, name\u001b[39m=\u001b[39mdata\u001b[39m.\u001b[39mindex\u001b[39m.\u001b[39mname)]\n\u001b[0;32m    539\u001b[0m \u001b[39melse\u001b[39;00m:\n\u001b[1;32m--> 540\u001b[0m     index_list \u001b[39m=\u001b[39m [data[idx] \u001b[39mfor\u001b[39;00m idx \u001b[39min\u001b[39;00m com\u001b[39m.\u001b[39mconvert_to_list_like(index)]\n\u001b[0;32m    542\u001b[0m data_columns \u001b[39m=\u001b[39m [data[col] \u001b[39mfor\u001b[39;00m col \u001b[39min\u001b[39;00m columns_listlike]\n\u001b[0;32m    543\u001b[0m index_list\u001b[39m.\u001b[39mextend(data_columns)\n",
      "File \u001b[1;32m~\\AppData\\Local\\Packages\\PythonSoftwareFoundation.Python.3.11_qbz5n2kfra8p0\\LocalCache\\local-packages\\Python311\\site-packages\\pandas\\core\\frame.py:3761\u001b[0m, in \u001b[0;36mDataFrame.__getitem__\u001b[1;34m(self, key)\u001b[0m\n\u001b[0;32m   3759\u001b[0m \u001b[39mif\u001b[39;00m \u001b[39mself\u001b[39m\u001b[39m.\u001b[39mcolumns\u001b[39m.\u001b[39mnlevels \u001b[39m>\u001b[39m \u001b[39m1\u001b[39m:\n\u001b[0;32m   3760\u001b[0m     \u001b[39mreturn\u001b[39;00m \u001b[39mself\u001b[39m\u001b[39m.\u001b[39m_getitem_multilevel(key)\n\u001b[1;32m-> 3761\u001b[0m indexer \u001b[39m=\u001b[39m \u001b[39mself\u001b[39;49m\u001b[39m.\u001b[39;49mcolumns\u001b[39m.\u001b[39;49mget_loc(key)\n\u001b[0;32m   3762\u001b[0m \u001b[39mif\u001b[39;00m is_integer(indexer):\n\u001b[0;32m   3763\u001b[0m     indexer \u001b[39m=\u001b[39m [indexer]\n",
      "File \u001b[1;32m~\\AppData\\Local\\Packages\\PythonSoftwareFoundation.Python.3.11_qbz5n2kfra8p0\\LocalCache\\local-packages\\Python311\\site-packages\\pandas\\core\\indexes\\base.py:3654\u001b[0m, in \u001b[0;36mIndex.get_loc\u001b[1;34m(self, key)\u001b[0m\n\u001b[0;32m   3652\u001b[0m     \u001b[39mreturn\u001b[39;00m \u001b[39mself\u001b[39m\u001b[39m.\u001b[39m_engine\u001b[39m.\u001b[39mget_loc(casted_key)\n\u001b[0;32m   3653\u001b[0m \u001b[39mexcept\u001b[39;00m \u001b[39mKeyError\u001b[39;00m \u001b[39mas\u001b[39;00m err:\n\u001b[1;32m-> 3654\u001b[0m     \u001b[39mraise\u001b[39;00m \u001b[39mKeyError\u001b[39;00m(key) \u001b[39mfrom\u001b[39;00m \u001b[39merr\u001b[39;00m\n\u001b[0;32m   3655\u001b[0m \u001b[39mexcept\u001b[39;00m \u001b[39mTypeError\u001b[39;00m:\n\u001b[0;32m   3656\u001b[0m     \u001b[39m# If we have a listlike key, _check_indexing_error will raise\u001b[39;00m\n\u001b[0;32m   3657\u001b[0m     \u001b[39m#  InvalidIndexError. Otherwise we fall through and re-raise\u001b[39;00m\n\u001b[0;32m   3658\u001b[0m     \u001b[39m#  the TypeError.\u001b[39;00m\n\u001b[0;32m   3659\u001b[0m     \u001b[39mself\u001b[39m\u001b[39m.\u001b[39m_check_indexing_error(key)\n",
      "\u001b[1;31mKeyError\u001b[0m: 'time'"
     ]
    }
   ],
   "source": [
    "# Extract all 'rr' values for all site_id and time combinations\n",
    "# rr_values = forecasts.loc[:, ('rr', slice(None), slice(None))].droplevel('variable')\n",
    "rr_values = forecasts.loc[:, ('tt')]\n",
    "rr_values = rr_values.to_frame()\n",
    "print(rr_values)\n",
    "# Assuming your MultiIndex DataFrame is named \"forecast_data\"\n",
    "pivot_table = rr_values.pivot(index='time', columns='site_id', values='tt')\n",
    "print(pivot_table)\n",
    "pivot_table.to_csv('pivot_table.csv')\n",
    "\n",
    "print(rr_values)"
   ]
  },
  {
   "cell_type": "code",
   "execution_count": null,
   "metadata": {},
   "outputs": [],
   "source": [
    "import pandas as pd\n",
    "\n",
    "# Create a MultiIndex for the DataFrame\n",
    "index = pd.MultiIndex.from_product([['space1', 'space2'], ['time1', 'time2'], ['variable1', 'variable2']],\n",
    "                                   names=['space', 'time', 'variable'])\n",
    "\n",
    "print(index)\n",
    "# Create an empty DataFrame with the MultiIndex\n",
    "df_3d = pd.DataFrame(index=index, columns=['data'])\n",
    "\n",
    "# Fill the DataFrame with values\n",
    "df_3d.loc[('space1', 'time1', 'variable1')] = 1\n",
    "df_3d.loc[('space1', 'time1', 'variable2')] = 2\n",
    "df_3d.loc[('space1', 'time2', 'variable1')] = 3\n",
    "df_3d.loc[('space1', 'time2', 'variable2')] = 4\n",
    "df_3d.loc[('space2', 'time1', 'variable1')] = 5\n",
    "df_3d.loc[('space2', 'time1', 'variable2')] = 6\n",
    "df_3d.loc[('space2', 'time2', 'variable1')] = 7\n",
    "df_3d.loc[('space2', 'time2', 'variable2')] = 8\n",
    "\n",
    "print(df_3d)\n"
   ]
  }
 ],
 "metadata": {
  "kernelspec": {
   "display_name": "Python 3",
   "language": "python",
   "name": "python3"
  },
  "language_info": {
   "codemirror_mode": {
    "name": "ipython",
    "version": 3
   },
   "file_extension": ".py",
   "mimetype": "text/x-python",
   "name": "python",
   "nbconvert_exporter": "python",
   "pygments_lexer": "ipython3",
   "version": "3.11.4"
  },
  "orig_nbformat": 4
 },
 "nbformat": 4,
 "nbformat_minor": 2
}
