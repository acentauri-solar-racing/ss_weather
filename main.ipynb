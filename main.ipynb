{
 "cells": [
  {
   "cell_type": "code",
   "execution_count": 1,
   "metadata": {},
   "outputs": [],
   "source": [
    "from api_executer import ApiExecuter\n",
    "from api_requester import ApiRequester\n",
    "from api_parser import ApiParser\n",
    "from api_saver import ApiSaver\n",
    "from FUNCTIONS import get_current_location"
   ]
  },
  {
   "cell_type": "code",
   "execution_count": 2,
   "metadata": {},
   "outputs": [
    {
     "name": "stdout",
     "output_type": "stream",
     "text": [
      "Current Latitude: 44.4048, Longitude: 8.9444\n"
     ]
    }
   ],
   "source": [
    "location = get_current_location()\n",
    "if location:\n",
    "    latitude, longitude = location\n",
    "    print(f'Current Latitude: {latitude}, Longitude: {longitude}')\n",
    "else:\n",
    "    print('Failed to determine current location.')"
   ]
  },
  {
   "cell_type": "code",
   "execution_count": 3,
   "metadata": {},
   "outputs": [
    {
     "name": "stdout",
     "output_type": "stream",
     "text": [
      "Nearest point index: 8\n",
      "    longitude   latitude  altitudeSmoothed  inclinationSmoothed   cumDistance  \\\n",
      "0  130.844161 -12.456694         16.350559            -0.024998    407.095561   \n",
      "1  130.849361 -12.440116          8.870473             0.009980   2407.095561   \n",
      "2  130.864829 -12.432468          7.344984             0.002014   4407.095561   \n",
      "3  130.883247 -12.432408         19.917411             0.000566   6407.095561   \n",
      "4  130.900256 -12.437241         19.535214             0.032636   8407.095561   \n",
      "5  130.916674 -12.444541         14.082252             0.006061  10407.095561   \n",
      "6  130.932244 -12.451610         17.790217            -0.000259  12407.095561   \n",
      "7  130.949308 -12.458322         16.597118             0.003234  14407.095561   \n",
      "8  130.966263 -12.463929         36.186164            -0.006110  16407.095561   \n",
      "9  130.983291 -12.469279         34.239105             0.008118  18407.095561   \n",
      "\n",
      "   maxSpeed       theta  cumDistanceCut  \n",
      "0        50   44.136411             0.0  \n",
      "1        80   17.935500          2000.0  \n",
      "2        80   89.957452          4000.0  \n",
      "3       100   89.583070          6000.0  \n",
      "4       100  124.503398          8000.0  \n",
      "5       100  141.081736         10000.0  \n",
      "6        80  108.197424         12000.0  \n",
      "7       100  116.123991         14000.0  \n",
      "8       100   84.761592         16000.0  \n",
      "9        80  107.981624         18000.0  \n"
     ]
    }
   ],
   "source": [
    "from route_df import RouteDF\n",
    "routeDF = RouteDF()\n",
    "\n",
    "from api_route import ApiRoute\n",
    "current_position = {'longitude': 130.844161,\n",
    "                    'latitude': -12.456694}\n",
    "final_position = {'longitude': 130.890346,\n",
    "                  'latitude': -12.432393}\n",
    "delta_spacing = 2000.0 # in meters\n",
    "number_sites = 10\n",
    "\n",
    "route = ApiRoute(routeDF.route_data)\n",
    "\n",
    "# route_df = route.cut_route_data(current_position)\n",
    "route_df = route.cut_route_data(current_position, number_sites=number_sites, delta_spacing=delta_spacing, print_is_requested=True)\n",
    "# route_df = route.cut_route_data(current_position=current_position, final_position=final_position, number_sites=number_sites)"
   ]
  },
  {
   "cell_type": "code",
   "execution_count": 4,
   "metadata": {},
   "outputs": [
    {
     "name": "stdout",
     "output_type": "stream",
     "text": [
      "Response status from siteinfo: OK.\n",
      "Response from siteinfo is empty.\n",
      "Current sites' info has been retrieved. \n",
      " Empty DataFrame\n",
      "Columns: [name, longitude, latitude, altitude]\n",
      "Index: []\n"
     ]
    }
   ],
   "source": [
    "api_parser = ApiParser()\n",
    "api_requester = ApiRequester(parser=api_parser)\n",
    "api_executer = ApiExecuter(requester=api_requester)\n",
    "\n",
    "sites_df = api_requester.forecast_sites"
   ]
  },
  {
   "cell_type": "code",
   "execution_count": 5,
   "metadata": {},
   "outputs": [],
   "source": [
    "# api_requester.get_site_info(print_is_requested=True)"
   ]
  },
  {
   "cell_type": "code",
   "execution_count": 6,
   "metadata": {},
   "outputs": [
    {
     "name": "stdout",
     "output_type": "stream",
     "text": [
      "Response status from siteadd: OK.\n",
      "Site with name 0 has been added. \n",
      "        name  longitude  latitude  altitude\n",
      "585533    0    130.844  -12.4567      32.0\n",
      "Response status from siteadd: OK.\n",
      "Site with name 1 has been added. \n",
      "        name  longitude  latitude  altitude\n",
      "585533    0    130.844  -12.4567      32.0\n",
      "585534    1    130.849  -12.4401      16.0\n",
      "Response status from siteadd: OK.\n",
      "Site with name 2 has been added. \n",
      "        name  longitude  latitude  altitude\n",
      "585533    0    130.844  -12.4567      32.0\n",
      "585534    1    130.849  -12.4401      16.0\n",
      "585535    2    130.865  -12.4325      14.0\n",
      "Response status from siteadd: OK.\n",
      "Site with name 3 has been added. \n",
      "        name  longitude  latitude  altitude\n",
      "585533    0    130.844  -12.4567      32.0\n",
      "585534    1    130.849  -12.4401      16.0\n",
      "585535    2    130.865  -12.4325      14.0\n",
      "585536    3    130.883  -12.4324      24.0\n",
      "Response status from siteadd: OK.\n",
      "Site with name 4 has been added. \n",
      "        name  longitude  latitude  altitude\n",
      "585533    0    130.844  -12.4567      32.0\n",
      "585534    1    130.849  -12.4401      16.0\n",
      "585535    2    130.865  -12.4325      14.0\n",
      "585536    3    130.883  -12.4324      24.0\n",
      "585537    4    130.900  -12.4372      17.0\n",
      "Response status from siteadd: OK.\n",
      "Site with name 5 has been added. \n",
      "        name  longitude  latitude  altitude\n",
      "585533    0    130.844  -12.4567      32.0\n",
      "585534    1    130.849  -12.4401      16.0\n",
      "585535    2    130.865  -12.4325      14.0\n",
      "585536    3    130.883  -12.4324      24.0\n",
      "585537    4    130.900  -12.4372      17.0\n",
      "585538    5    130.917  -12.4445      37.0\n",
      "Response status from siteadd: OK.\n",
      "Site with name 6 has been added. \n",
      "        name  longitude  latitude  altitude\n",
      "585533    0    130.844  -12.4567      32.0\n",
      "585534    1    130.849  -12.4401      16.0\n",
      "585535    2    130.865  -12.4325      14.0\n",
      "585536    3    130.883  -12.4324      24.0\n",
      "585537    4    130.900  -12.4372      17.0\n",
      "585538    5    130.917  -12.4445      37.0\n",
      "585539    6    130.932  -12.4516      20.0\n",
      "Response status from siteadd: OK.\n",
      "Site with name 7 has been added. \n",
      "        name  longitude  latitude  altitude\n",
      "585533    0    130.844  -12.4567      32.0\n",
      "585534    1    130.849  -12.4401      16.0\n",
      "585535    2    130.865  -12.4325      14.0\n",
      "585536    3    130.883  -12.4324      24.0\n",
      "585537    4    130.900  -12.4372      17.0\n",
      "585538    5    130.917  -12.4445      37.0\n",
      "585539    6    130.932  -12.4516      20.0\n",
      "585540    7    130.949  -12.4583      18.0\n",
      "Response status from siteadd: OK.\n",
      "Site with name 8 has been added. \n",
      "        name  longitude  latitude  altitude\n",
      "585533    0    130.844  -12.4567      32.0\n",
      "585534    1    130.849  -12.4401      16.0\n",
      "585535    2    130.865  -12.4325      14.0\n",
      "585536    3    130.883  -12.4324      24.0\n",
      "585537    4    130.900  -12.4372      17.0\n",
      "585538    5    130.917  -12.4445      37.0\n",
      "585539    6    130.932  -12.4516      20.0\n",
      "585540    7    130.949  -12.4583      18.0\n",
      "585541    8    130.966  -12.4639      34.0\n",
      "Response status from siteadd: OK.\n",
      "Site with name 9 has been added. \n",
      "        name  longitude  latitude  altitude\n",
      "585533    0    130.844  -12.4567      32.0\n",
      "585534    1    130.849  -12.4401      16.0\n",
      "585535    2    130.865  -12.4325      14.0\n",
      "585536    3    130.883  -12.4324      24.0\n",
      "585537    4    130.900  -12.4372      17.0\n",
      "585538    5    130.917  -12.4445      37.0\n",
      "585539    6    130.932  -12.4516      20.0\n",
      "585540    7    130.949  -12.4583      18.0\n",
      "585541    8    130.966  -12.4639      34.0\n",
      "585542    9    130.983  -12.4693      34.0\n",
      "Requested sites have been added: \n",
      "        name  longitude  latitude  altitude\n",
      "585533    0    130.844  -12.4567      32.0\n",
      "585534    1    130.849  -12.4401      16.0\n",
      "585535    2    130.865  -12.4325      14.0\n",
      "585536    3    130.883  -12.4324      24.0\n",
      "585537    4    130.900  -12.4372      17.0\n",
      "585538    5    130.917  -12.4445      37.0\n",
      "585539    6    130.932  -12.4516      20.0\n",
      "585540    7    130.949  -12.4583      18.0\n",
      "585541    8    130.966  -12.4639      34.0\n",
      "585542    9    130.983  -12.4693      34.0\n"
     ]
    }
   ],
   "source": [
    "api_executer.add_sites(route_df, print_is_requested=True)"
   ]
  },
  {
   "cell_type": "code",
   "execution_count": 7,
   "metadata": {},
   "outputs": [],
   "source": [
    "# api_requester.get_site_delete(585394, print_is_requested=True)\n",
    "# api_executer.delete_all_sites()"
   ]
  },
  {
   "cell_type": "code",
   "execution_count": 8,
   "metadata": {},
   "outputs": [],
   "source": [
    "# position = {\n",
    "#     'latitude': -13.0,\n",
    "#     'longitude': 134.0\n",
    "# }\n",
    "# api_requester.get_site_edit(585396, True, name=\"aa\")\n",
    "# api_requester.get_site_edit(585395, True, position=position)\n",
    "# api_requester.get_site_edit(585396, True, name=\"df\", position=position)"
   ]
  },
  {
   "cell_type": "code",
   "execution_count": 9,
   "metadata": {},
   "outputs": [
    {
     "name": "stdout",
     "output_type": "stream",
     "text": [
      "Response status from getforecast: OK.\n",
      "Solar forecast have been retrieved.\n",
      "                              gk  gh_max  gh      tt    ff  rr      dd     rh  \\\n",
      "site_id time                                                                    \n",
      "585513  2023-09-07 12:00:00  0.0     0.0   0  25.400  10.0   0  274.00  69.00   \n",
      "        2023-09-07 12:15:00  0.0     0.0   0  25.275  10.5   0  275.25  70.25   \n",
      "        2023-09-07 12:30:00  0.0     0.0   0  25.150  11.0   0  276.50  71.50   \n",
      "        2023-09-07 12:45:00  0.0     0.0   0  25.025  11.5   0  277.75  72.75   \n",
      "        2023-09-07 13:00:00  0.0     0.0   0  24.900  12.0   0  279.00  74.00   \n",
      "...                          ...     ...  ..     ...   ...  ..     ...    ...   \n",
      "585532  2023-09-16 10:00:00  0.0     0.0   0  27.600  13.0   0  341.00  54.00   \n",
      "        2023-09-16 10:15:00  0.0     0.0   0  27.325  12.5   0  334.50  55.75   \n",
      "        2023-09-16 10:30:00  0.0     0.0   0  27.050  12.0   0  328.00  57.50   \n",
      "        2023-09-16 10:45:00  0.0     0.0   0  26.775  11.5   0  321.50  59.25   \n",
      "        2023-09-16 11:00:00  0.0     0.0   0  26.500  11.0   0  315.00  61.00   \n",
      "\n",
      "                                fx  tcc       qff  sy   dh   bh  dni    e  \n",
      "site_id time                                                               \n",
      "585513  2023-09-07 12:00:00  16.00  0.0  1013.500   1  0.0  0.0  0.0  0.0  \n",
      "        2023-09-07 12:15:00  16.25  0.0  1013.625   1  0.0  0.0  0.0  0.0  \n",
      "        2023-09-07 12:30:00  16.50  0.0  1013.750   1  0.0  0.0  0.0  0.0  \n",
      "        2023-09-07 12:45:00  16.75  0.0  1013.875   1  0.0  0.0  0.0  0.0  \n",
      "        2023-09-07 13:00:00  17.00  0.0  1014.000   1  0.0  0.0  0.0  0.0  \n",
      "...                            ...  ...       ...  ..  ...  ...  ...  ...  \n",
      "585532  2023-09-16 10:00:00  22.00  1.0  1012.100   1  0.0  0.0  0.0  0.0  \n",
      "        2023-09-16 10:15:00  21.25  1.0  1012.375   1  0.0  0.0  0.0  0.0  \n",
      "        2023-09-16 10:30:00  20.50  1.0  1012.650   1  0.0  0.0  0.0  0.0  \n",
      "        2023-09-16 10:45:00  19.75  1.0  1012.925   1  0.0  0.0  0.0  0.0  \n",
      "        2023-09-16 11:00:00  19.00  1.0  1013.200   1  0.0  0.0  0.0  0.0  \n",
      "\n",
      "[17220 rows x 16 columns]\n"
     ]
    }
   ],
   "source": [
    "forecast_df = api_requester.get_solar_forecast()\n",
    "# forecast_df = api_requester.get_solar_forecast_cloudmove()\n",
    "print(forecast_df)"
   ]
  },
  {
   "cell_type": "code",
   "execution_count": 10,
   "metadata": {},
   "outputs": [
    {
     "ename": "ValueError",
     "evalue": "The index of the forecast dataframe and the sites dataframe are not the same",
     "output_type": "error",
     "traceback": [
      "\u001b[1;31m---------------------------------------------------------------------------\u001b[0m",
      "\u001b[1;31mValueError\u001b[0m                                Traceback (most recent call last)",
      "Cell \u001b[1;32mIn[10], line 4\u001b[0m\n\u001b[0;32m      1\u001b[0m api_saver \u001b[39m=\u001b[39m ApiSaver()\n\u001b[0;32m      3\u001b[0m \u001b[39m# api_saver._data_restructure(route_df, sites_df, forecast_df)\u001b[39;00m\n\u001b[1;32m----> 4\u001b[0m raw_data_forecast \u001b[39m=\u001b[39m api_saver\u001b[39m.\u001b[39;49msave_raw_data(route_df, sites_df, forecast_df)\n",
      "File \u001b[1;32mc:\\Users\\giaco\\Git_Repositories\\aCentauri\\ss_weather\\api_saver.py:48\u001b[0m, in \u001b[0;36mApiSaver.save_raw_data\u001b[1;34m(self, route_df, sites_df, forecast_df)\u001b[0m\n\u001b[0;32m     44\u001b[0m \u001b[39mdef\u001b[39;00m \u001b[39msave_raw_data\u001b[39m(\u001b[39mself\u001b[39m, route_df:pd\u001b[39m.\u001b[39mDataFrame, sites_df:pd\u001b[39m.\u001b[39mDataFrame, forecast_df:pd\u001b[39m.\u001b[39mDataFrame) \u001b[39m-\u001b[39m\u001b[39m>\u001b[39m pd\u001b[39m.\u001b[39mDataFrame:\n\u001b[0;32m     45\u001b[0m \u001b[39m    \u001b[39m\u001b[39m\"\"\"\u001b[39;00m\n\u001b[0;32m     46\u001b[0m \u001b[39m    TODO\u001b[39;00m\n\u001b[0;32m     47\u001b[0m \u001b[39m    \"\"\"\u001b[39;00m\n\u001b[1;32m---> 48\u001b[0m     data_to_save \u001b[39m=\u001b[39m \u001b[39mself\u001b[39;49m\u001b[39m.\u001b[39;49m_data_restructure(route_df, sites_df, forecast_df)\n\u001b[0;32m     50\u001b[0m     root \u001b[39m=\u001b[39m tk\u001b[39m.\u001b[39mTk()\n\u001b[0;32m     51\u001b[0m     root\u001b[39m.\u001b[39mwithdraw()  \u001b[39m# Hide the main window\u001b[39;00m\n",
      "File \u001b[1;32mc:\\Users\\giaco\\Git_Repositories\\aCentauri\\ss_weather\\api_saver.py:25\u001b[0m, in \u001b[0;36mApiSaver._data_restructure\u001b[1;34m(self, route_df, sites_df, forecast_df)\u001b[0m\n\u001b[0;32m     23\u001b[0m \u001b[39m# Check that the indices are the same\u001b[39;00m\n\u001b[0;32m     24\u001b[0m \u001b[39mif\u001b[39;00m \u001b[39mnot\u001b[39;00m index_forecast\u001b[39m.\u001b[39mequals(index_sites):\n\u001b[1;32m---> 25\u001b[0m     \u001b[39mraise\u001b[39;00m \u001b[39mValueError\u001b[39;00m(\u001b[39m'\u001b[39m\u001b[39mThe index of the forecast dataframe and the sites dataframe are not the same\u001b[39m\u001b[39m'\u001b[39m)\n\u001b[0;32m     27\u001b[0m \u001b[39m# Merge forecast_df with sites_df on site_id to get the name\u001b[39;00m\n\u001b[0;32m     28\u001b[0m merged_df \u001b[39m=\u001b[39m forecast_df\u001b[39m.\u001b[39mreset_index()\u001b[39m.\u001b[39mmerge(sites_df[[\u001b[39m'\u001b[39m\u001b[39mname\u001b[39m\u001b[39m'\u001b[39m]], left_on\u001b[39m=\u001b[39m\u001b[39m'\u001b[39m\u001b[39msite_id\u001b[39m\u001b[39m'\u001b[39m, right_index\u001b[39m=\u001b[39m\u001b[39mTrue\u001b[39;00m)\n",
      "\u001b[1;31mValueError\u001b[0m: The index of the forecast dataframe and the sites dataframe are not the same"
     ]
    }
   ],
   "source": [
    "api_saver = ApiSaver()\n",
    "\n",
    "# api_saver._data_restructure(route_df, sites_df, forecast_df)\n",
    "raw_data_forecast = api_saver.save_raw_data(route_df, sites_df, forecast_df)"
   ]
  },
  {
   "cell_type": "code",
   "execution_count": null,
   "metadata": {},
   "outputs": [],
   "source": [
    "from forecast_preprocessor import ForecastPreprocessor\n",
    "forecast_preprocessor = ForecastPreprocessor()\n",
    "hours_in_advance = 5\n",
    "forecast_preprocessor.forecast_preprocessing(route_df, raw_data_forecast, hours_in_advance, print_is_requested=False)"
   ]
  }
 ],
 "metadata": {
  "kernelspec": {
   "display_name": "Python 3",
   "language": "python",
   "name": "python3"
  },
  "language_info": {
   "codemirror_mode": {
    "name": "ipython",
    "version": 3
   },
   "file_extension": ".py",
   "mimetype": "text/x-python",
   "name": "python",
   "nbconvert_exporter": "python",
   "pygments_lexer": "ipython3",
   "version": "3.11.5"
  },
  "orig_nbformat": 4
 },
 "nbformat": 4,
 "nbformat_minor": 2
}
