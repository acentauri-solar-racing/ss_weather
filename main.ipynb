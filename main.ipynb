{
 "cells": [
  {
   "cell_type": "code",
   "execution_count": 1,
   "metadata": {},
   "outputs": [],
   "source": [
    "from api_executer import ApiExecuter\n",
    "from api_requester import ApiRequester\n",
    "from api_parser import ApiParser\n",
    "from functions import get_current_location"
   ]
  },
  {
   "cell_type": "code",
   "execution_count": 2,
   "metadata": {},
   "outputs": [
    {
     "name": "stdout",
     "output_type": "stream",
     "text": [
      "Current Latitude: -35.0256, Longitude: 138.5901\n"
     ]
    }
   ],
   "source": [
    "location = get_current_location()\n",
    "if location:\n",
    "    latitude, longitude = location\n",
    "    print(f'Current Latitude: {latitude}, Longitude: {longitude}')\n",
    "else:\n",
    "    print('Failed to determine current location.')"
   ]
  },
  {
   "cell_type": "code",
   "execution_count": 3,
   "metadata": {},
   "outputs": [
    {
     "name": "stdout",
     "output_type": "stream",
     "text": [
      "Nearest point index: 8\n",
      "    longitude   latitude  altitudeSmoothed  inclinationSmoothed   cumDistance  \\\n",
      "0  130.844161 -12.456694         16.350559            -0.024998  4.070956e+02   \n",
      "1  132.432250 -14.530751        177.501908            -0.010896  3.371206e+05   \n",
      "2  133.443126 -17.041297        244.299944            -0.000802  6.738341e+05   \n",
      "3  134.202227 -19.844744        333.407446             0.001097  1.010548e+06   \n",
      "4  133.331310 -22.515267        638.287834             0.001966  1.347261e+06   \n",
      "5  133.198145 -25.097933        460.958486             0.008386  1.683975e+06   \n",
      "6  134.024609 -27.828917        300.423269            -0.002393  2.020688e+06   \n",
      "7  135.350570 -30.414686        170.808656            -0.000158  2.357402e+06   \n",
      "8  137.588876 -32.317265         44.598942            -0.000095  2.694115e+06   \n",
      "9  138.608989 -34.935232         56.847434            -0.016969  3.030829e+06   \n",
      "\n",
      "   maxSpeed       theta  cumDistanceCut  \n",
      "0        50   44.136411    0.000000e+00  \n",
      "1       110  164.013801    3.367135e+05  \n",
      "2       100  170.630611    6.734270e+05  \n",
      "3       130  174.861527    1.010141e+06  \n",
      "4       130  186.159928    1.346854e+06  \n",
      "5       130  172.894370    1.683568e+06  \n",
      "6       110  163.501277    2.020281e+06  \n",
      "7       110  166.494968    2.356995e+06  \n",
      "8       110  160.523916    2.693708e+06  \n",
      "9        50    0.000000    3.030422e+06  \n"
     ]
    }
   ],
   "source": [
    "from route_csv2df import RouteDF\n",
    "routeDF = RouteDF()\n",
    "\n",
    "from api_route import ApiRoute\n",
    "current_position = {'longitude': 130.844161,\n",
    "                    'latitude': -12.456694}\n",
    "final_position = {'longitude': 130.890346,\n",
    "                  'latitude': -12.432393}\n",
    "delta_spacing = 2000.0 # in meters\n",
    "number_sites = 10\n",
    "\n",
    "route = ApiRoute(routeDF.get_route_data())\n",
    "\n",
    "route_df = route.cut_route_data(current_position, number_sites=number_sites)\n",
    "# route_df = route.cut_route_data(current_position, number_sites=number_sites, delta_spacing=delta_spacing, print_is_requested=True)\n",
    "# route_df = route.cut_route_data(current_position=current_position, final_position=final_position, number_sites=number_sites)"
   ]
  },
  {
   "cell_type": "code",
   "execution_count": 4,
   "metadata": {},
   "outputs": [
    {
     "name": "stdout",
     "output_type": "stream",
     "text": [
      "Response status from siteinfo: OK.\n",
      "Current sites' info has been retrieved. \n",
      "         name  longitude  latitude  altitude      UTC_offset\n",
      "site_id                                                    \n",
      "586195     0    130.844  -12.4567        32 0 days 09:30:00\n",
      "586196     1    132.432  -14.5308       176 0 days 09:30:00\n",
      "586197     2    133.443  -17.0413       248 0 days 09:30:00\n",
      "586198     3    134.202  -19.8447       332 0 days 09:30:00\n",
      "586199     4    133.331  -22.5153       640 0 days 09:30:00\n",
      "586200     5    133.198  -25.0979       458 0 days 09:30:00\n",
      "586201     6    134.025  -27.8289       302 0 days 09:30:00\n",
      "586202     7    135.351  -30.4147       169 0 days 09:30:00\n",
      "586203     8    137.589  -32.3173        46 0 days 09:30:00\n",
      "586204     9    138.609  -34.9352        52 0 days 09:30:00\n"
     ]
    }
   ],
   "source": [
    "api_parser = ApiParser()\n",
    "api_requester = ApiRequester(parser=api_parser)\n",
    "api_executer = ApiExecuter(requester=api_requester)"
   ]
  },
  {
   "cell_type": "code",
   "execution_count": 5,
   "metadata": {},
   "outputs": [],
   "source": [
    "# api_requester.get_site_info(print_is_requested=True)\n",
    "\n",
    "# api_executer.get_all_site_id()\n"
   ]
  },
  {
   "cell_type": "code",
   "execution_count": 6,
   "metadata": {},
   "outputs": [],
   "source": [
    "# api_executer.add_sites(route_df, print_is_requested=True)\n",
    "sites_df = api_requester.forecast_sites"
   ]
  },
  {
   "cell_type": "code",
   "execution_count": 7,
   "metadata": {},
   "outputs": [],
   "source": [
    "# api_requester.get_site_delete(585394, print_is_requested=True)\n",
    "# api_executer.delete_all_sites()"
   ]
  },
  {
   "cell_type": "code",
   "execution_count": 8,
   "metadata": {},
   "outputs": [],
   "source": [
    "# import pandas as pd\n",
    "# import numpy as np\n",
    "# import random\n",
    "# import string\n",
    "\n",
    "# sites_list = api_executer.get_all_site_id(print_is_requested=False)\n",
    "# s_len = len(sites_list)\n",
    "\n",
    "# # Create the DataFrame\n",
    "# prob = 1.0\n",
    "# data = {\n",
    "#     # 'name': ['e'+str(random.randint(1,10)) for _ in range(s_len)],\n",
    "#     'latitude': [random.uniform(-90.0, 90.0) if random.random() < prob else np.nan for _ in range(s_len)],\n",
    "#     'longitude': [random.uniform(-180.0, 180.0) if random.random() < prob else np.nan for _ in range(s_len)]\n",
    "# }\n",
    "\n",
    "# edit_sites = pd.DataFrame(data, index=sites_list)\n",
    "# # print(edit_sites)\n",
    "\n",
    "# api_executer.edit_sites(edit_sites, print_is_requested=True)\n"
   ]
  },
  {
   "cell_type": "code",
   "execution_count": 9,
   "metadata": {},
   "outputs": [
    {
     "name": "stdout",
     "output_type": "stream",
     "text": [
      "Response status from getforecast: OK.\n",
      "Solar forecast have been retrieved.\n",
      "                                           gk      gh_max   gh     tt     ff  \\\n",
      "site_id time                                                                   \n",
      "586195  2023-09-25 18:30:00+09:30   27.685186   43.627254   32  28.50  16.00   \n",
      "        2023-09-25 18:45:00+09:30    8.935522   12.791427    9  28.30  15.75   \n",
      "        2023-09-25 19:00:00+09:30    0.000000    0.000000    0  28.10  15.50   \n",
      "        2023-09-25 19:15:00+09:30    0.000000    0.000000    0  27.90  15.25   \n",
      "        2023-09-25 19:30:00+09:30    0.000000    0.000000    0  27.70  15.00   \n",
      "...                                       ...         ...  ...    ...    ...   \n",
      "586204  2023-10-04 16:30:00+09:30  220.000000  362.972564  220  20.70  21.00   \n",
      "        2023-10-04 16:45:00+09:30  180.000000  306.174444  180  20.25  20.50   \n",
      "        2023-10-04 17:00:00+09:30  141.000000  249.519231  141  19.80  20.00   \n",
      "        2023-10-04 17:15:00+09:30  106.000000  193.952706  106  19.35  19.50   \n",
      "        2023-10-04 17:30:00+09:30   74.000000  140.789393   74  18.90  19.00   \n",
      "\n",
      "                                    rr      dd    rh     fx   tcc       qff  \\\n",
      "site_id time                                                                  \n",
      "586195  2023-09-25 18:30:00+09:30  0.0  324.00  53.0  27.00  4.00  1010.300   \n",
      "        2023-09-25 18:45:00+09:30  0.0  315.25  54.5  26.00  3.25  1010.675   \n",
      "        2023-09-25 19:00:00+09:30  0.0  306.50  56.0  25.00  2.50  1011.050   \n",
      "        2023-09-25 19:15:00+09:30  0.0  297.75  57.5  24.00  1.75  1011.425   \n",
      "        2023-09-25 19:30:00+09:30  0.0  289.00  59.0  23.00  1.00  1011.800   \n",
      "...                                ...     ...   ...    ...   ...       ...   \n",
      "586204  2023-10-04 16:30:00+09:30  0.0  230.00  44.0  37.00  5.00  1010.700   \n",
      "        2023-10-04 16:45:00+09:30  0.0  228.25  45.5  36.25  4.75  1010.950   \n",
      "        2023-10-04 17:00:00+09:30  0.0  226.50  47.0  35.50  4.50  1011.200   \n",
      "        2023-10-04 17:15:00+09:30  0.0  224.75  48.5  34.75  4.25  1011.450   \n",
      "        2023-10-04 17:30:00+09:30  0.0  223.00  50.0  34.00  4.00  1011.700   \n",
      "\n",
      "                                   sy          dh         bh         dni  \\\n",
      "site_id time                                                               \n",
      "586195  2023-09-25 18:30:00+09:30   1   23.918173   8.081827  120.146268   \n",
      "        2023-09-25 18:45:00+09:30   1    9.000000   0.000000    0.000000   \n",
      "        2023-09-25 19:00:00+09:30   1    0.000000   0.000000    0.000000   \n",
      "        2023-09-25 19:15:00+09:30   1    0.000000   0.000000    0.000000   \n",
      "        2023-09-25 19:30:00+09:30   1    0.000000   0.000000    0.000000   \n",
      "...                                ..         ...        ...         ...   \n",
      "586204  2023-10-04 16:30:00+09:30   3  179.975420  40.024580  103.078215   \n",
      "        2023-10-04 16:45:00+09:30   3  148.843494  31.156506   91.854079   \n",
      "        2023-10-04 17:00:00+09:30   3  120.854017  20.145983   69.755460   \n",
      "        2023-10-04 17:15:00+09:30   3   94.131788  11.868212   50.003401   \n",
      "        2023-10-04 17:30:00+09:30   3   69.491272   4.508728   24.366991   \n",
      "\n",
      "                                       e  \n",
      "site_id time                              \n",
      "586195  2023-09-25 18:30:00+09:30   7.00  \n",
      "        2023-09-25 18:45:00+09:30   2.25  \n",
      "        2023-09-25 19:00:00+09:30   0.00  \n",
      "        2023-09-25 19:15:00+09:30   0.00  \n",
      "        2023-09-25 19:30:00+09:30   0.00  \n",
      "...                                  ...  \n",
      "586204  2023-10-04 16:30:00+09:30  55.25  \n",
      "        2023-10-04 16:45:00+09:30  45.75  \n",
      "        2023-10-04 17:00:00+09:30  36.00  \n",
      "        2023-10-04 17:15:00+09:30  27.25  \n",
      "        2023-10-04 17:30:00+09:30  19.25  \n",
      "\n",
      "[8610 rows x 16 columns]\n"
     ]
    }
   ],
   "source": [
    "raw_forecast_df = api_requester.get_solar_forecast()\n",
    "# raw_forecast_df = api_requester.get_solar_forecast_cloudmove()\n",
    "print(raw_forecast_df)"
   ]
  },
  {
   "cell_type": "code",
   "execution_count": 10,
   "metadata": {},
   "outputs": [
    {
     "ename": "NameError",
     "evalue": "name 'ts1' is not defined",
     "output_type": "error",
     "traceback": [
      "\u001b[1;31m---------------------------------------------------------------------------\u001b[0m",
      "\u001b[1;31mNameError\u001b[0m                                 Traceback (most recent call last)",
      "\u001b[1;32mc:\\Users\\giaco\\Git_Repositories\\aCentauri\\ss_weather\\main.ipynb Cell 10\u001b[0m line \u001b[0;36m4\n\u001b[0;32m      <a href='vscode-notebook-cell:/c%3A/Users/giaco/Git_Repositories/aCentauri/ss_weather/main.ipynb#X12sZmlsZQ%3D%3D?line=1'>2</a>\u001b[0m preprocessor \u001b[39m=\u001b[39m Preprocessor()\n\u001b[0;32m      <a href='vscode-notebook-cell:/c%3A/Users/giaco/Git_Repositories/aCentauri/ss_weather/main.ipynb#X12sZmlsZQ%3D%3D?line=2'>3</a>\u001b[0m hours_in_advance \u001b[39m=\u001b[39m \u001b[39m7\u001b[39m\n\u001b[1;32m----> <a href='vscode-notebook-cell:/c%3A/Users/giaco/Git_Repositories/aCentauri/ss_weather/main.ipynb#X12sZmlsZQ%3D%3D?line=3'>4</a>\u001b[0m forecast_df, preprocessed_df \u001b[39m=\u001b[39m preprocessor\u001b[39m.\u001b[39;49mpreprocess(route_df, sites_df, raw_forecast_df, hours_in_advance)\n\u001b[0;32m      <a href='vscode-notebook-cell:/c%3A/Users/giaco/Git_Repositories/aCentauri/ss_weather/main.ipynb#X12sZmlsZQ%3D%3D?line=4'>5</a>\u001b[0m preprocessor\u001b[39m.\u001b[39msave_data()\n\u001b[0;32m      <a href='vscode-notebook-cell:/c%3A/Users/giaco/Git_Repositories/aCentauri/ss_weather/main.ipynb#X12sZmlsZQ%3D%3D?line=5'>6</a>\u001b[0m \u001b[39mprint\u001b[39m(preprocessed_df)\n",
      "File \u001b[1;32mc:\\Users\\giaco\\Git_Repositories\\aCentauri\\ss_weather\\preprocessor.py:219\u001b[0m, in \u001b[0;36mPreprocessor.preprocess\u001b[1;34m(self, route_df, sites_df, raw_forecast_df, hours_in_advance, print_is_requested)\u001b[0m\n\u001b[0;32m    216\u001b[0m column_name \u001b[39m=\u001b[39m [\u001b[39m'\u001b[39m\u001b[39mtt\u001b[39m\u001b[39m'\u001b[39m, \u001b[39m'\u001b[39m\u001b[39mgh\u001b[39m\u001b[39m'\u001b[39m, \u001b[39m'\u001b[39m\u001b[39mrh\u001b[39m\u001b[39m'\u001b[39m, \u001b[39m'\u001b[39m\u001b[39mff\u001b[39m\u001b[39m'\u001b[39m, \u001b[39m'\u001b[39m\u001b[39mdd\u001b[39m\u001b[39m'\u001b[39m, \u001b[39m'\u001b[39m\u001b[39mfx\u001b[39m\u001b[39m'\u001b[39m]\n\u001b[0;32m    217\u001b[0m \u001b[39mself\u001b[39m\u001b[39m.\u001b[39mpreprocess_df \u001b[39m=\u001b[39m \u001b[39mself\u001b[39m\u001b[39m.\u001b[39mforecast_df[column_name]\u001b[39m.\u001b[39mcopy()\n\u001b[1;32m--> 219\u001b[0m \u001b[39mself\u001b[39;49m\u001b[39m.\u001b[39;49m_data_cut_time(hours_in_advance)\n\u001b[0;32m    220\u001b[0m \u001b[39mself\u001b[39m\u001b[39m.\u001b[39m_temperature_correction()\n\u001b[0;32m    221\u001b[0m \u001b[39mself\u001b[39m\u001b[39m.\u001b[39m_wind_log_correction()\n",
      "File \u001b[1;32mc:\\Users\\giaco\\Git_Repositories\\aCentauri\\ss_weather\\preprocessor.py:87\u001b[0m, in \u001b[0;36mPreprocessor._data_cut_time\u001b[1;34m(self, hours_in_advance)\u001b[0m\n\u001b[0;32m     84\u001b[0m ts \u001b[39m=\u001b[39m pd\u001b[39m.\u001b[39mTimestamp\u001b[39m.\u001b[39mnow(tz\u001b[39m=\u001b[39mlocal_tz)\n\u001b[0;32m     86\u001b[0m \u001b[39m# Convert both timestamps to UTC\u001b[39;00m\n\u001b[1;32m---> 87\u001b[0m ts1_utc \u001b[39m=\u001b[39m ts1\u001b[39m.\u001b[39mtz_convert(\u001b[39m'\u001b[39m\u001b[39mUTC\u001b[39m\u001b[39m'\u001b[39m)\n\u001b[0;32m     88\u001b[0m ts2_utc \u001b[39m=\u001b[39m ts2\u001b[39m.\u001b[39mtz_convert(\u001b[39m'\u001b[39m\u001b[39mUTC\u001b[39m\u001b[39m'\u001b[39m)\n\u001b[0;32m     90\u001b[0m \u001b[39m#########\u001b[39;00m\n\u001b[0;32m     91\u001b[0m \n\u001b[0;32m     92\u001b[0m \u001b[39m# Drop past columns: less than now less 15 min to keep last row\u001b[39;00m\n",
      "\u001b[1;31mNameError\u001b[0m: name 'ts1' is not defined"
     ]
    }
   ],
   "source": [
    "from preprocessor import Preprocessor\n",
    "preprocessor = Preprocessor()\n",
    "hours_in_advance = 7\n",
    "forecast_df, preprocessed_df = preprocessor.preprocess(route_df, sites_df, raw_forecast_df, hours_in_advance)\n",
    "preprocessor.save_data()\n",
    "print(preprocessed_df)"
   ]
  },
  {
   "cell_type": "code",
   "execution_count": null,
   "metadata": {},
   "outputs": [
    {
     "name": "stdout",
     "output_type": "stream",
     "text": [
      "2023-09-25 09:42:48.398214+00:00\n"
     ]
    },
    {
     "data": {
      "text/plain": [
       "DatetimeIndex(['2023-09-25 19:00:00', '2023-09-25 19:15:00',\n",
       "               '2023-09-25 19:30:00', '2023-09-25 19:45:00',\n",
       "               '2023-09-25 20:00:00', '2023-09-25 20:15:00',\n",
       "               '2023-09-25 20:30:00', '2023-09-25 20:45:00',\n",
       "               '2023-09-25 21:00:00', '2023-09-25 21:15:00',\n",
       "               ...\n",
       "               '2023-09-26 00:00:00', '2023-09-26 00:15:00',\n",
       "               '2023-09-26 00:30:00', '2023-09-26 00:45:00',\n",
       "               '2023-09-26 01:00:00', '2023-09-26 01:15:00',\n",
       "               '2023-09-26 01:30:00', '2023-09-26 01:45:00',\n",
       "               '2023-09-26 02:00:00', '2023-09-26 02:15:00'],\n",
       "              dtype='datetime64[ns]', name='time', length=300, freq=None)"
      ]
     },
     "execution_count": 46,
     "metadata": {},
     "output_type": "execute_result"
    }
   ],
   "source": [
    "import pandas as pd\n",
    "utc_now = pd.Timestamp.now(tz='UTC')\n",
    "print(utc_now)\n",
    "\n",
    "preprocessed_df.index.get_level_values('time')\n",
    "\n",
    "####\n",
    "# Create a timezone-aware Timestamp\n",
    "ts = pd.Timestamp.now(tz='US/Eastern')\n",
    "\n",
    "# Get the UTC offset as a Timedelta object\n",
    "offset_timedelta = ts.utcoffset()\n",
    "\n",
    "# Convert the Timedelta to hours\n",
    "offset_hours = offset_timedelta.total_seconds() / 3600\n",
    "\n",
    "print(f\"The UTC offset for the timestamp is {offset_hours} hours.\")"
   ]
  },
  {
   "cell_type": "code",
   "execution_count": null,
   "metadata": {},
   "outputs": [
    {
     "name": "stdout",
     "output_type": "stream",
     "text": [
      "The timestamps are not equal in UTC.\n"
     ]
    }
   ],
   "source": [
    "import pandas as pd\n",
    "import pytz\n",
    "\n",
    "# Create a timezone object with a UTC offset\n",
    "offset_hours = 2  # for example, UTC+2\n",
    "timezone_offset = pytz.FixedOffset(offset_hours * 60)  # the offset is in minutes\n",
    "\n",
    "# Create two timestamps: one with a known timezone and one with a UTC offset\n",
    "ts1 = pd.Timestamp('2023-09-25 12:00:00', tz='US/Eastern')\n",
    "ts2 = pd.Timestamp('2023-09-25 17:00:00').tz_localize(timezone_offset)  # 17:00 in UTC+2 is 15:00 in UTC\n",
    "\n",
    "# Convert both timestamps to UTC\n",
    "ts1_utc = ts1.tz_convert('UTC')\n",
    "ts2_utc = ts2.tz_convert('UTC')\n",
    "\n",
    "# Compare the UTC timestamps\n",
    "if ts1_utc == ts2_utc:\n",
    "    print(\"The timestamps are equal in UTC.\")\n",
    "else:\n",
    "    print(\"The timestamps are not equal in UTC.\")\n"
   ]
  },
  {
   "cell_type": "code",
   "execution_count": null,
   "metadata": {},
   "outputs": [
    {
     "name": "stdout",
     "output_type": "stream",
     "text": [
      "2023-09-25 19:30:38.791229+09:30\n"
     ]
    }
   ],
   "source": [
    "import pandas as pd\n",
    "from dateutil.tz import tzlocal\n",
    "\n",
    "# Get the local timezone\n",
    "local_tz = tzlocal()\n",
    "\n",
    "# Create a timezone-aware Timestamp using the local timezone\n",
    "ts = pd.Timestamp.now(tz=local_tz)\n",
    "\n",
    "print(ts)\n"
   ]
  },
  {
   "cell_type": "markdown",
   "metadata": {},
   "source": []
  }
 ],
 "metadata": {
  "kernelspec": {
   "display_name": "Python 3",
   "language": "python",
   "name": "python3"
  },
  "language_info": {
   "codemirror_mode": {
    "name": "ipython",
    "version": 3
   },
   "file_extension": ".py",
   "mimetype": "text/x-python",
   "name": "python",
   "nbconvert_exporter": "python",
   "pygments_lexer": "ipython3",
   "version": "3.11.5"
  },
  "orig_nbformat": 4
 },
 "nbformat": 4,
 "nbformat_minor": 2
}
