{
 "cells": [
  {
   "cell_type": "code",
   "execution_count": null,
   "metadata": {},
   "outputs": [],
   "source": [
    "from functions import get_current_location\n",
    "location = get_current_location()\n",
    "if location:\n",
    "    latitude, longitude = location\n",
    "    print(f'Current Latitude: {latitude}, Longitude: {longitude}')\n",
    "else:\n",
    "    print('Failed to determine current location.')"
   ]
  },
  {
   "cell_type": "code",
   "execution_count": null,
   "metadata": {},
   "outputs": [],
   "source": [
    "from route_csv2df import RouteDF\n",
    "routeDF = RouteDF()\n",
    "\n",
    "from api_route import ApiRoute\n",
    "current_position = {'longitude': 130.846642,\n",
    "                    'latitude': -12.4534}\n",
    "current_position = {'longitude': 137.80163,\n",
    "                    'latitude': -32.51756}\n",
    "final_position = {'longitude': 130.890346,\n",
    "                  'latitude': -12.432393}\n",
    "delta_spacing = 2000.0 # in meters\n",
    "number_sites = 10\n",
    "\n",
    "route = ApiRoute(routeDF.get_route_data, print_is_requested=True)\n",
    "\n",
    "# route_df = route.cut_route_data(current_position, number_sites=number_sites)\n",
    "route_df = route.cut_route_data(current_position, number_sites=number_sites, delta_spacing=delta_spacing)\n",
    "# route_df = route.cut_route_data(current_position=current_position, final_position=final_position, number_sites=number_sites)\n",
    "\n"
   ]
  },
  {
   "cell_type": "code",
   "execution_count": null,
   "metadata": {},
   "outputs": [],
   "source": [
    "from api_executer import ApiExecuter\n",
    "from api_requester import ApiRequester\n",
    "from api_parser import ApiParser\n",
    "\n",
    "api_parser = ApiParser()\n",
    "api_requester = ApiRequester(parser=api_parser, print_is_requested=True)\n",
    "api_executer = ApiExecuter(requester=api_requester)"
   ]
  },
  {
   "cell_type": "code",
   "execution_count": null,
   "metadata": {},
   "outputs": [],
   "source": [
    "api_requester.get_site_info(print_is_requested=True)\n",
    "# api_executer.get_all_site_id"
   ]
  },
  {
   "cell_type": "code",
   "execution_count": null,
   "metadata": {},
   "outputs": [],
   "source": [
    "# api_requester.get_site_add(name=\"0\", position=current_position, print_is_requested=True)\n",
    "# api_executer.add_sites(route_df, print_is_requested=True)"
   ]
  },
  {
   "cell_type": "code",
   "execution_count": null,
   "metadata": {},
   "outputs": [],
   "source": [
    "# api_requester.get_site_delete(585394, print_is_requested=True)\n",
    "# api_executer.delete_all_sites()"
   ]
  },
  {
   "cell_type": "code",
   "execution_count": null,
   "metadata": {},
   "outputs": [],
   "source": [
    "import pandas as pd\n",
    "# import numpy as np\n",
    "# import random\n",
    "# import string\n",
    "\n",
    "sites_list = api_executer.get_all_site_id\n",
    "s_len = len(sites_list)\n",
    "\n",
    "# # Create the DataFrame\n",
    "# prob = 1.0\n",
    "# data = {\n",
    "#     # 'name': ['e'+str(random.randint(1,10)) for _ in range(s_len)],\n",
    "#     'latitude': [random.uniform(-90.0, 90.0) if random.random() < prob else np.nan for _ in range(s_len)],\n",
    "#     'longitude': [random.uniform(-180.0, 180.0) if random.random() < prob else np.nan for _ in range(s_len)]\n",
    "# }\n",
    "\n",
    "data = {\n",
    "    'latitude': [route_df['latitude'][line] for line in range(s_len)],\n",
    "    'longitude': [route_df['longitude'][line] for line in range(s_len)]\n",
    "}\n",
    "\n",
    "edit_sites = pd.DataFrame(data, index=sites_list)\n",
    "print(edit_sites)\n",
    "\n",
    "api_executer.edit_sites(edit_sites)"
   ]
  },
  {
   "cell_type": "code",
   "execution_count": null,
   "metadata": {},
   "outputs": [],
   "source": [
    "# raw_forecast_df = api_requester.get_solar_forecast()\n",
    "raw_forecast_df = api_requester.get_solar_forecast_cloudmove()\n",
    "print(raw_forecast_df)"
   ]
  },
  {
   "cell_type": "code",
   "execution_count": null,
   "metadata": {},
   "outputs": [],
   "source": [
    "sites_df = api_requester.forecast_sites\n",
    "print(sites_df)\n",
    "\n",
    "from preprocessor import Preprocessor\n",
    "preprocessor = Preprocessor()\n",
    "hours_in_advance = 4\n",
    "forecast_df, preprocessed_df = preprocessor.preprocess(route_df, sites_df, raw_forecast_df, hours_in_advance)\n",
    "preprocessor.save_data2folder()\n",
    "print(preprocessed_df)"
   ]
  },
  {
   "cell_type": "markdown",
   "metadata": {},
   "source": []
  }
 ],
 "metadata": {
  "kernelspec": {
   "display_name": "Python 3",
   "language": "python",
   "name": "python3"
  },
  "language_info": {
   "codemirror_mode": {
    "name": "ipython",
    "version": 3
   },
   "file_extension": ".py",
   "mimetype": "text/x-python",
   "name": "python",
   "nbconvert_exporter": "python",
   "pygments_lexer": "ipython3",
   "version": "3.11.5"
  },
  "orig_nbformat": 4
 },
 "nbformat": 4,
 "nbformat_minor": 2
}
