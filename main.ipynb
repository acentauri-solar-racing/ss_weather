{
 "cells": [
  {
   "cell_type": "code",
   "execution_count": 2,
   "metadata": {},
   "outputs": [],
   "source": [
    "import pandas as pd\n",
    "import numpy as np\n",
    "\n",
    "from route import Route\n",
    "from weather_forecast import WeatherForecast"
   ]
  },
  {
   "cell_type": "code",
   "execution_count": 8,
   "metadata": {},
   "outputs": [],
   "source": [
    "current_position = {'longitude': 130.868566,\n",
    "                    'latitude': -12.432466}\n",
    "delta_spacing = 100000.0 # in meters\n",
    "number_sites = 3"
   ]
  },
  {
   "cell_type": "code",
   "execution_count": 9,
   "metadata": {},
   "outputs": [
    {
     "name": "stdout",
     "output_type": "stream",
     "text": [
      "    longitude   latitude    altitude   cumDistance  gradient  maxSpeed\n",
      "0  130.868566 -12.432466   11.500000  0.000000e+00  0.024056       100\n",
      "1  133.803762 -23.861845  557.690488  1.513018e+06  0.004450       130\n",
      "2  138.608989 -34.935232   53.250000  3.026035e+06 -0.017856        50\n"
     ]
    }
   ],
   "source": [
    "route = Route()\n",
    "# route.get_final_data(current_position)\n",
    "# route.get_final_data(current_position, delta_spacing=delta_spacing)\n",
    "dataframe = route.get_final_data(current_position, number_sites=number_sites)"
   ]
  },
  {
   "cell_type": "code",
   "execution_count": 10,
   "metadata": {},
   "outputs": [
    {
     "name": "stdout",
     "output_type": "stream",
     "text": [
      "Response status from siteinfo: OK.\n",
      "Current sites:\n",
      "Empty DataFrame\n",
      "Columns: [name, site_id, longitude, latitude]\n",
      "Index: []\n"
     ]
    }
   ],
   "source": [
    "api = WeatherForecast()"
   ]
  },
  {
   "cell_type": "code",
   "execution_count": 11,
   "metadata": {},
   "outputs": [
    {
     "name": "stdout",
     "output_type": "stream",
     "text": [
      "Response status from siteadd: OK.\n",
      "Site with name 0 has been added.\n",
      "Response status from siteadd: OK.\n",
      "Site with name 1 has been added.\n",
      "Response status from siteadd: OK.\n",
      "Site with name 2 has been added.\n",
      "All sites have been added.\n",
      "  name site_id  longitude  latitude\n",
      "0    0  584876    130.869  -12.4325\n",
      "1    1  584877    133.804  -23.8618\n",
      "2    2  584878    138.609  -34.9352\n"
     ]
    }
   ],
   "source": [
    "api.add_sites(dataframe)"
   ]
  },
  {
   "cell_type": "code",
   "execution_count": 6,
   "metadata": {},
   "outputs": [
    {
     "name": "stdout",
     "output_type": "stream",
     "text": [
      "Response status from siteedit: OK (200).\n",
      "Site with ID 584867 has been edited: New name: cc. \n",
      "Response status from siteedit: OK (200).\n",
      "Site with ID 584868 has been edited: New position: {'latitude': -12.0, 'longitude': 130.0}. \n",
      "Response status from siteedit: OK (200).\n",
      "Site with ID 584869 has been edited: New name: cc. New position: {'latitude': -12.0, 'longitude': 130.0}. \n"
     ]
    }
   ],
   "source": [
    "position = {\n",
    "    'latitude': -12.0,\n",
    "    'longitude': 130.0\n",
    "}\n",
    "api.get_site_edit(584867, True, name=\"cc\")\n",
    "api.get_site_edit(584868, True, position=position)\n",
    "api.get_site_edit(584869, True, name=\"cc\", position=position)"
   ]
  },
  {
   "cell_type": "code",
   "execution_count": 12,
   "metadata": {},
   "outputs": [
    {
     "name": "stdout",
     "output_type": "stream",
     "text": [
      "Response status from siteinfo: OK.\n",
      "{\n",
      "  \"status\": \"OK\",\n",
      "  \"statuscode\": 200,\n",
      "  \"payload\": {\n",
      "    \"solarforecast\": {\n",
      "      \"sites\": {\n",
      "        \"584876\": {\n",
      "          \"altitude\": 18,\n",
      "          \"azimuth\": 0,\n",
      "          \"cddctout\": null,\n",
      "          \"hddctin\": null,\n",
      "          \"hddctout\": null,\n",
      "          \"horizon\": [\n",
      "            0,\n",
      "            0,\n",
      "            0,\n",
      "            0,\n",
      "            0,\n",
      "            0,\n",
      "            0,\n",
      "            0,\n",
      "            0,\n",
      "            0,\n",
      "            0,\n",
      "            0\n",
      "          ],\n",
      "          \"id\": 584876,\n",
      "          \"inclination\": 0,\n",
      "          \"last_update\": \"2023-08-23 14:00:08\",\n",
      "          \"latitude\": -12.4325,\n",
      "          \"longitude\": 130.869,\n",
      "          \"name\": \"0\",\n",
      "          \"registered\": \"2023-08-23 14:00:08\",\n",
      "          \"timezone\": \"Australia/Darwin\",\n",
      "          \"utc_offset\": \"UTC+9.5\"\n",
      "        },\n",
      "        \"584877\": {\n",
      "          \"altitude\": 557,\n",
      "          \"azimuth\": 0,\n",
      "          \"cddctout\": null,\n",
      "          \"hddctin\": null,\n",
      "          \"hddctout\": null,\n",
      "          \"horizon\": [\n",
      "            0,\n",
      "            0,\n",
      "            0,\n",
      "            0,\n",
      "            0,\n",
      "            0,\n",
      "            0,\n",
      "            0,\n",
      "            0,\n",
      "            0,\n",
      "            0,\n",
      "            0\n",
      "          ],\n",
      "          \"id\": 584877,\n",
      "          \"inclination\": 0,\n",
      "          \"last_update\": \"2023-08-23 14:00:09\",\n",
      "          \"latitude\": -23.8618,\n",
      "          \"longitude\": 133.804,\n",
      "          \"name\": \"1\",\n",
      "          \"registered\": \"2023-08-23 14:00:09\",\n",
      "          \"timezone\": \"Australia/Darwin\",\n",
      "          \"utc_offset\": \"UTC+9.5\"\n",
      "        },\n",
      "        \"584878\": {\n",
      "          \"altitude\": 52,\n",
      "          \"azimuth\": 0,\n",
      "          \"cddctout\": null,\n",
      "          \"hddctin\": null,\n",
      "          \"hddctout\": null,\n",
      "          \"horizon\": [\n",
      "            0,\n",
      "            0,\n",
      "            0,\n",
      "            0,\n",
      "            0,\n",
      "            0,\n",
      "            0,\n",
      "            0,\n",
      "            0,\n",
      "            0,\n",
      "            0,\n",
      "            0\n",
      "          ],\n",
      "          \"id\": 584878,\n",
      "          \"inclination\": 0,\n",
      "          \"last_update\": \"2023-08-23 14:00:09\",\n",
      "          \"latitude\": -34.9352,\n",
      "          \"longitude\": 138.609,\n",
      "          \"name\": \"2\",\n",
      "          \"registered\": \"2023-08-23 14:00:09\",\n",
      "          \"timezone\": \"Australia/Adelaide\",\n",
      "          \"utc_offset\": \"UTC+9.5\"\n",
      "        }\n",
      "      },\n",
      "      \"user\": {\n",
      "        \"id\": 393,\n",
      "        \"name\": \"aCentauri\"\n",
      "      }\n",
      "    }\n",
      "  }\n",
      "}\n"
     ]
    },
    {
     "data": {
      "text/plain": [
       "<Response [200]>"
      ]
     },
     "execution_count": 12,
     "metadata": {},
     "output_type": "execute_result"
    }
   ],
   "source": [
    "api.get_site_info()"
   ]
  },
  {
   "cell_type": "code",
   "execution_count": 8,
   "metadata": {},
   "outputs": [
    {
     "name": "stdout",
     "output_type": "stream",
     "text": [
      "Response status from sitedelete: OK (200).\n",
      "Site with id 584867 has been removed.\n",
      "Response status from sitedelete: OK (200).\n",
      "Site with id 584868 has been removed.\n",
      "Response status from sitedelete: OK (200).\n",
      "Site with id 584869 has been removed.\n",
      "Response status from sitedelete: OK (200).\n",
      "Site with id 584873 has been removed.\n",
      "Response status from sitedelete: OK (200).\n",
      "Site with id 584874 has been removed.\n",
      "Response status from sitedelete: OK (200).\n",
      "Site with id 584875 has been removed.\n",
      "All sites have been deleted.\n",
      "Empty DataFrame\n",
      "Columns: [name, site_id, longitude, latitude]\n",
      "Index: []\n"
     ]
    }
   ],
   "source": [
    "api.delete_all_sites()"
   ]
  },
  {
   "cell_type": "code",
   "execution_count": 13,
   "metadata": {},
   "outputs": [
    {
     "name": "stdout",
     "output_type": "stream",
     "text": [
      "Response status from siteinfo: OK.\n",
      "{\n",
      "  \"status\": \"OK\",\n",
      "  \"statuscode\": 200,\n",
      "  \"payload\": {\n",
      "    \"solarforecast\": {\n",
      "      \"sites\": {\n",
      "        \"584876\": {\n",
      "          \"altitude\": 18,\n",
      "          \"azimuth\": 0,\n",
      "          \"cddctout\": null,\n",
      "          \"hddctin\": null,\n",
      "          \"hddctout\": null,\n",
      "          \"horizon\": [\n",
      "            0,\n",
      "            0,\n",
      "            0,\n",
      "            0,\n",
      "            0,\n",
      "            0,\n",
      "            0,\n",
      "            0,\n",
      "            0,\n",
      "            0,\n",
      "            0,\n",
      "            0\n",
      "          ],\n",
      "          \"id\": 584876,\n",
      "          \"inclination\": 0,\n",
      "          \"last_update\": \"2023-08-23 14:00:08\",\n",
      "          \"latitude\": -12.4325,\n",
      "          \"longitude\": 130.869,\n",
      "          \"name\": \"0\",\n",
      "          \"registered\": \"2023-08-23 14:00:08\",\n",
      "          \"timezone\": \"Australia/Darwin\",\n",
      "          \"utc_offset\": \"UTC+9.5\"\n",
      "        },\n",
      "        \"584877\": {\n",
      "          \"altitude\": 557,\n",
      "          \"azimuth\": 0,\n",
      "          \"cddctout\": null,\n",
      "          \"hddctin\": null,\n",
      "          \"hddctout\": null,\n",
      "          \"horizon\": [\n",
      "            0,\n",
      "            0,\n",
      "            0,\n",
      "            0,\n",
      "            0,\n",
      "            0,\n",
      "            0,\n",
      "            0,\n",
      "            0,\n",
      "            0,\n",
      "            0,\n",
      "            0\n",
      "          ],\n",
      "          \"id\": 584877,\n",
      "          \"inclination\": 0,\n",
      "          \"last_update\": \"2023-08-23 14:00:09\",\n",
      "          \"latitude\": -23.8618,\n",
      "          \"longitude\": 133.804,\n",
      "          \"name\": \"1\",\n",
      "          \"registered\": \"2023-08-23 14:00:09\",\n",
      "          \"timezone\": \"Australia/Darwin\",\n",
      "          \"utc_offset\": \"UTC+9.5\"\n",
      "        },\n",
      "        \"584878\": {\n",
      "          \"altitude\": 52,\n",
      "          \"azimuth\": 0,\n",
      "          \"cddctout\": null,\n",
      "          \"hddctin\": null,\n",
      "          \"hddctout\": null,\n",
      "          \"horizon\": [\n",
      "            0,\n",
      "            0,\n",
      "            0,\n",
      "            0,\n",
      "            0,\n",
      "            0,\n",
      "            0,\n",
      "            0,\n",
      "            0,\n",
      "            0,\n",
      "            0,\n",
      "            0\n",
      "          ],\n",
      "          \"id\": 584878,\n",
      "          \"inclination\": 0,\n",
      "          \"last_update\": \"2023-08-23 14:00:09\",\n",
      "          \"latitude\": -34.9352,\n",
      "          \"longitude\": 138.609,\n",
      "          \"name\": \"2\",\n",
      "          \"registered\": \"2023-08-23 14:00:09\",\n",
      "          \"timezone\": \"Australia/Adelaide\",\n",
      "          \"utc_offset\": \"UTC+9.5\"\n",
      "        }\n",
      "      },\n",
      "      \"user\": {\n",
      "        \"id\": 393,\n",
      "        \"name\": \"aCentauri\"\n",
      "      }\n",
      "    }\n",
      "  }\n",
      "}\n"
     ]
    },
    {
     "data": {
      "text/plain": [
       "<Response [200]>"
      ]
     },
     "execution_count": 13,
     "metadata": {},
     "output_type": "execute_result"
    }
   ],
   "source": [
    "api.get_site_info()"
   ]
  },
  {
   "cell_type": "code",
   "execution_count": 14,
   "metadata": {},
   "outputs": [
    {
     "name": "stdout",
     "output_type": "stream",
     "text": [
      "Response status from getforecast: OK.\n"
     ]
    },
    {
     "ename": "KeyError",
     "evalue": "'sites'",
     "output_type": "error",
     "traceback": [
      "\u001b[1;31m---------------------------------------------------------------------------\u001b[0m",
      "\u001b[1;31mKeyError\u001b[0m                                  Traceback (most recent call last)",
      "Cell \u001b[1;32mIn[14], line 1\u001b[0m\n\u001b[1;32m----> 1\u001b[0m api\u001b[39m.\u001b[39;49mget_solar_forecast()\n",
      "File \u001b[1;32mc:\\Users\\giaco\\Git_Repositories\\aCentauri\\ss_weather\\weather_forecast.py:254\u001b[0m, in \u001b[0;36mWeatherForecast.get_solar_forecast\u001b[1;34m(self)\u001b[0m\n\u001b[0;32m    251\u001b[0m response \u001b[39m=\u001b[39m \u001b[39mself\u001b[39m\u001b[39m.\u001b[39m_send_get_request(variables)\n\u001b[0;32m    253\u001b[0m response_dict \u001b[39m=\u001b[39m response\u001b[39m.\u001b[39mjson()\n\u001b[1;32m--> 254\u001b[0m response_pd \u001b[39m=\u001b[39m pd\u001b[39m.\u001b[39mDataFrame(response_dict[\u001b[39m\"\u001b[39;49m\u001b[39mpayload\u001b[39;49m\u001b[39m\"\u001b[39;49m][\u001b[39m\"\u001b[39;49m\u001b[39msolarforecast\u001b[39;49m\u001b[39m\"\u001b[39;49m][\u001b[39m\"\u001b[39;49m\u001b[39msites\u001b[39;49m\u001b[39m\"\u001b[39;49m])\n\u001b[0;32m    255\u001b[0m \u001b[39mreturn\u001b[39;00m response_pd\n",
      "\u001b[1;31mKeyError\u001b[0m: 'sites'"
     ]
    }
   ],
   "source": [
    "api.get_solar_forecast()"
   ]
  },
  {
   "cell_type": "code",
   "execution_count": null,
   "metadata": {},
   "outputs": [],
   "source": []
  }
 ],
 "metadata": {
  "kernelspec": {
   "display_name": "Python 3",
   "language": "python",
   "name": "python3"
  },
  "language_info": {
   "codemirror_mode": {
    "name": "ipython",
    "version": 3
   },
   "file_extension": ".py",
   "mimetype": "text/x-python",
   "name": "python",
   "nbconvert_exporter": "python",
   "pygments_lexer": "ipython3",
   "version": "3.11.4"
  },
  "orig_nbformat": 4
 },
 "nbformat": 4,
 "nbformat_minor": 2
}
