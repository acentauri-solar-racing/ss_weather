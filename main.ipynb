{
 "cells": [
  {
   "cell_type": "code",
   "execution_count": 1,
   "metadata": {},
   "outputs": [],
   "source": [
    "import pandas as pd\n",
    "import numpy as np\n",
    "\n",
    "# from api_data import ApiData\n",
    "from api_executer import ApiExecuter\n",
    "from api_requester import ApiRequester\n",
    "from api_parser import ApiParser\n",
    "from FUNCTIONS import get_current_location"
   ]
  },
  {
   "cell_type": "code",
   "execution_count": null,
   "metadata": {},
   "outputs": [],
   "source": [
    "location = get_current_location()\n",
    "if location:\n",
    "    latitude, longitude = location\n",
    "    print(f'Current Latitude: {latitude}, Longitude: {longitude}')\n",
    "else:\n",
    "    print('Failed to determine current location.')"
   ]
  },
  {
   "cell_type": "code",
   "execution_count": 6,
   "metadata": {},
   "outputs": [
    {
     "name": "stdout",
     "output_type": "stream",
     "text": [
      "Nearest point index: 8\n",
      "Nearest point index: 99\n",
      "      longitude   latitude   altitude  cumDistance  gradient  maxSpeed  \\\n",
      "0    130.844161 -12.456694  18.000000   407.095561 -0.043367        50   \n",
      "1    130.844452 -12.456401  15.455610   452.538021 -0.055048        50   \n",
      "2    130.844738 -12.456102  12.644768   497.980480 -0.061105        50   \n",
      "3    130.845013 -12.455794   9.738632   543.422940 -0.059726        50   \n",
      "4    130.845268 -12.455470   9.415921   588.865399 -0.007159        50   \n",
      "..          ...        ...        ...          ...       ...       ...   \n",
      "145  130.888672 -12.432395  16.714238  6996.252196  0.002851       100   \n",
      "146  130.889091 -12.432393  17.369049  7041.694655  0.007243       100   \n",
      "147  130.889509 -12.432388  18.230453  7087.137115  0.013429       100   \n",
      "148  130.889928 -12.432384  19.048181  7132.579574  0.018087       100   \n",
      "149  130.890346 -12.432393  19.500000  7178.022034  0.009943       100   \n",
      "\n",
      "     cumDistanceCut  \n",
      "0          0.000000  \n",
      "1         45.442460  \n",
      "2         90.884919  \n",
      "3        136.327379  \n",
      "4        181.769838  \n",
      "..              ...  \n",
      "145     6589.156635  \n",
      "146     6634.599094  \n",
      "147     6680.041554  \n",
      "148     6725.484013  \n",
      "149     6770.926473  \n",
      "\n",
      "[150 rows x 7 columns]\n"
     ]
    }
   ],
   "source": [
    "from api_route import ApiRoute\n",
    "current_position = {'longitude': 130.844161,\n",
    "                    'latitude': -12.456694}\n",
    "final_position = {'longitude': 130.890346,\n",
    "                  'latitude': -12.432393}\n",
    "delta_spacing = 100.0 # in meters\n",
    "number_sites = 150\n",
    "route = ApiRoute()\n",
    "# route.get_route_data(current_position)\n",
    "# route.get_route_data(current_position, delta_spacing=delta_spacing)\n",
    "dataframe = route.get_route_data(current_position=current_position, final_position=final_position, number_sites=number_sites)"
   ]
  },
  {
   "cell_type": "code",
   "execution_count": null,
   "metadata": {},
   "outputs": [],
   "source": [
    "api_parser = ApiParser()\n",
    "api_requester = ApiRequester(parser=api_parser)\n",
    "api_executer = ApiExecuter(requester=api_requester)"
   ]
  },
  {
   "cell_type": "code",
   "execution_count": null,
   "metadata": {},
   "outputs": [],
   "source": [
    "# api_executer.add_sites(dataframe, print_is_requested=False)\n",
    "api_executer.delete_all_sites()"
   ]
  },
  {
   "cell_type": "code",
   "execution_count": null,
   "metadata": {},
   "outputs": [],
   "source": [
    "position = {\n",
    "    'latitude': -13.0,\n",
    "    'longitude': 134.0\n",
    "}\n",
    "api_requester.get_site_edit(584978, True, name=\"aa\")\n",
    "api_requester.get_site_edit(584979, True, position=position)\n",
    "api_requester.get_site_edit(584980, True, name=\"df\", position=position)"
   ]
  },
  {
   "cell_type": "code",
   "execution_count": null,
   "metadata": {},
   "outputs": [],
   "source": [
    "forecasts = api_requester.get_solar_forecast()\n",
    "# forecasts = api_requester.get_solar_forecast_cloudmove()\n",
    "print(forecasts)"
   ]
  },
  {
   "cell_type": "code",
   "execution_count": null,
   "metadata": {},
   "outputs": [],
   "source": [
    "index = forecasts.index\n",
    "\n",
    "# Access the values of time and site_id\n",
    "time_values = index.get_level_values('time')\n",
    "site_id_values = index.get_level_values('site_id')\n",
    "\n",
    "# Print the values\n",
    "print(\"Time values:\", time_values)\n",
    "print(\"Site ID values:\", site_id_values)"
   ]
  },
  {
   "cell_type": "code",
   "execution_count": null,
   "metadata": {},
   "outputs": [],
   "source": [
    "# Extract all 'rr' values for all site_id and time combinations\n",
    "# rr_values = forecasts.loc[:, ('rr', slice(None), slice(None))].droplevel('variable')\n",
    "rr_values = forecasts.loc[:, ('rh')]\n",
    "rr_values = rr_values.to_frame()\n",
    "print(rr_values)\n",
    "print(rr_values.max(), rr_values.min())\n",
    "# # Assuming your MultiIndex DataFrame is named \"forecast_data\"\n",
    "# pivot_table = rr_values.pivot(index='time', columns='site_id', values='tt')\n",
    "# print(pivot_table)\n",
    "rr_values.to_csv('rh_table.csv')\n",
    "\n",
    "# print(rr_values)"
   ]
  },
  {
   "cell_type": "code",
   "execution_count": null,
   "metadata": {},
   "outputs": [],
   "source": [
    "import atmos\n",
    "density = atmos.calculate('rho', Tv=300.0, p=990.0, p_units='hPa')\n",
    "print(density)"
   ]
  }
 ],
 "metadata": {
  "kernelspec": {
   "display_name": "Python 3",
   "language": "python",
   "name": "python3"
  },
  "language_info": {
   "codemirror_mode": {
    "name": "ipython",
    "version": 3
   },
   "file_extension": ".py",
   "mimetype": "text/x-python",
   "name": "python",
   "nbconvert_exporter": "python",
   "pygments_lexer": "ipython3",
   "version": "3.11.5"
  },
  "orig_nbformat": 4
 },
 "nbformat": 4,
 "nbformat_minor": 2
}
