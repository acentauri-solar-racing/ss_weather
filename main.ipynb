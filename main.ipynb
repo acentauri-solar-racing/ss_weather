{
 "cells": [
  {
   "cell_type": "code",
   "execution_count": 3,
   "metadata": {},
   "outputs": [],
   "source": [
    "import pandas as pd\n",
    "import numpy as np\n",
    "\n",
    "from route import Route\n",
    "from weather_forecast import WeatherForecast\n",
    "\n",
    "current_position = {'longitude': 130.868566,\n",
    "                    'latitude': -12.432466}\n",
    "delta_spacing = 100000.0 # in meters\n",
    "number_sites = 3"
   ]
  },
  {
   "cell_type": "code",
   "execution_count": 4,
   "metadata": {},
   "outputs": [
    {
     "name": "stdout",
     "output_type": "stream",
     "text": [
      "    longitude   latitude    altitude   cumDistance  gradient  maxSpeed\n",
      "0  130.868566 -12.432466   11.500000  0.000000e+00  0.024056       100\n",
      "1  133.803762 -23.861845  557.690488  1.513018e+06  0.004450       130\n",
      "2  138.608989 -34.935232   53.250000  3.026035e+06 -0.017856        50\n"
     ]
    }
   ],
   "source": [
    "route = Route()\n",
    "# route.get_final_data(current_position)\n",
    "# route.get_final_data(current_position, delta_spacing=delta_spacing)\n",
    "dataframe = route.get_final_data(current_position, number_sites=number_sites)"
   ]
  },
  {
   "cell_type": "code",
   "execution_count": 7,
   "metadata": {},
   "outputs": [
    {
     "name": "stdout",
     "output_type": "stream",
     "text": [
      "Response status from siteinfo: OK.\n",
      "Current sites:\n",
      "Empty DataFrame\n",
      "Columns: [name, site_id, longitude, latitude]\n",
      "Index: []\n",
      "Response status from siteadd: OK.\n",
      "Site with name 0 has been added.\n",
      "Response status from siteadd: OK.\n",
      "Site with name 1 has been added.\n",
      "Response status from siteadd: OK.\n",
      "Site with name 2 has been added.\n",
      "All sites have been added.\n",
      "  name site_id  longitude  latitude\n",
      "0    0  584867    130.869  -12.4325\n",
      "1    1  584868    133.804  -23.8618\n",
      "2    2  584869    138.609  -34.9352\n"
     ]
    }
   ],
   "source": [
    "api = WeatherForecast()\n",
    "api.add_sites(dataframe)"
   ]
  },
  {
   "cell_type": "code",
   "execution_count": null,
   "metadata": {},
   "outputs": [],
   "source": [
    "api.get_site_edit(584867, True, name=\"cc\")\n",
    "api.get_site_edit(584868, True, name=\"cc\", position=)\n",
    "api.get_site_edit(584869, True, position=)"
   ]
  },
  {
   "cell_type": "code",
   "execution_count": 6,
   "metadata": {},
   "outputs": [
    {
     "name": "stdout",
     "output_type": "stream",
     "text": [
      "Response status from sitedelete: OK (200).\n",
      "Site with id 584858 has been removed.\n",
      "Response status from sitedelete: OK (200).\n",
      "Site with id 584859 has been removed.\n",
      "Response status from sitedelete: OK (200).\n",
      "Site with id 584860 has been removed.\n",
      "Response status from sitedelete: OK (200).\n",
      "Site with id 584861 has been removed.\n",
      "Response status from sitedelete: OK (200).\n",
      "Site with id 584862 has been removed.\n",
      "Response status from sitedelete: OK (200).\n",
      "Site with id 584863 has been removed.\n",
      "Response status from sitedelete: OK (200).\n",
      "Site with id 584864 has been removed.\n",
      "Response status from sitedelete: OK (200).\n",
      "Site with id 584865 has been removed.\n",
      "Response status from sitedelete: OK (200).\n",
      "Site with id 584866 has been removed.\n",
      "All sites have been deleted.\n",
      "Empty DataFrame\n",
      "Columns: [name, site_id, longitude, latitude]\n",
      "Index: []\n"
     ]
    }
   ],
   "source": [
    "api.delete_all_sites()"
   ]
  }
 ],
 "metadata": {
  "kernelspec": {
   "display_name": "Python 3",
   "language": "python",
   "name": "python3"
  },
  "language_info": {
   "codemirror_mode": {
    "name": "ipython",
    "version": 3
   },
   "file_extension": ".py",
   "mimetype": "text/x-python",
   "name": "python",
   "nbconvert_exporter": "python",
   "pygments_lexer": "ipython3",
   "version": "3.11.4"
  },
  "orig_nbformat": 4
 },
 "nbformat": 4,
 "nbformat_minor": 2
}
