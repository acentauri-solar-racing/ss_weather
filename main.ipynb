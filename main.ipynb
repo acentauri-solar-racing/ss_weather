{
 "cells": [
  {
   "cell_type": "code",
   "execution_count": 1,
   "metadata": {},
   "outputs": [],
   "source": [
    "from api_executer import ApiExecuter\n",
    "from api_requester import ApiRequester\n",
    "from api_parser import ApiParser\n",
    "from api_saver import ApiSaver\n",
    "from functions import get_current_location"
   ]
  },
  {
   "cell_type": "code",
   "execution_count": 2,
   "metadata": {},
   "outputs": [
    {
     "name": "stdout",
     "output_type": "stream",
     "text": [
      "Current Latitude: -34.9287, Longitude: 138.5986\n"
     ]
    }
   ],
   "source": [
    "location = get_current_location()\n",
    "if location:\n",
    "    latitude, longitude = location\n",
    "    print(f'Current Latitude: {latitude}, Longitude: {longitude}')\n",
    "else:\n",
    "    print('Failed to determine current location.')"
   ]
  },
  {
   "cell_type": "code",
   "execution_count": 3,
   "metadata": {},
   "outputs": [
    {
     "name": "stdout",
     "output_type": "stream",
     "text": [
      "Nearest point index: 8\n",
      "    longitude   latitude  altitudeSmoothed  inclinationSmoothed   cumDistance  \\\n",
      "0  130.844161 -12.456694         16.350559            -0.024998  4.070956e+02   \n",
      "1  132.432250 -14.530751        177.501908            -0.010896  3.371206e+05   \n",
      "2  133.443126 -17.041297        244.299944            -0.000802  6.738341e+05   \n",
      "3  134.202227 -19.844744        333.407446             0.001097  1.010548e+06   \n",
      "4  133.331310 -22.515267        638.287834             0.001966  1.347261e+06   \n",
      "5  133.198145 -25.097933        460.958486             0.008386  1.683975e+06   \n",
      "6  134.024609 -27.828917        300.423269            -0.002393  2.020688e+06   \n",
      "7  135.350570 -30.414686        170.808656            -0.000158  2.357402e+06   \n",
      "8  137.588876 -32.317265         44.598942            -0.000095  2.694115e+06   \n",
      "9  138.608989 -34.935232         56.847434            -0.016969  3.030829e+06   \n",
      "\n",
      "   maxSpeed       theta  cumDistanceCut  \n",
      "0        50   44.136411    0.000000e+00  \n",
      "1       110  164.013801    3.367135e+05  \n",
      "2       100  170.630611    6.734270e+05  \n",
      "3       130  174.861527    1.010141e+06  \n",
      "4       130  186.159928    1.346854e+06  \n",
      "5       130  172.894370    1.683568e+06  \n",
      "6       110  163.501277    2.020281e+06  \n",
      "7       110  166.494968    2.356995e+06  \n",
      "8       110  160.523916    2.693708e+06  \n",
      "9        50    0.000000    3.030422e+06  \n"
     ]
    }
   ],
   "source": [
    "from route_df import RouteDF\n",
    "routeDF = RouteDF()\n",
    "\n",
    "from api_route import ApiRoute\n",
    "current_position = {'longitude': 130.844161,\n",
    "                    'latitude': -12.456694}\n",
    "final_position = {'longitude': 130.890346,\n",
    "                  'latitude': -12.432393}\n",
    "delta_spacing = 2000.0 # in meters\n",
    "number_sites = 10\n",
    "\n",
    "route = ApiRoute(routeDF.get_route_data())\n",
    "\n",
    "route_df = route.cut_route_data(current_position, number_sites=number_sites)\n",
    "# route_df = route.cut_route_data(current_position, number_sites=number_sites, delta_spacing=delta_spacing, print_is_requested=True)\n",
    "# route_df = route.cut_route_data(current_position=current_position, final_position=final_position, number_sites=number_sites)"
   ]
  },
  {
   "cell_type": "code",
   "execution_count": 4,
   "metadata": {},
   "outputs": [
    {
     "name": "stdout",
     "output_type": "stream",
     "text": [
      "Response status from siteinfo: OK.\n",
      "Current sites' info has been retrieved. \n",
      "         name  longitude  latitude  altitude      UTC_offset\n",
      "site_id                                                    \n",
      "585647     0    130.844  -12.4567        32 0 days 09:30:00\n",
      "585648     1    132.432  -14.5308       176 0 days 09:30:00\n",
      "585649     2    133.443  -17.0413       248 0 days 09:30:00\n",
      "585650     3    134.202  -19.8447       332 0 days 09:30:00\n",
      "585651     4    133.331  -22.5153       640 0 days 09:30:00\n",
      "585652     5    133.198  -25.0979       458 0 days 09:30:00\n",
      "585653     6    134.025  -27.8289       302 0 days 09:30:00\n",
      "585654     7    135.351  -30.4147       169 0 days 09:30:00\n",
      "585655     8    137.589  -32.3173        46 0 days 09:30:00\n",
      "585656     9    138.609  -34.9352        52 0 days 09:30:00\n"
     ]
    }
   ],
   "source": [
    "api_parser = ApiParser()\n",
    "api_requester = ApiRequester(parser=api_parser)\n",
    "api_executer = ApiExecuter(requester=api_requester)\n",
    "\n",
    "sites_df = api_requester.forecast_sites"
   ]
  },
  {
   "cell_type": "code",
   "execution_count": 5,
   "metadata": {},
   "outputs": [],
   "source": [
    "# api_requester.get_site_info(print_is_requested=True)"
   ]
  },
  {
   "cell_type": "code",
   "execution_count": 6,
   "metadata": {},
   "outputs": [],
   "source": [
    "# api_executer.add_sites(route_df, print_is_requested=True)"
   ]
  },
  {
   "cell_type": "code",
   "execution_count": 7,
   "metadata": {},
   "outputs": [],
   "source": [
    "# api_requester.get_site_delete(585394, print_is_requested=True)\n",
    "# api_executer.delete_all_sites()"
   ]
  },
  {
   "cell_type": "code",
   "execution_count": 8,
   "metadata": {},
   "outputs": [],
   "source": [
    "# position = {\n",
    "#     'latitude': -13.0,\n",
    "#     'longitude': 134.0\n",
    "# }\n",
    "# api_requester.get_site_edit(585396, True, name=\"aa\")\n",
    "# api_requester.get_site_edit(585395, True, position=position)\n",
    "# api_requester.get_site_edit(585396, True, name=\"df\", position=position)"
   ]
  },
  {
   "cell_type": "code",
   "execution_count": 9,
   "metadata": {},
   "outputs": [
    {
     "name": "stdout",
     "output_type": "stream",
     "text": [
      "Response status from getforecast_cloudmove: OK.\n",
      "Solar forecast CloudMove have been retrieved.\n",
      "                                     gk      tt          gh         dh  \\\n",
      "site_id time                                                             \n",
      "585647  2023-09-21 17:15:00  346.322578  29.950  346.322578  48.775094   \n",
      "        2023-09-21 17:30:00  278.571723  29.700  278.571723  48.045583   \n",
      "        2023-09-21 17:45:00  211.975575  29.425  211.975575  45.865859   \n",
      "        2023-09-21 18:00:00  148.282902  29.150  148.282902  42.631914   \n",
      "        2023-09-21 18:15:00   90.417041  28.875   90.417041  35.906311   \n",
      "...                                 ...     ...         ...        ...   \n",
      "585656  2023-09-21 22:00:00    0.000000   8.800    0.000000   0.000000   \n",
      "        2023-09-21 22:15:00    0.000000   8.700    0.000000   0.000000   \n",
      "        2023-09-21 22:30:00    0.000000   8.600    0.000000   0.000000   \n",
      "        2023-09-21 22:45:00    0.000000   8.500    0.000000   0.000000   \n",
      "        2023-09-21 23:00:00    0.000000   8.400    0.000000   0.000000   \n",
      "\n",
      "                                     bh         dni      e  \n",
      "site_id time                                                \n",
      "585647  2023-09-21 17:15:00  297.547485  789.797427  81.25  \n",
      "        2023-09-21 17:30:00  230.526140  726.874341  66.25  \n",
      "        2023-09-21 17:45:00  166.109717  648.416598  51.25  \n",
      "        2023-09-21 18:00:00  105.650988  544.337565  36.50  \n",
      "        2023-09-21 18:15:00   54.510729  415.625525  22.50  \n",
      "...                                 ...         ...    ...  \n",
      "585656  2023-09-21 22:00:00    0.000000    0.000000   0.00  \n",
      "        2023-09-21 22:15:00    0.000000    0.000000   0.00  \n",
      "        2023-09-21 22:30:00    0.000000    0.000000   0.00  \n",
      "        2023-09-21 22:45:00    0.000000    0.000000   0.00  \n",
      "        2023-09-21 23:00:00    0.000000    0.000000   0.00  \n",
      "\n",
      "[240 rows x 7 columns]\n"
     ]
    }
   ],
   "source": [
    "# raw_forecast_df = api_requester.get_solar_forecast()\n",
    "raw_forecast_df = api_requester.get_solar_forecast_cloudmove()\n",
    "print(raw_forecast_df)"
   ]
  },
  {
   "cell_type": "code",
   "execution_count": 10,
   "metadata": {},
   "outputs": [
    {
     "name": "stdout",
     "output_type": "stream",
     "text": [
      "No directory chosen. Data not saved.\n",
      "                                          gk      tt          gh         dh  \\\n",
      "cumDistance  time                                                             \n",
      "4.070956e+02 2023-09-21 17:15:00  346.322578  29.950  346.322578  48.775094   \n",
      "             2023-09-21 17:30:00  278.571723  29.700  278.571723  48.045583   \n",
      "             2023-09-21 17:45:00  211.975575  29.425  211.975575  45.865859   \n",
      "             2023-09-21 18:00:00  148.282902  29.150  148.282902  42.631914   \n",
      "             2023-09-21 18:15:00   90.417041  28.875   90.417041  35.906311   \n",
      "...                                      ...     ...         ...        ...   \n",
      "3.030829e+06 2023-09-21 22:00:00    0.000000   8.800    0.000000   0.000000   \n",
      "             2023-09-21 22:15:00    0.000000   8.700    0.000000   0.000000   \n",
      "             2023-09-21 22:30:00    0.000000   8.600    0.000000   0.000000   \n",
      "             2023-09-21 22:45:00    0.000000   8.500    0.000000   0.000000   \n",
      "             2023-09-21 23:00:00    0.000000   8.400    0.000000   0.000000   \n",
      "\n",
      "                                          bh         dni      e  \n",
      "cumDistance  time                                                \n",
      "4.070956e+02 2023-09-21 17:15:00  297.547485  789.797427  81.25  \n",
      "             2023-09-21 17:30:00  230.526140  726.874341  66.25  \n",
      "             2023-09-21 17:45:00  166.109717  648.416598  51.25  \n",
      "             2023-09-21 18:00:00  105.650988  544.337565  36.50  \n",
      "             2023-09-21 18:15:00   54.510729  415.625525  22.50  \n",
      "...                                      ...         ...    ...  \n",
      "3.030829e+06 2023-09-21 22:00:00    0.000000    0.000000   0.00  \n",
      "             2023-09-21 22:15:00    0.000000    0.000000   0.00  \n",
      "             2023-09-21 22:30:00    0.000000    0.000000   0.00  \n",
      "             2023-09-21 22:45:00    0.000000    0.000000   0.00  \n",
      "             2023-09-21 23:00:00    0.000000    0.000000   0.00  \n",
      "\n",
      "[240 rows x 7 columns]\n"
     ]
    }
   ],
   "source": [
    "api_saver = ApiSaver()\n",
    "\n",
    "forecast_df = api_saver.save_raw_data(route_df, sites_df, raw_forecast_df)\n",
    "print(forecast_df)"
   ]
  },
  {
   "cell_type": "code",
   "execution_count": 13,
   "metadata": {},
   "outputs": [
    {
     "name": "stdout",
     "output_type": "stream",
     "text": [
      "<class 'pandas.core.frame.DataFrame'>\n"
     ]
    },
    {
     "data": {
      "text/plain": [
       "pandas.core.frame.DataFrame"
      ]
     },
     "execution_count": 13,
     "metadata": {},
     "output_type": "execute_result"
    }
   ],
   "source": [
    "from preprocessor import Preprocessor\n",
    "preprocessor = Preprocessor()\n",
    "hours_in_advance = 7\n",
    "preprocessor_df, toher = preprocessor.preprocess(route_df, sites_df, raw_forecast_df, hours_in_advance)\n",
    "print(preprocessor_df)\n",
    "\n",
    "from forecast_preprocessor import ForecastPreprocessor\n",
    "forecast_preprocessor = ForecastPreprocessor()\n",
    "forecast_preprocessor.forecast_preprocessing(route_df, forecast_df, hours_in_advance)"
   ]
  }
 ],
 "metadata": {
  "kernelspec": {
   "display_name": "Python 3",
   "language": "python",
   "name": "python3"
  },
  "language_info": {
   "codemirror_mode": {
    "name": "ipython",
    "version": 3
   },
   "file_extension": ".py",
   "mimetype": "text/x-python",
   "name": "python",
   "nbconvert_exporter": "python",
   "pygments_lexer": "ipython3",
   "version": "3.11.5"
  },
  "orig_nbformat": 4
 },
 "nbformat": 4,
 "nbformat_minor": 2
}
