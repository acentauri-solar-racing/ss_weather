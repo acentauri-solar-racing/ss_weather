{
 "cells": [
  {
   "cell_type": "code",
   "execution_count": null,
   "metadata": {},
   "outputs": [],
   "source": [
    "import pandas as pd\n",
    "import numpy as np\n",
    "\n",
    "# from api_data import ApiData\n",
    "from api_executer import ApiExecuter\n",
    "from api_requester import ApiRequester\n",
    "from api_parser import ApiParser\n",
    "from FUNCTIONS import get_current_location"
   ]
  },
  {
   "cell_type": "code",
   "execution_count": null,
   "metadata": {},
   "outputs": [],
   "source": [
    "location = get_current_location()\n",
    "if location:\n",
    "    latitude, longitude = location\n",
    "    print(f'Current Latitude: {latitude}, Longitude: {longitude}')\n",
    "else:\n",
    "    print('Failed to determine current location.')"
   ]
  },
  {
   "cell_type": "code",
   "execution_count": null,
   "metadata": {},
   "outputs": [],
   "source": [
    "from api_route import ApiRoute\n",
    "current_position = {'longitude': 130.844161,\n",
    "                    'latitude': -12.456694}\n",
    "final_position = {'longitude': 130.890346,\n",
    "                  'latitude': -12.432393}\n",
    "delta_spacing = 2000.0 # in meters\n",
    "number_sites = 2\n",
    "route = ApiRoute()\n",
    "# dataframe = route.get_route_data(current_position)\n",
    "dataframe = route.get_route_data(current_position, number_sites=number_sites, delta_spacing=delta_spacing, print_is_requested=True)\n",
    "# dataframe = route.get_route_data(current_position=current_position, final_position=final_position, number_sites=number_sites)"
   ]
  },
  {
   "cell_type": "code",
   "execution_count": null,
   "metadata": {},
   "outputs": [],
   "source": [
    "api_parser = ApiParser()\n",
    "api_requester = ApiRequester(parser=api_parser)\n",
    "api_executer = ApiExecuter(requester=api_requester)"
   ]
  },
  {
   "cell_type": "code",
   "execution_count": null,
   "metadata": {},
   "outputs": [],
   "source": [
    "# api_executer.add_sites(dataframe, print_is_requested=True)"
   ]
  },
  {
   "cell_type": "code",
   "execution_count": null,
   "metadata": {},
   "outputs": [],
   "source": [
    "api_requester.get_site_delete(585394, print_is_requested=True)\n",
    "# api_executer.delete_all_sites()"
   ]
  },
  {
   "cell_type": "code",
   "execution_count": null,
   "metadata": {},
   "outputs": [],
   "source": [
    "# position = {\n",
    "#     'latitude': -13.0,\n",
    "#     'longitude': 134.0\n",
    "# }\n",
    "# api_requester.get_site_edit(584978, True, name=\"aa\")\n",
    "# api_requester.get_site_edit(584979, True, position=position)\n",
    "# api_requester.get_site_edit(584980, True, name=\"df\", position=position)"
   ]
  },
  {
   "cell_type": "code",
   "execution_count": null,
   "metadata": {},
   "outputs": [],
   "source": [
    "# forecasts = api_requester.get_solar_forecast()\n",
    "forecasts = api_requester.get_solar_forecast_cloudmove()\n",
    "print(forecasts)"
   ]
  },
  {
   "cell_type": "code",
   "execution_count": null,
   "metadata": {},
   "outputs": [],
   "source": [
    "index = forecasts.index\n",
    "\n",
    "times = index.get_level_values('time').hour\n",
    "print(times)\n",
    "\n",
    "# Access the values of time and site_id\n",
    "time_values = index.get_level_values('time')\n",
    "site_id_values = index.get_level_values('site_id')\n",
    "\n",
    "# Print the values\n",
    "print(\"Time values:\", time_values)\n",
    "print(\"Site ID values:\", site_id_values)"
   ]
  },
  {
   "cell_type": "code",
   "execution_count": null,
   "metadata": {},
   "outputs": [],
   "source": [
    "# Extract all 'rr' values for all site_id and time combinations\n",
    "# rr_values = forecasts.loc[:, ('rr', slice(None), slice(None))].droplevel('variable')\n",
    "rr_values = forecasts.loc[:, ('rh')]\n",
    "rr_values = rr_values.to_frame()\n",
    "print(rr_values)\n",
    "print(rr_values.max(), rr_values.min())\n",
    "# # Assuming your MultiIndex DataFrame is named \"forecast_data\"\n",
    "# pivot_table = rr_values.pivot(index='time', columns='site_id', values='tt')\n",
    "# print(pivot_table)\n",
    "rr_values.to_csv('rh_table.csv')\n",
    "\n",
    "# print(rr_values)"
   ]
  },
  {
   "cell_type": "code",
   "execution_count": null,
   "metadata": {},
   "outputs": [],
   "source": []
  }
 ],
 "metadata": {
  "kernelspec": {
   "display_name": "Python 3",
   "language": "python",
   "name": "python3"
  },
  "language_info": {
   "codemirror_mode": {
    "name": "ipython",
    "version": 3
   },
   "file_extension": ".py",
   "mimetype": "text/x-python",
   "name": "python",
   "nbconvert_exporter": "python",
   "pygments_lexer": "ipython3",
   "version": "3.11.5"
  },
  "orig_nbformat": 4
 },
 "nbformat": 4,
 "nbformat_minor": 2
}
