{
 "cells": [
  {
   "cell_type": "code",
   "execution_count": 12,
   "metadata": {},
   "outputs": [],
   "source": [
    "from api_executer import ApiExecuter\n",
    "from api_requester import ApiRequester\n",
    "from api_parser import ApiParser\n",
    "from api_saver import ApiSaver\n",
    "from functions import get_current_location"
   ]
  },
  {
   "cell_type": "code",
   "execution_count": 13,
   "metadata": {},
   "outputs": [
    {
     "name": "stdout",
     "output_type": "stream",
     "text": [
      "Current Latitude: 44.4048, Longitude: 8.9444\n"
     ]
    }
   ],
   "source": [
    "location = get_current_location()\n",
    "if location:\n",
    "    latitude, longitude = location\n",
    "    print(f'Current Latitude: {latitude}, Longitude: {longitude}')\n",
    "else:\n",
    "    print('Failed to determine current location.')"
   ]
  },
  {
   "cell_type": "code",
   "execution_count": 14,
   "metadata": {},
   "outputs": [
    {
     "name": "stdout",
     "output_type": "stream",
     "text": [
      "Nearest point index: 8\n",
      "    longitude   latitude  altitudeSmoothed  inclinationSmoothed   cumDistance  \\\n",
      "0  130.844161 -12.456694         16.350559            -0.024998  4.070956e+02   \n",
      "1  132.432250 -14.530751        177.501908            -0.010896  3.371206e+05   \n",
      "2  133.443126 -17.041297        244.299944            -0.000802  6.738341e+05   \n",
      "3  134.202227 -19.844744        333.407446             0.001097  1.010548e+06   \n",
      "4  133.331310 -22.515267        638.287834             0.001966  1.347261e+06   \n",
      "5  133.198145 -25.097933        460.958486             0.008386  1.683975e+06   \n",
      "6  134.024609 -27.828917        300.423269            -0.002393  2.020688e+06   \n",
      "7  135.350570 -30.414686        170.808656            -0.000158  2.357402e+06   \n",
      "8  137.588876 -32.317265         44.598942            -0.000095  2.694115e+06   \n",
      "9  138.608989 -34.935232         56.847434            -0.016969  3.030829e+06   \n",
      "\n",
      "   maxSpeed       theta  cumDistanceCut  \n",
      "0        50   44.136411    0.000000e+00  \n",
      "1       110  164.013801    3.367135e+05  \n",
      "2       100  170.630611    6.734270e+05  \n",
      "3       130  174.861527    1.010141e+06  \n",
      "4       130  186.159928    1.346854e+06  \n",
      "5       130  172.894370    1.683568e+06  \n",
      "6       110  163.501277    2.020281e+06  \n",
      "7       110  166.494968    2.356995e+06  \n",
      "8       110  160.523916    2.693708e+06  \n",
      "9        50    0.000000    3.030422e+06  \n"
     ]
    }
   ],
   "source": [
    "from route_df import RouteDF\n",
    "routeDF = RouteDF()\n",
    "\n",
    "from api_route import ApiRoute\n",
    "current_position = {'longitude': 130.844161,\n",
    "                    'latitude': -12.456694}\n",
    "final_position = {'longitude': 130.890346,\n",
    "                  'latitude': -12.432393}\n",
    "delta_spacing = 2000.0 # in meters\n",
    "number_sites = 10\n",
    "\n",
    "route = ApiRoute(routeDF.route_data)\n",
    "\n",
    "route_df = route.cut_route_data(current_position, number_sites=number_sites)\n",
    "# route_df = route.cut_route_data(current_position, number_sites=number_sites, delta_spacing=delta_spacing, print_is_requested=True)\n",
    "# route_df = route.cut_route_data(current_position=current_position, final_position=final_position, number_sites=number_sites)"
   ]
  },
  {
   "cell_type": "code",
   "execution_count": 15,
   "metadata": {},
   "outputs": [
    {
     "name": "stdout",
     "output_type": "stream",
     "text": [
      "Response status from siteinfo: OK.\n",
      "        name  longitude  latitude  altitude      UTC_offset\n",
      "site_id                                                    \n",
      "585647     0    130.844  -12.4567        32 0 days 09:30:00\n",
      "585648     1    132.432  -14.5308       176 0 days 09:30:00\n",
      "585649     2    133.443  -17.0413       248 0 days 09:30:00\n",
      "585650     3    134.202  -19.8447       332 0 days 09:30:00\n",
      "585651     4    133.331  -22.5153       640 0 days 09:30:00\n",
      "585652     5    133.198  -25.0979       458 0 days 09:30:00\n",
      "585653     6    134.025  -27.8289       302 0 days 09:30:00\n",
      "585654     7    135.351  -30.4147       169 0 days 09:30:00\n",
      "585655     8    137.589  -32.3173        46 0 days 09:30:00\n",
      "585656     9    138.609  -34.9352        52 0 days 09:30:00\n",
      "Current sites' info has been retrieved. \n",
      "         name  longitude  latitude  altitude      UTC_offset\n",
      "site_id                                                    \n",
      "585647     0    130.844  -12.4567        32 0 days 09:30:00\n",
      "585648     1    132.432  -14.5308       176 0 days 09:30:00\n",
      "585649     2    133.443  -17.0413       248 0 days 09:30:00\n",
      "585650     3    134.202  -19.8447       332 0 days 09:30:00\n",
      "585651     4    133.331  -22.5153       640 0 days 09:30:00\n",
      "585652     5    133.198  -25.0979       458 0 days 09:30:00\n",
      "585653     6    134.025  -27.8289       302 0 days 09:30:00\n",
      "585654     7    135.351  -30.4147       169 0 days 09:30:00\n",
      "585655     8    137.589  -32.3173        46 0 days 09:30:00\n",
      "585656     9    138.609  -34.9352        52 0 days 09:30:00\n"
     ]
    }
   ],
   "source": [
    "api_parser = ApiParser()\n",
    "api_requester = ApiRequester(parser=api_parser)\n",
    "api_executer = ApiExecuter(requester=api_requester)\n",
    "\n",
    "sites_df = api_requester.forecast_sites"
   ]
  },
  {
   "cell_type": "code",
   "execution_count": 16,
   "metadata": {},
   "outputs": [],
   "source": [
    "# api_requester.get_site_info(print_is_requested=True)"
   ]
  },
  {
   "cell_type": "code",
   "execution_count": 17,
   "metadata": {},
   "outputs": [],
   "source": [
    "# api_executer.add_sites(route_df, print_is_requested=True)"
   ]
  },
  {
   "cell_type": "code",
   "execution_count": 18,
   "metadata": {},
   "outputs": [],
   "source": [
    "# api_requester.get_site_delete(585394, print_is_requested=True)\n",
    "# api_executer.delete_all_sites()"
   ]
  },
  {
   "cell_type": "code",
   "execution_count": 19,
   "metadata": {},
   "outputs": [],
   "source": [
    "# position = {\n",
    "#     'latitude': -13.0,\n",
    "#     'longitude': 134.0\n",
    "# }\n",
    "# api_requester.get_site_edit(585396, True, name=\"aa\")\n",
    "# api_requester.get_site_edit(585395, True, position=position)\n",
    "# api_requester.get_site_edit(585396, True, name=\"df\", position=position)"
   ]
  },
  {
   "cell_type": "code",
   "execution_count": 31,
   "metadata": {},
   "outputs": [
    {
     "name": "stdout",
     "output_type": "stream",
     "text": [
      "Response status from getforecast_cloudmove: OK.\n",
      "Solar forecast CloudMove have been retrieved.\n",
      "                                     gk      tt     gh         dh         bh  \\\n",
      "site_id time                                                                   \n",
      "585647  2023-09-13 01:45:00    0.000000  23.850    0.0   0.000000   0.000000   \n",
      "        2023-09-13 02:00:00    0.000000  23.700    0.0   0.000000   0.000000   \n",
      "        2023-09-13 02:15:00    0.000000  23.550    0.0   0.000000   0.000000   \n",
      "        2023-09-13 02:30:00    0.000000  23.400    0.0   0.000000   0.000000   \n",
      "        2023-09-13 02:45:00    0.000000  23.325    0.0   0.000000   0.000000   \n",
      "...                                 ...     ...    ...        ...        ...   \n",
      "585656  2023-09-13 06:30:00    0.000000  14.500    0.0   0.000000   0.000000   \n",
      "        2023-09-13 06:45:00   19.971341  15.150   24.0  19.517107   4.482893   \n",
      "        2023-09-13 07:00:00   53.083189  15.800   54.0  36.464848  17.535152   \n",
      "        2023-09-13 07:15:00   91.000000  16.450   91.0  55.015690  35.984310   \n",
      "        2023-09-13 07:30:00  129.000000  17.100  129.0  69.490005  59.509995   \n",
      "\n",
      "                                    dni      e  \n",
      "site_id time                                    \n",
      "585647  2023-09-13 01:45:00    0.000000   0.00  \n",
      "        2023-09-13 02:00:00    0.000000   0.00  \n",
      "        2023-09-13 02:15:00    0.000000   0.00  \n",
      "        2023-09-13 02:30:00    0.000000   0.00  \n",
      "        2023-09-13 02:45:00    0.000000   0.00  \n",
      "...                                 ...    ...  \n",
      "585656  2023-09-13 06:30:00    0.000000   0.00  \n",
      "        2023-09-13 06:45:00   90.077241   5.25  \n",
      "        2023-09-13 07:00:00  170.761279  14.00  \n",
      "        2023-09-13 07:15:00  232.179583  23.75  \n",
      "        2023-09-13 07:30:00  288.276954  33.50  \n",
      "\n",
      "[240 rows x 7 columns]\n"
     ]
    }
   ],
   "source": [
    "# forecast_df = api_requester.get_solar_forecast()\n",
    "forecast_df = api_requester.get_solar_forecast_cloudmove()\n",
    "print(forecast_df)"
   ]
  },
  {
   "cell_type": "code",
   "execution_count": 32,
   "metadata": {},
   "outputs": [
    {
     "name": "stdout",
     "output_type": "stream",
     "text": [
      "Data saved to G:/Drive condivisi/AlphaCentauri/SolarCar_22 23/6. Strategy & Simulation/ss_online_raw_data\\20230912_180743_CM.\n"
     ]
    }
   ],
   "source": [
    "api_saver = ApiSaver()\n",
    "\n",
    "# api_saver._data_restructure(route_df, sites_df, forecast_df)\n",
    "raw_data_forecast = api_saver.save_raw_data(route_df, sites_df, forecast_df)"
   ]
  },
  {
   "cell_type": "code",
   "execution_count": 33,
   "metadata": {},
   "outputs": [
    {
     "data": {
      "text/html": [
       "<div>\n",
       "<style scoped>\n",
       "    .dataframe tbody tr th:only-of-type {\n",
       "        vertical-align: middle;\n",
       "    }\n",
       "\n",
       "    .dataframe tbody tr th {\n",
       "        vertical-align: top;\n",
       "    }\n",
       "\n",
       "    .dataframe thead th {\n",
       "        text-align: right;\n",
       "    }\n",
       "</style>\n",
       "<table border=\"1\" class=\"dataframe\">\n",
       "  <thead>\n",
       "    <tr style=\"text-align: right;\">\n",
       "      <th></th>\n",
       "      <th></th>\n",
       "      <th>temperature</th>\n",
       "      <th>globalIrradiance</th>\n",
       "    </tr>\n",
       "    <tr>\n",
       "      <th>cumDistance</th>\n",
       "      <th>time</th>\n",
       "      <th></th>\n",
       "      <th></th>\n",
       "    </tr>\n",
       "  </thead>\n",
       "  <tbody>\n",
       "    <tr>\n",
       "      <th rowspan=\"5\" valign=\"top\">4.070956e+02</th>\n",
       "      <th>2023-09-13 01:45:00</th>\n",
       "      <td>21.850</td>\n",
       "      <td>0.0</td>\n",
       "    </tr>\n",
       "    <tr>\n",
       "      <th>2023-09-13 02:00:00</th>\n",
       "      <td>21.700</td>\n",
       "      <td>0.0</td>\n",
       "    </tr>\n",
       "    <tr>\n",
       "      <th>2023-09-13 02:15:00</th>\n",
       "      <td>21.550</td>\n",
       "      <td>0.0</td>\n",
       "    </tr>\n",
       "    <tr>\n",
       "      <th>2023-09-13 02:30:00</th>\n",
       "      <td>21.400</td>\n",
       "      <td>0.0</td>\n",
       "    </tr>\n",
       "    <tr>\n",
       "      <th>2023-09-13 02:45:00</th>\n",
       "      <td>21.325</td>\n",
       "      <td>0.0</td>\n",
       "    </tr>\n",
       "    <tr>\n",
       "      <th>...</th>\n",
       "      <th>...</th>\n",
       "      <td>...</td>\n",
       "      <td>...</td>\n",
       "    </tr>\n",
       "    <tr>\n",
       "      <th rowspan=\"5\" valign=\"top\">3.030829e+06</th>\n",
       "      <th>2023-09-13 02:15:00</th>\n",
       "      <td>12.950</td>\n",
       "      <td>0.0</td>\n",
       "    </tr>\n",
       "    <tr>\n",
       "      <th>2023-09-13 02:30:00</th>\n",
       "      <td>12.900</td>\n",
       "      <td>0.0</td>\n",
       "    </tr>\n",
       "    <tr>\n",
       "      <th>2023-09-13 02:45:00</th>\n",
       "      <td>12.750</td>\n",
       "      <td>0.0</td>\n",
       "    </tr>\n",
       "    <tr>\n",
       "      <th>2023-09-13 03:00:00</th>\n",
       "      <td>12.600</td>\n",
       "      <td>0.0</td>\n",
       "    </tr>\n",
       "    <tr>\n",
       "      <th>2023-09-13 03:15:00</th>\n",
       "      <td>12.450</td>\n",
       "      <td>0.0</td>\n",
       "    </tr>\n",
       "  </tbody>\n",
       "</table>\n",
       "<p>70 rows × 2 columns</p>\n",
       "</div>"
      ],
      "text/plain": [
       "                                  temperature  globalIrradiance\n",
       "cumDistance  time                                              \n",
       "4.070956e+02 2023-09-13 01:45:00       21.850               0.0\n",
       "             2023-09-13 02:00:00       21.700               0.0\n",
       "             2023-09-13 02:15:00       21.550               0.0\n",
       "             2023-09-13 02:30:00       21.400               0.0\n",
       "             2023-09-13 02:45:00       21.325               0.0\n",
       "...                                       ...               ...\n",
       "3.030829e+06 2023-09-13 02:15:00       12.950               0.0\n",
       "             2023-09-13 02:30:00       12.900               0.0\n",
       "             2023-09-13 02:45:00       12.750               0.0\n",
       "             2023-09-13 03:00:00       12.600               0.0\n",
       "             2023-09-13 03:15:00       12.450               0.0\n",
       "\n",
       "[70 rows x 2 columns]"
      ]
     },
     "execution_count": 33,
     "metadata": {},
     "output_type": "execute_result"
    }
   ],
   "source": [
    "from forecast_preprocessor import ForecastPreprocessor\n",
    "forecast_preprocessor = ForecastPreprocessor()\n",
    "hours_in_advance = 9\n",
    "forecast_preprocessor.forecast_preprocessing(route_df, raw_data_forecast, hours_in_advance, print_is_requested=False)"
   ]
  }
 ],
 "metadata": {
  "kernelspec": {
   "display_name": "Python 3",
   "language": "python",
   "name": "python3"
  },
  "language_info": {
   "codemirror_mode": {
    "name": "ipython",
    "version": 3
   },
   "file_extension": ".py",
   "mimetype": "text/x-python",
   "name": "python",
   "nbconvert_exporter": "python",
   "pygments_lexer": "ipython3",
   "version": "3.11.5"
  },
  "orig_nbformat": 4
 },
 "nbformat": 4,
 "nbformat_minor": 2
}
