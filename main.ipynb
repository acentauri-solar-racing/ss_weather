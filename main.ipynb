{
 "cells": [
  {
   "cell_type": "code",
   "execution_count": 1,
   "metadata": {},
   "outputs": [],
   "source": [
    "import pandas as pd\n",
    "import numpy as np\n",
    "\n",
    "# from api_data import ApiData\n",
    "from api_executer import ApiExecuter\n",
    "from api_requester import ApiRequester\n",
    "from api_parser import ApiParser\n",
    "from FUNCTIONS import get_current_location"
   ]
  },
  {
   "cell_type": "code",
   "execution_count": null,
   "metadata": {},
   "outputs": [],
   "source": [
    "location = get_current_location()\n",
    "if location:\n",
    "    latitude, longitude = location\n",
    "    print(f'Current Latitude: {latitude}, Longitude: {longitude}')\n",
    "else:\n",
    "    print('Failed to determine current location.')"
   ]
  },
  {
   "cell_type": "code",
   "execution_count": 2,
   "metadata": {},
   "outputs": [],
   "source": [
    "from api_route import ApiRoute\n",
    "current_position = {'longitude': 130.844161,\n",
    "                    'latitude': -12.456694}\n",
    "final_position = {'longitude': 130.890346,\n",
    "                  'latitude': -12.432393}\n",
    "delta_spacing = 2000.0 # in meters\n",
    "number_sites = 10\n",
    "route = ApiRoute()\n",
    "# dataframe = route.get_route_data(current_position)\n",
    "dataframe = route.get_route_data(current_position, number_sites=number_sites, delta_spacing=delta_spacing)\n",
    "# dataframe = route.get_route_data(current_position=current_position, final_position=final_position, number_sites=number_sites)"
   ]
  },
  {
   "cell_type": "code",
   "execution_count": 3,
   "metadata": {},
   "outputs": [
    {
     "name": "stdout",
     "output_type": "stream",
     "text": [
      "Response status from siteinfo: OK.\n",
      "Current sites' info has been retrieved. \n",
      " Empty DataFrame\n",
      "Columns: [name, site_id, longitude, latitude, altitude]\n",
      "Index: []\n"
     ]
    }
   ],
   "source": [
    "api_parser = ApiParser()\n",
    "api_requester = ApiRequester(parser=api_parser)\n",
    "api_executer = ApiExecuter(requester=api_requester)"
   ]
  },
  {
   "cell_type": "code",
   "execution_count": null,
   "metadata": {},
   "outputs": [],
   "source": [
    "# api_executer.add_sites(route.route_data)\n",
    "print(number_sites)"
   ]
  },
  {
   "cell_type": "code",
   "execution_count": null,
   "metadata": {},
   "outputs": [],
   "source": [
    "print(api_requester.forecast_sites)"
   ]
  },
  {
   "cell_type": "code",
   "execution_count": 4,
   "metadata": {},
   "outputs": [
    {
     "name": "stdout",
     "output_type": "stream",
     "text": [
      "Response status from siteadd: OK.\n",
      "Add site has been saved: \n",
      "   name site_id  longitude  latitude altitude\n",
      "0    0  585259    130.844  -12.4567       32\n",
      "Site with name 0 has been added in the API.\n",
      "Response status from siteadd: OK.\n",
      "Add site has been saved: \n",
      "   name site_id  longitude  latitude altitude\n",
      "0    0  585259    130.844  -12.4567       32\n",
      "1    1  585260    130.849  -12.4401       16\n",
      "Site with name 1 has been added in the API.\n",
      "Response status from siteadd: OK.\n",
      "Add site has been saved: \n",
      "   name site_id  longitude  latitude altitude\n",
      "0    0  585259    130.844  -12.4567       32\n",
      "1    1  585260    130.849  -12.4401       16\n",
      "2    2  585261    130.865  -12.4325       14\n",
      "Site with name 2 has been added in the API.\n",
      "Response status from siteadd: OK.\n",
      "Add site has been saved: \n",
      "   name site_id  longitude  latitude altitude\n",
      "0    0  585259    130.844  -12.4567       32\n",
      "1    1  585260    130.849  -12.4401       16\n",
      "2    2  585261    130.865  -12.4325       14\n",
      "3    3  585262    130.883  -12.4324       24\n",
      "Site with name 3 has been added in the API.\n",
      "Response status from siteadd: OK.\n",
      "Add site has been saved: \n",
      "   name site_id  longitude  latitude altitude\n",
      "0    0  585259    130.844  -12.4567       32\n",
      "1    1  585260    130.849  -12.4401       16\n",
      "2    2  585261    130.865  -12.4325       14\n",
      "3    3  585262    130.883  -12.4324       24\n",
      "4    4  585263    130.900  -12.4372       17\n",
      "Site with name 4 has been added in the API.\n",
      "Response status from siteadd: OK.\n",
      "Add site has been saved: \n",
      "   name site_id  longitude  latitude altitude\n",
      "0    0  585259    130.844  -12.4567       32\n",
      "1    1  585260    130.849  -12.4401       16\n",
      "2    2  585261    130.865  -12.4325       14\n",
      "3    3  585262    130.883  -12.4324       24\n",
      "4    4  585263    130.900  -12.4372       17\n",
      "5    5  585264    130.917  -12.4445       37\n",
      "Site with name 5 has been added in the API.\n",
      "Response status from siteadd: OK.\n",
      "Add site has been saved: \n",
      "   name site_id  longitude  latitude altitude\n",
      "0    0  585259    130.844  -12.4567       32\n",
      "1    1  585260    130.849  -12.4401       16\n",
      "2    2  585261    130.865  -12.4325       14\n",
      "3    3  585262    130.883  -12.4324       24\n",
      "4    4  585263    130.900  -12.4372       17\n",
      "5    5  585264    130.917  -12.4445       37\n",
      "6    6  585265    130.932  -12.4516       20\n",
      "Site with name 6 has been added in the API.\n",
      "Response status from siteadd: OK.\n",
      "Add site has been saved: \n",
      "   name site_id  longitude  latitude altitude\n",
      "0    0  585259    130.844  -12.4567       32\n",
      "1    1  585260    130.849  -12.4401       16\n",
      "2    2  585261    130.865  -12.4325       14\n",
      "3    3  585262    130.883  -12.4324       24\n",
      "4    4  585263    130.900  -12.4372       17\n",
      "5    5  585264    130.917  -12.4445       37\n",
      "6    6  585265    130.932  -12.4516       20\n",
      "7    7  585266    130.949  -12.4583       18\n",
      "Site with name 7 has been added in the API.\n",
      "Response status from siteadd: OK.\n",
      "Add site has been saved: \n",
      "   name site_id  longitude  latitude altitude\n",
      "0    0  585259    130.844  -12.4567       32\n",
      "1    1  585260    130.849  -12.4401       16\n",
      "2    2  585261    130.865  -12.4325       14\n",
      "3    3  585262    130.883  -12.4324       24\n",
      "4    4  585263    130.900  -12.4372       17\n",
      "5    5  585264    130.917  -12.4445       37\n",
      "6    6  585265    130.932  -12.4516       20\n",
      "7    7  585266    130.949  -12.4583       18\n",
      "8    8  585267    130.966  -12.4639       34\n",
      "Site with name 8 has been added in the API.\n",
      "Response status from siteadd: OK.\n",
      "Add site has been saved: \n",
      "   name site_id  longitude  latitude altitude\n",
      "0    0  585259    130.844  -12.4567       32\n",
      "1    1  585260    130.849  -12.4401       16\n",
      "2    2  585261    130.865  -12.4325       14\n",
      "3    3  585262    130.883  -12.4324       24\n",
      "4    4  585263    130.900  -12.4372       17\n",
      "5    5  585264    130.917  -12.4445       37\n",
      "6    6  585265    130.932  -12.4516       20\n",
      "7    7  585266    130.949  -12.4583       18\n",
      "8    8  585267    130.966  -12.4639       34\n",
      "9    9  585268    130.983  -12.4693       34\n",
      "Site with name 9 has been added in the API.\n",
      "Requested sites have been added: \n",
      "   name site_id  longitude  latitude altitude\n",
      "0    0  585259    130.844  -12.4567       32\n",
      "1    1  585260    130.849  -12.4401       16\n",
      "2    2  585261    130.865  -12.4325       14\n",
      "3    3  585262    130.883  -12.4324       24\n",
      "4    4  585263    130.900  -12.4372       17\n",
      "5    5  585264    130.917  -12.4445       37\n",
      "6    6  585265    130.932  -12.4516       20\n",
      "7    7  585266    130.949  -12.4583       18\n",
      "8    8  585267    130.966  -12.4639       34\n",
      "9    9  585268    130.983  -12.4693       34\n"
     ]
    }
   ],
   "source": [
    "api_executer.add_sites(dataframe, print_is_requested=True)\n",
    "# api_executer.delete_all_sites()"
   ]
  },
  {
   "cell_type": "code",
   "execution_count": null,
   "metadata": {},
   "outputs": [],
   "source": [
    "position = {\n",
    "    'latitude': -13.0,\n",
    "    'longitude': 134.0\n",
    "}\n",
    "api_requester.get_site_edit(584978, True, name=\"aa\")\n",
    "api_requester.get_site_edit(584979, True, position=position)\n",
    "api_requester.get_site_edit(584980, True, name=\"df\", position=position)"
   ]
  },
  {
   "cell_type": "code",
   "execution_count": 5,
   "metadata": {},
   "outputs": [
    {
     "name": "stdout",
     "output_type": "stream",
     "text": [
      "Response status from getforecast: OK.\n"
     ]
    },
    {
     "ename": "AttributeError",
     "evalue": "'list' object has no attribute 'items'",
     "output_type": "error",
     "traceback": [
      "\u001b[1;31m---------------------------------------------------------------------------\u001b[0m",
      "\u001b[1;31mAttributeError\u001b[0m                            Traceback (most recent call last)",
      "Cell \u001b[1;32mIn[5], line 1\u001b[0m\n\u001b[1;32m----> 1\u001b[0m forecasts \u001b[39m=\u001b[39m api_requester\u001b[39m.\u001b[39;49mget_solar_forecast()\n\u001b[0;32m      2\u001b[0m \u001b[39m# forecasts = api_requester.get_solar_forecast_cloudmove()\u001b[39;00m\n\u001b[0;32m      3\u001b[0m \u001b[39mprint\u001b[39m(forecasts)\n",
      "File \u001b[1;32mc:\\Users\\giaco\\Git_Repositories\\aCentauri\\ss_weather\\api_requester.py:280\u001b[0m, in \u001b[0;36mApiRequester.get_solar_forecast\u001b[1;34m(self, print_is_requested)\u001b[0m\n\u001b[0;32m    277\u001b[0m response \u001b[39m=\u001b[39m \u001b[39mself\u001b[39m\u001b[39m.\u001b[39m_send_get_request(variables)\n\u001b[0;32m    279\u001b[0m \u001b[39m# Parse the response\u001b[39;00m\n\u001b[1;32m--> 280\u001b[0m response_df \u001b[39m=\u001b[39m \u001b[39mself\u001b[39;49m\u001b[39m.\u001b[39;49mparser\u001b[39m.\u001b[39;49mparse_solar_forecast_response(response, function_tag\u001b[39m=\u001b[39;49mvariables[\u001b[39m'\u001b[39;49m\u001b[39maction\u001b[39;49m\u001b[39m'\u001b[39;49m])\n\u001b[0;32m    281\u001b[0m \u001b[39m# TODO SITE ID CONVERT TO POSITION?s\u001b[39;00m\n\u001b[0;32m    283\u001b[0m \u001b[39mif\u001b[39;00m print_is_requested:\n",
      "File \u001b[1;32mc:\\Users\\giaco\\Git_Repositories\\aCentauri\\ss_weather\\api_parser.py:97\u001b[0m, in \u001b[0;36mApiParser.parse_solar_forecast_response\u001b[1;34m(self, response, function_tag)\u001b[0m\n\u001b[0;32m     88\u001b[0m response_dict \u001b[39m=\u001b[39m response\u001b[39m.\u001b[39mjson()\n\u001b[0;32m     89\u001b[0m sites_data \u001b[39m=\u001b[39m response_dict[\u001b[39m\"\u001b[39m\u001b[39mpayload\u001b[39m\u001b[39m\"\u001b[39m][\u001b[39m\"\u001b[39m\u001b[39msolarforecast\u001b[39m\u001b[39m\"\u001b[39m]\n\u001b[0;32m     91\u001b[0m data_to_concat \u001b[39m=\u001b[39m [\n\u001b[0;32m     92\u001b[0m     {\n\u001b[0;32m     93\u001b[0m         \u001b[39m'\u001b[39m\u001b[39msite_id\u001b[39m\u001b[39m'\u001b[39m: \u001b[39mint\u001b[39m(site_id),\n\u001b[0;32m     94\u001b[0m         \u001b[39m'\u001b[39m\u001b[39mtime\u001b[39m\u001b[39m'\u001b[39m: datetime\u001b[39m.\u001b[39mstrptime(time, \u001b[39m'\u001b[39m\u001b[39m%\u001b[39m\u001b[39mY-\u001b[39m\u001b[39m%\u001b[39m\u001b[39mm-\u001b[39m\u001b[39m%d\u001b[39;00m\u001b[39m \u001b[39m\u001b[39m%\u001b[39m\u001b[39mH:\u001b[39m\u001b[39m%\u001b[39m\u001b[39mM:\u001b[39m\u001b[39m%\u001b[39m\u001b[39mS\u001b[39m\u001b[39m'\u001b[39m),\n\u001b[0;32m     95\u001b[0m         \u001b[39m*\u001b[39m\u001b[39m*\u001b[39mtime_forecast\n\u001b[0;32m     96\u001b[0m     }\n\u001b[1;32m---> 97\u001b[0m     \u001b[39mfor\u001b[39;00m site_id, site_forecast \u001b[39min\u001b[39;00m sites_data\u001b[39m.\u001b[39;49mitems()\n\u001b[0;32m     98\u001b[0m     \u001b[39mfor\u001b[39;00m time, time_forecast \u001b[39min\u001b[39;00m site_forecast\u001b[39m.\u001b[39mitems()\n\u001b[0;32m     99\u001b[0m ]\n\u001b[0;32m    101\u001b[0m response_df \u001b[39m=\u001b[39m pd\u001b[39m.\u001b[39mDataFrame\u001b[39m.\u001b[39mfrom_records(data_to_concat, index\u001b[39m=\u001b[39m[\u001b[39m'\u001b[39m\u001b[39msite_id\u001b[39m\u001b[39m'\u001b[39m, \u001b[39m'\u001b[39m\u001b[39mtime\u001b[39m\u001b[39m'\u001b[39m])\n\u001b[0;32m    103\u001b[0m \u001b[39mreturn\u001b[39;00m response_df\n",
      "\u001b[1;31mAttributeError\u001b[0m: 'list' object has no attribute 'items'"
     ]
    }
   ],
   "source": [
    "forecasts = api_requester.get_solar_forecast()\n",
    "# forecasts = api_requester.get_solar_forecast_cloudmove()\n",
    "print(forecasts)"
   ]
  },
  {
   "cell_type": "code",
   "execution_count": null,
   "metadata": {},
   "outputs": [],
   "source": [
    "index = forecasts.index\n",
    "\n",
    "times = index.get_level_values('time').hour\n",
    "print(times)\n",
    "\n",
    "# Access the values of time and site_id\n",
    "time_values = index.get_level_values('time')\n",
    "site_id_values = index.get_level_values('site_id')\n",
    "\n",
    "# Print the values\n",
    "print(\"Time values:\", time_values)\n",
    "print(\"Site ID values:\", site_id_values)"
   ]
  },
  {
   "cell_type": "code",
   "execution_count": null,
   "metadata": {},
   "outputs": [],
   "source": [
    "# Extract all 'rr' values for all site_id and time combinations\n",
    "# rr_values = forecasts.loc[:, ('rr', slice(None), slice(None))].droplevel('variable')\n",
    "rr_values = forecasts.loc[:, ('rh')]\n",
    "rr_values = rr_values.to_frame()\n",
    "print(rr_values)\n",
    "print(rr_values.max(), rr_values.min())\n",
    "# # Assuming your MultiIndex DataFrame is named \"forecast_data\"\n",
    "# pivot_table = rr_values.pivot(index='time', columns='site_id', values='tt')\n",
    "# print(pivot_table)\n",
    "rr_values.to_csv('rh_table.csv')\n",
    "\n",
    "# print(rr_values)"
   ]
  },
  {
   "cell_type": "code",
   "execution_count": null,
   "metadata": {},
   "outputs": [],
   "source": []
  }
 ],
 "metadata": {
  "kernelspec": {
   "display_name": "Python 3",
   "language": "python",
   "name": "python3"
  },
  "language_info": {
   "codemirror_mode": {
    "name": "ipython",
    "version": 3
   },
   "file_extension": ".py",
   "mimetype": "text/x-python",
   "name": "python",
   "nbconvert_exporter": "python",
   "pygments_lexer": "ipython3",
   "version": "3.11.5"
  },
  "orig_nbformat": 4
 },
 "nbformat": 4,
 "nbformat_minor": 2
}
